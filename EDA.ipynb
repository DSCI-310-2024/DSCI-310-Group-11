version https://git-lfs.github.com/spec/v1
oid sha256:58c558a12b171c6ba1b6a46510b523663bc1b196b3adbfb4c2954e445732704e
size 488909
