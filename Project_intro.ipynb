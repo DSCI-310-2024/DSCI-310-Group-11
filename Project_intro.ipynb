{
 "cells": [
  {
   "cell_type": "markdown",
   "metadata": {},
   "source": [
    "# DSCI 310 Group 11 Project: Predicting ... \n",
    "\n",
    "Shruti Vijaykumar Seetharam\n",
    "Alex Lin\n",
    "Jackson Siemens\n",
    "Hanlin Zhao\n",
    "\n",
    "## Abstract\n",
    "\n",
    "Our project aims to predict the probability of a wicket on a certain ball in cricket. We will be using a Logistic Regression Model and looking specifically at the prediction probability instead of the prediction itself. \n",
    "\n",
    "TO BE EDITED\n",
    "\n",
    "## Introduction\n",
    "\n",
    "Cricket is a bat and ball sport involving two teams of eleven players each. Originating in the 16th century, Cricket today is commonly played in three formats: Tests, One Day Internationals and T20 Internationals. Our analysis will be specifically focusing on T20 International games and looking at the conditions of those games to analyze our prediction probability. In a T20 game, one team will bat first and set a target number of runs in 20 overs or until 10 wickets are lost. The other team will bat second, and to win the game, they must exceed the target set by the second team in 20 overs or less. There are multiple different ways of getting a wicket, and these can be affected by the following factors:\n",
    "\n",
    "1. Bowler: The skill of a bowler can affect the probability\n",
    "2. Batter: Similarly, the skill of a batter can affect the probability\n",
    "3. Inning: Determines which team is batting and bowling \n",
    "4. Over: An over consists of 6 deliveries thrown by the bowler from one end of the pitch to the batter on the other end. The over can determine how much risk a batter is willing to take with his next ball.\n",
    "5. Ball in the over: The specific delivery in the over. Batters are more likely to take risks towards the end of an over compared to the beginning.\n",
    "6. Runs scored till now: Looks at the amount of runs scored in the inning up until the current ball. Fewer runs scored may mean the batter is more likely to take risks in order to get more.\n",
    "7. Powerplay: A powerplay is when there are fielding restrictions placed on the bowling team, making it harder for them to get a wicket. \n",
    "\n",
    "We will be looking at the above factors along with some others to judge what factors may be best for our model in the Exploratory Data Analysis section. We will be reading our data in json files from the [Cricsheet](https://cricsheet.org/downloads/) website, and converting it to our desired `csv` format using the scripts in the `cricsheet_json_parsing.ipynb` file."
   ]
  }
 ],
 "metadata": {
  "language_info": {
   "name": "python"
  }
 },
 "nbformat": 4,
 "nbformat_minor": 2
}
