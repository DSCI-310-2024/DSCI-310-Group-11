{
 "cells": [
  {
   "cell_type": "markdown",
   "id": "8f7834d4-3dcd-4c19-9f4d-f3290294505a",
   "metadata": {},
   "source": [
    "# DSCI 310 Group 11 Project: Predicting Probability of Wicket on a Delivery in Cricket\n",
    "\n",
    "Alex Lin\n",
    "\n",
    "Jackson Siemens\n",
    "\n",
    "Shruti Vijaykumar Seetharam\n",
    "\n",
    "Hanlin Zhao"
   ]
  },
  {
   "cell_type": "markdown",
   "id": "5266cdaf",
   "metadata": {},
   "source": [
    "## Abstract\n",
    "\n",
    "Our project aims to predict the probability of a wicket on a delivery in Cricket. We are going to look at ball-by-ball factors that could potentially affect this probability and see how the wicket probability changes with game conditions.\n"
   ]
  },
  {
   "cell_type": "markdown",
   "id": "95f41e28-6b3f-4907-937f-6c9805154ff7",
   "metadata": {},
   "source": [
    "## Introduction\n",
    "\n",
    "Cricket is a bat and ball sport involving two teams of eleven players each. Originating in the 16th century, Cricket today is commonly played in three formats: Tests, One Day Internationals and T20 Internationals. Our analysis will be specifically focusing on T20 International games and looking at the conditions of those games to analyze our prediction probability. In a T20 game, one team will bat first and set a target number of runs in 20 overs or until 10 wickets are lost. The other team will bat second, and to win the game, they must exceed the target set by the second team in 20 overs or less. Each of the 11 players in the team will need to bat as more wickets are lost, but some bat more often than others, given all wickets are not always lost. Only some players are bowlers. There are multiple different ways of getting a wicket, and these can be affected by the following factors:\n",
    "\n",
    "1. Bowler: The skill of a bowler can affect the probability\n",
    "2. Batter: Similarly, the skill of a batter can affect the probability\n",
    "3. Inning: Determines which team is batting and bowling\n",
    "4. Over: An over consists of 6 deliveries thrown by the bowler from one end of the pitch to the batter on the other end. The over can determine how much risk a batter is willing to take with his next ball.\n",
    "5. Ball in the over: The specific delivery in the over. Batters are more likely to take risks towards the end of an over compared to the beginning.\n",
    "6. Runs scored till now: Looks at the amount of runs scored in the inning up until the current ball. Fewer runs scored may mean the batter is more likely to take risks in order to get more.\n",
    "7. Powerplay: A powerplay is when there are fielding restrictions placed on the bowling team, making it harder for them to get a wicket. \n",
    "\n",
    "We will be looking at the above factors along with some others to judge what factors may be best for our model in the Exploratory Data Analysis section. We will be reading our data in json files from the [Cricsheet](https://cricsheet.org/downloads/) website, and converting it to our desired `csv` format using the scripts in the `cricsheet_json_parsing.ipynb` file which can be found in the `src` folder. "
   ]
  },
  {
   "cell_type": "code",
   "execution_count": 1,
   "id": "e887195f-ec10-4aa6-a5dd-829ee09d973d",
   "metadata": {},
   "outputs": [
    {
     "data": {
      "text/plain": [
       "RendererRegistry.enable('mimetype')"
      ]
     },
     "execution_count": 1,
     "metadata": {},
     "output_type": "execute_result"
    }
   ],
   "source": [
    "import numpy as np\n",
    "import pandas as pd\n",
    "import altair as alt\n",
    "import matplotlib.pyplot as plt\n",
    "import sklearn.metrics as metrics\n",
    "from sklearn.model_selection import train_test_split, cross_validate\n",
    "from sklearn.linear_model import LogisticRegression\n",
    "from sklearn.preprocessing import StandardScaler, OneHotEncoder\n",
    "from sklearn.pipeline import make_pipeline\n",
    "from sklearn.compose import make_column_transformer\n",
    "\n",
    "alt.data_transformers.enable(\"vegafusion\")\n",
    "alt.renderers.enable('jupyterlab')\n",
    "alt.renderers.enable('mimetype')"
   ]
  },
  {
   "cell_type": "markdown",
   "id": "b9ff23f4-a5e4-44d1-adf0-07a9c9fe6d3e",
   "metadata": {},
   "source": [
    "## Methods\n",
    "\n",
    "Firstly, we will perform some exploratory data analysis on the training data to get a better understanding of the dataset and what relationships there are with our target variable.\n",
    "\n",
    "### Exploratory Data Analysis"
   ]
  },
  {
   "cell_type": "code",
   "execution_count": 2,
   "id": "bb2a9cfa-2b4a-4d32-bbd2-f73f25b4038c",
   "metadata": {
    "scrolled": true
   },
   "outputs": [
    {
     "data": {
      "text/html": [
       "<style type=\"text/css\">\n",
       "#T_5044c caption {\n",
       "  caption-side: bottom;\n",
       "  font-size: 1.25em;\n",
       "}\n",
       "</style>\n",
       "<table id=\"T_5044c\">\n",
       "  <caption>Table 1: Overview of full dataset</caption>\n",
       "  <thead>\n",
       "    <tr>\n",
       "      <th class=\"blank level0\" >&nbsp;</th>\n",
       "      <th id=\"T_5044c_level0_col0\" class=\"col_heading level0 col0\" >game_id</th>\n",
       "      <th id=\"T_5044c_level0_col1\" class=\"col_heading level0 col1\" >season</th>\n",
       "      <th id=\"T_5044c_level0_col2\" class=\"col_heading level0 col2\" >team</th>\n",
       "      <th id=\"T_5044c_level0_col3\" class=\"col_heading level0 col3\" >over</th>\n",
       "      <th id=\"T_5044c_level0_col4\" class=\"col_heading level0 col4\" >batter</th>\n",
       "      <th id=\"T_5044c_level0_col5\" class=\"col_heading level0 col5\" >batter_id</th>\n",
       "      <th id=\"T_5044c_level0_col6\" class=\"col_heading level0 col6\" >bowler</th>\n",
       "      <th id=\"T_5044c_level0_col7\" class=\"col_heading level0 col7\" >bowler_id</th>\n",
       "      <th id=\"T_5044c_level0_col8\" class=\"col_heading level0 col8\" >non_striker</th>\n",
       "      <th id=\"T_5044c_level0_col9\" class=\"col_heading level0 col9\" >non_striker_id</th>\n",
       "      <th id=\"T_5044c_level0_col10\" class=\"col_heading level0 col10\" >wides</th>\n",
       "      <th id=\"T_5044c_level0_col11\" class=\"col_heading level0 col11\" >noballs</th>\n",
       "      <th id=\"T_5044c_level0_col12\" class=\"col_heading level0 col12\" >legbyes</th>\n",
       "      <th id=\"T_5044c_level0_col13\" class=\"col_heading level0 col13\" >byes</th>\n",
       "      <th id=\"T_5044c_level0_col14\" class=\"col_heading level0 col14\" >wicket</th>\n",
       "      <th id=\"T_5044c_level0_col15\" class=\"col_heading level0 col15\" >player_out</th>\n",
       "      <th id=\"T_5044c_level0_col16\" class=\"col_heading level0 col16\" >player_out_id</th>\n",
       "      <th id=\"T_5044c_level0_col17\" class=\"col_heading level0 col17\" >fielders_name</th>\n",
       "      <th id=\"T_5044c_level0_col18\" class=\"col_heading level0 col18\" >fielders_id</th>\n",
       "      <th id=\"T_5044c_level0_col19\" class=\"col_heading level0 col19\" >wicket_type</th>\n",
       "      <th id=\"T_5044c_level0_col20\" class=\"col_heading level0 col20\" >runs_batter</th>\n",
       "      <th id=\"T_5044c_level0_col21\" class=\"col_heading level0 col21\" >runs_extras</th>\n",
       "      <th id=\"T_5044c_level0_col22\" class=\"col_heading level0 col22\" >runs_total</th>\n",
       "      <th id=\"T_5044c_level0_col23\" class=\"col_heading level0 col23\" >team_over</th>\n",
       "      <th id=\"T_5044c_level0_col24\" class=\"col_heading level0 col24\" >over_ball</th>\n",
       "      <th id=\"T_5044c_level0_col25\" class=\"col_heading level0 col25\" >inning</th>\n",
       "      <th id=\"T_5044c_level0_col26\" class=\"col_heading level0 col26\" >runs_cumulative</th>\n",
       "      <th id=\"T_5044c_level0_col27\" class=\"col_heading level0 col27\" >powerplay</th>\n",
       "    </tr>\n",
       "  </thead>\n",
       "  <tbody>\n",
       "    <tr>\n",
       "      <th id=\"T_5044c_level0_row0\" class=\"row_heading level0 row0\" >0</th>\n",
       "      <td id=\"T_5044c_row0_col0\" class=\"data row0 col0\" >1001349</td>\n",
       "      <td id=\"T_5044c_row0_col1\" class=\"data row0 col1\" >2016/17</td>\n",
       "      <td id=\"T_5044c_row0_col2\" class=\"data row0 col2\" >Australia</td>\n",
       "      <td id=\"T_5044c_row0_col3\" class=\"data row0 col3\" >0</td>\n",
       "      <td id=\"T_5044c_row0_col4\" class=\"data row0 col4\" >AJ Finch</td>\n",
       "      <td id=\"T_5044c_row0_col5\" class=\"data row0 col5\" >b8d490fd</td>\n",
       "      <td id=\"T_5044c_row0_col6\" class=\"data row0 col6\" >SL Malinga</td>\n",
       "      <td id=\"T_5044c_row0_col7\" class=\"data row0 col7\" >a12e1d51</td>\n",
       "      <td id=\"T_5044c_row0_col8\" class=\"data row0 col8\" >M Klinger</td>\n",
       "      <td id=\"T_5044c_row0_col9\" class=\"data row0 col9\" >b970a03f</td>\n",
       "      <td id=\"T_5044c_row0_col10\" class=\"data row0 col10\" >0</td>\n",
       "      <td id=\"T_5044c_row0_col11\" class=\"data row0 col11\" >0</td>\n",
       "      <td id=\"T_5044c_row0_col12\" class=\"data row0 col12\" >0</td>\n",
       "      <td id=\"T_5044c_row0_col13\" class=\"data row0 col13\" >0</td>\n",
       "      <td id=\"T_5044c_row0_col14\" class=\"data row0 col14\" >0</td>\n",
       "      <td id=\"T_5044c_row0_col15\" class=\"data row0 col15\" >nan</td>\n",
       "      <td id=\"T_5044c_row0_col16\" class=\"data row0 col16\" >nan</td>\n",
       "      <td id=\"T_5044c_row0_col17\" class=\"data row0 col17\" >nan</td>\n",
       "      <td id=\"T_5044c_row0_col18\" class=\"data row0 col18\" >nan</td>\n",
       "      <td id=\"T_5044c_row0_col19\" class=\"data row0 col19\" >nan</td>\n",
       "      <td id=\"T_5044c_row0_col20\" class=\"data row0 col20\" >0</td>\n",
       "      <td id=\"T_5044c_row0_col21\" class=\"data row0 col21\" >0</td>\n",
       "      <td id=\"T_5044c_row0_col22\" class=\"data row0 col22\" >0</td>\n",
       "      <td id=\"T_5044c_row0_col23\" class=\"data row0 col23\" >Australia_0</td>\n",
       "      <td id=\"T_5044c_row0_col24\" class=\"data row0 col24\" >1</td>\n",
       "      <td id=\"T_5044c_row0_col25\" class=\"data row0 col25\" >1</td>\n",
       "      <td id=\"T_5044c_row0_col26\" class=\"data row0 col26\" >0</td>\n",
       "      <td id=\"T_5044c_row0_col27\" class=\"data row0 col27\" >1</td>\n",
       "    </tr>\n",
       "    <tr>\n",
       "      <th id=\"T_5044c_level0_row1\" class=\"row_heading level0 row1\" >1</th>\n",
       "      <td id=\"T_5044c_row1_col0\" class=\"data row1 col0\" >1001349</td>\n",
       "      <td id=\"T_5044c_row1_col1\" class=\"data row1 col1\" >2016/17</td>\n",
       "      <td id=\"T_5044c_row1_col2\" class=\"data row1 col2\" >Australia</td>\n",
       "      <td id=\"T_5044c_row1_col3\" class=\"data row1 col3\" >0</td>\n",
       "      <td id=\"T_5044c_row1_col4\" class=\"data row1 col4\" >AJ Finch</td>\n",
       "      <td id=\"T_5044c_row1_col5\" class=\"data row1 col5\" >b8d490fd</td>\n",
       "      <td id=\"T_5044c_row1_col6\" class=\"data row1 col6\" >SL Malinga</td>\n",
       "      <td id=\"T_5044c_row1_col7\" class=\"data row1 col7\" >a12e1d51</td>\n",
       "      <td id=\"T_5044c_row1_col8\" class=\"data row1 col8\" >M Klinger</td>\n",
       "      <td id=\"T_5044c_row1_col9\" class=\"data row1 col9\" >b970a03f</td>\n",
       "      <td id=\"T_5044c_row1_col10\" class=\"data row1 col10\" >0</td>\n",
       "      <td id=\"T_5044c_row1_col11\" class=\"data row1 col11\" >0</td>\n",
       "      <td id=\"T_5044c_row1_col12\" class=\"data row1 col12\" >0</td>\n",
       "      <td id=\"T_5044c_row1_col13\" class=\"data row1 col13\" >0</td>\n",
       "      <td id=\"T_5044c_row1_col14\" class=\"data row1 col14\" >0</td>\n",
       "      <td id=\"T_5044c_row1_col15\" class=\"data row1 col15\" >nan</td>\n",
       "      <td id=\"T_5044c_row1_col16\" class=\"data row1 col16\" >nan</td>\n",
       "      <td id=\"T_5044c_row1_col17\" class=\"data row1 col17\" >nan</td>\n",
       "      <td id=\"T_5044c_row1_col18\" class=\"data row1 col18\" >nan</td>\n",
       "      <td id=\"T_5044c_row1_col19\" class=\"data row1 col19\" >nan</td>\n",
       "      <td id=\"T_5044c_row1_col20\" class=\"data row1 col20\" >0</td>\n",
       "      <td id=\"T_5044c_row1_col21\" class=\"data row1 col21\" >0</td>\n",
       "      <td id=\"T_5044c_row1_col22\" class=\"data row1 col22\" >0</td>\n",
       "      <td id=\"T_5044c_row1_col23\" class=\"data row1 col23\" >Australia_0</td>\n",
       "      <td id=\"T_5044c_row1_col24\" class=\"data row1 col24\" >2</td>\n",
       "      <td id=\"T_5044c_row1_col25\" class=\"data row1 col25\" >1</td>\n",
       "      <td id=\"T_5044c_row1_col26\" class=\"data row1 col26\" >0</td>\n",
       "      <td id=\"T_5044c_row1_col27\" class=\"data row1 col27\" >1</td>\n",
       "    </tr>\n",
       "    <tr>\n",
       "      <th id=\"T_5044c_level0_row2\" class=\"row_heading level0 row2\" >2</th>\n",
       "      <td id=\"T_5044c_row2_col0\" class=\"data row2 col0\" >1001349</td>\n",
       "      <td id=\"T_5044c_row2_col1\" class=\"data row2 col1\" >2016/17</td>\n",
       "      <td id=\"T_5044c_row2_col2\" class=\"data row2 col2\" >Australia</td>\n",
       "      <td id=\"T_5044c_row2_col3\" class=\"data row2 col3\" >0</td>\n",
       "      <td id=\"T_5044c_row2_col4\" class=\"data row2 col4\" >AJ Finch</td>\n",
       "      <td id=\"T_5044c_row2_col5\" class=\"data row2 col5\" >b8d490fd</td>\n",
       "      <td id=\"T_5044c_row2_col6\" class=\"data row2 col6\" >SL Malinga</td>\n",
       "      <td id=\"T_5044c_row2_col7\" class=\"data row2 col7\" >a12e1d51</td>\n",
       "      <td id=\"T_5044c_row2_col8\" class=\"data row2 col8\" >M Klinger</td>\n",
       "      <td id=\"T_5044c_row2_col9\" class=\"data row2 col9\" >b970a03f</td>\n",
       "      <td id=\"T_5044c_row2_col10\" class=\"data row2 col10\" >0</td>\n",
       "      <td id=\"T_5044c_row2_col11\" class=\"data row2 col11\" >0</td>\n",
       "      <td id=\"T_5044c_row2_col12\" class=\"data row2 col12\" >0</td>\n",
       "      <td id=\"T_5044c_row2_col13\" class=\"data row2 col13\" >0</td>\n",
       "      <td id=\"T_5044c_row2_col14\" class=\"data row2 col14\" >0</td>\n",
       "      <td id=\"T_5044c_row2_col15\" class=\"data row2 col15\" >nan</td>\n",
       "      <td id=\"T_5044c_row2_col16\" class=\"data row2 col16\" >nan</td>\n",
       "      <td id=\"T_5044c_row2_col17\" class=\"data row2 col17\" >nan</td>\n",
       "      <td id=\"T_5044c_row2_col18\" class=\"data row2 col18\" >nan</td>\n",
       "      <td id=\"T_5044c_row2_col19\" class=\"data row2 col19\" >nan</td>\n",
       "      <td id=\"T_5044c_row2_col20\" class=\"data row2 col20\" >1</td>\n",
       "      <td id=\"T_5044c_row2_col21\" class=\"data row2 col21\" >0</td>\n",
       "      <td id=\"T_5044c_row2_col22\" class=\"data row2 col22\" >1</td>\n",
       "      <td id=\"T_5044c_row2_col23\" class=\"data row2 col23\" >Australia_0</td>\n",
       "      <td id=\"T_5044c_row2_col24\" class=\"data row2 col24\" >3</td>\n",
       "      <td id=\"T_5044c_row2_col25\" class=\"data row2 col25\" >1</td>\n",
       "      <td id=\"T_5044c_row2_col26\" class=\"data row2 col26\" >1</td>\n",
       "      <td id=\"T_5044c_row2_col27\" class=\"data row2 col27\" >1</td>\n",
       "    </tr>\n",
       "    <tr>\n",
       "      <th id=\"T_5044c_level0_row3\" class=\"row_heading level0 row3\" >3</th>\n",
       "      <td id=\"T_5044c_row3_col0\" class=\"data row3 col0\" >1001349</td>\n",
       "      <td id=\"T_5044c_row3_col1\" class=\"data row3 col1\" >2016/17</td>\n",
       "      <td id=\"T_5044c_row3_col2\" class=\"data row3 col2\" >Australia</td>\n",
       "      <td id=\"T_5044c_row3_col3\" class=\"data row3 col3\" >0</td>\n",
       "      <td id=\"T_5044c_row3_col4\" class=\"data row3 col4\" >M Klinger</td>\n",
       "      <td id=\"T_5044c_row3_col5\" class=\"data row3 col5\" >b970a03f</td>\n",
       "      <td id=\"T_5044c_row3_col6\" class=\"data row3 col6\" >SL Malinga</td>\n",
       "      <td id=\"T_5044c_row3_col7\" class=\"data row3 col7\" >a12e1d51</td>\n",
       "      <td id=\"T_5044c_row3_col8\" class=\"data row3 col8\" >AJ Finch</td>\n",
       "      <td id=\"T_5044c_row3_col9\" class=\"data row3 col9\" >b8d490fd</td>\n",
       "      <td id=\"T_5044c_row3_col10\" class=\"data row3 col10\" >0</td>\n",
       "      <td id=\"T_5044c_row3_col11\" class=\"data row3 col11\" >0</td>\n",
       "      <td id=\"T_5044c_row3_col12\" class=\"data row3 col12\" >0</td>\n",
       "      <td id=\"T_5044c_row3_col13\" class=\"data row3 col13\" >0</td>\n",
       "      <td id=\"T_5044c_row3_col14\" class=\"data row3 col14\" >0</td>\n",
       "      <td id=\"T_5044c_row3_col15\" class=\"data row3 col15\" >nan</td>\n",
       "      <td id=\"T_5044c_row3_col16\" class=\"data row3 col16\" >nan</td>\n",
       "      <td id=\"T_5044c_row3_col17\" class=\"data row3 col17\" >nan</td>\n",
       "      <td id=\"T_5044c_row3_col18\" class=\"data row3 col18\" >nan</td>\n",
       "      <td id=\"T_5044c_row3_col19\" class=\"data row3 col19\" >nan</td>\n",
       "      <td id=\"T_5044c_row3_col20\" class=\"data row3 col20\" >2</td>\n",
       "      <td id=\"T_5044c_row3_col21\" class=\"data row3 col21\" >0</td>\n",
       "      <td id=\"T_5044c_row3_col22\" class=\"data row3 col22\" >2</td>\n",
       "      <td id=\"T_5044c_row3_col23\" class=\"data row3 col23\" >Australia_0</td>\n",
       "      <td id=\"T_5044c_row3_col24\" class=\"data row3 col24\" >4</td>\n",
       "      <td id=\"T_5044c_row3_col25\" class=\"data row3 col25\" >1</td>\n",
       "      <td id=\"T_5044c_row3_col26\" class=\"data row3 col26\" >3</td>\n",
       "      <td id=\"T_5044c_row3_col27\" class=\"data row3 col27\" >1</td>\n",
       "    </tr>\n",
       "    <tr>\n",
       "      <th id=\"T_5044c_level0_row4\" class=\"row_heading level0 row4\" >4</th>\n",
       "      <td id=\"T_5044c_row4_col0\" class=\"data row4 col0\" >1001349</td>\n",
       "      <td id=\"T_5044c_row4_col1\" class=\"data row4 col1\" >2016/17</td>\n",
       "      <td id=\"T_5044c_row4_col2\" class=\"data row4 col2\" >Australia</td>\n",
       "      <td id=\"T_5044c_row4_col3\" class=\"data row4 col3\" >0</td>\n",
       "      <td id=\"T_5044c_row4_col4\" class=\"data row4 col4\" >M Klinger</td>\n",
       "      <td id=\"T_5044c_row4_col5\" class=\"data row4 col5\" >b970a03f</td>\n",
       "      <td id=\"T_5044c_row4_col6\" class=\"data row4 col6\" >SL Malinga</td>\n",
       "      <td id=\"T_5044c_row4_col7\" class=\"data row4 col7\" >a12e1d51</td>\n",
       "      <td id=\"T_5044c_row4_col8\" class=\"data row4 col8\" >AJ Finch</td>\n",
       "      <td id=\"T_5044c_row4_col9\" class=\"data row4 col9\" >b8d490fd</td>\n",
       "      <td id=\"T_5044c_row4_col10\" class=\"data row4 col10\" >0</td>\n",
       "      <td id=\"T_5044c_row4_col11\" class=\"data row4 col11\" >0</td>\n",
       "      <td id=\"T_5044c_row4_col12\" class=\"data row4 col12\" >0</td>\n",
       "      <td id=\"T_5044c_row4_col13\" class=\"data row4 col13\" >0</td>\n",
       "      <td id=\"T_5044c_row4_col14\" class=\"data row4 col14\" >0</td>\n",
       "      <td id=\"T_5044c_row4_col15\" class=\"data row4 col15\" >nan</td>\n",
       "      <td id=\"T_5044c_row4_col16\" class=\"data row4 col16\" >nan</td>\n",
       "      <td id=\"T_5044c_row4_col17\" class=\"data row4 col17\" >nan</td>\n",
       "      <td id=\"T_5044c_row4_col18\" class=\"data row4 col18\" >nan</td>\n",
       "      <td id=\"T_5044c_row4_col19\" class=\"data row4 col19\" >nan</td>\n",
       "      <td id=\"T_5044c_row4_col20\" class=\"data row4 col20\" >0</td>\n",
       "      <td id=\"T_5044c_row4_col21\" class=\"data row4 col21\" >0</td>\n",
       "      <td id=\"T_5044c_row4_col22\" class=\"data row4 col22\" >0</td>\n",
       "      <td id=\"T_5044c_row4_col23\" class=\"data row4 col23\" >Australia_0</td>\n",
       "      <td id=\"T_5044c_row4_col24\" class=\"data row4 col24\" >5</td>\n",
       "      <td id=\"T_5044c_row4_col25\" class=\"data row4 col25\" >1</td>\n",
       "      <td id=\"T_5044c_row4_col26\" class=\"data row4 col26\" >3</td>\n",
       "      <td id=\"T_5044c_row4_col27\" class=\"data row4 col27\" >1</td>\n",
       "    </tr>\n",
       "  </tbody>\n",
       "</table>\n"
      ],
      "text/plain": [
       "<pandas.io.formats.style.Styler at 0x2aa2b456400>"
      ]
     },
     "execution_count": 2,
     "metadata": {},
     "output_type": "execute_result"
    }
   ],
   "source": [
    "data = pd.read_csv(\"data/cricket_test.csv\")\n",
    "data = data.drop(columns = [\"Unnamed: 0\"])\n",
    "data.head().style.set_caption(\"Table 1: Overview of full dataset\").set_table_styles([{\n",
    "     'selector': 'caption',\n",
    "     'props': 'caption-side: bottom; font-size:1.25em;'\n",
    " }], overwrite=False)"
   ]
  },
  {
   "cell_type": "code",
   "execution_count": 3,
   "id": "42e86923",
   "metadata": {},
   "outputs": [],
   "source": [
    "X = data.drop(columns = ['wicket'])\n",
    "y = data['wicket']\n",
    "\n",
    "X_train, X_test, y_train, y_test = train_test_split(X, y, train_size=0.7, random_state=123)\n",
    "train_data = pd.concat([X_train, y_train], axis = 1)"
   ]
  },
  {
   "cell_type": "code",
   "execution_count": 4,
   "id": "6dbbdb59-46ea-4bc6-a886-bb215f07874e",
   "metadata": {},
   "outputs": [
    {
     "name": "stdout",
     "output_type": "stream",
     "text": [
      "<class 'pandas.core.frame.DataFrame'>\n",
      "Index: 510652 entries, 438303 to 277869\n",
      "Data columns (total 28 columns):\n",
      " #   Column           Non-Null Count   Dtype \n",
      "---  ------           --------------   ----- \n",
      " 0   game_id          510652 non-null  int64 \n",
      " 1   season           510652 non-null  object\n",
      " 2   team             510652 non-null  object\n",
      " 3   over             510652 non-null  int64 \n",
      " 4   batter           510652 non-null  object\n",
      " 5   batter_id        510652 non-null  object\n",
      " 6   bowler           510652 non-null  object\n",
      " 7   bowler_id        510652 non-null  object\n",
      " 8   non_striker      510652 non-null  object\n",
      " 9   non_striker_id   510652 non-null  object\n",
      " 10  wides            510652 non-null  int64 \n",
      " 11  noballs          510652 non-null  int64 \n",
      " 12  legbyes          510652 non-null  int64 \n",
      " 13  byes             510652 non-null  int64 \n",
      " 14  player_out       28104 non-null   object\n",
      " 15  player_out_id    28104 non-null   object\n",
      " 16  fielders_name    17956 non-null   object\n",
      " 17  fielders_id      17956 non-null   object\n",
      " 18  wicket_type      28104 non-null   object\n",
      " 19  runs_batter      510652 non-null  int64 \n",
      " 20  runs_extras      510652 non-null  int64 \n",
      " 21  runs_total       510652 non-null  int64 \n",
      " 22  team_over        510652 non-null  object\n",
      " 23  over_ball        510652 non-null  int64 \n",
      " 24  inning           510652 non-null  int64 \n",
      " 25  runs_cumulative  510652 non-null  int64 \n",
      " 26  powerplay        510652 non-null  int64 \n",
      " 27  wicket           510652 non-null  int64 \n",
      "dtypes: int64(14), object(14)\n",
      "memory usage: 113.0+ MB\n"
     ]
    }
   ],
   "source": [
    "train_data.info()"
   ]
  },
  {
   "cell_type": "code",
   "execution_count": 5,
   "id": "332e015a-e58b-485c-a9a0-126138327b71",
   "metadata": {},
   "outputs": [
    {
     "data": {
      "text/html": [
       "<style type=\"text/css\">\n",
       "#T_2407e caption {\n",
       "  caption-side: bottom;\n",
       "  font-size: 1.25em;\n",
       "}\n",
       "</style>\n",
       "<table id=\"T_2407e\">\n",
       "  <caption>Table 2: Summary of Numeric Variables</caption>\n",
       "  <thead>\n",
       "    <tr>\n",
       "      <th class=\"blank level0\" >&nbsp;</th>\n",
       "      <th id=\"T_2407e_level0_col0\" class=\"col_heading level0 col0\" >game_id</th>\n",
       "      <th id=\"T_2407e_level0_col1\" class=\"col_heading level0 col1\" >over</th>\n",
       "      <th id=\"T_2407e_level0_col2\" class=\"col_heading level0 col2\" >wides</th>\n",
       "      <th id=\"T_2407e_level0_col3\" class=\"col_heading level0 col3\" >noballs</th>\n",
       "      <th id=\"T_2407e_level0_col4\" class=\"col_heading level0 col4\" >legbyes</th>\n",
       "      <th id=\"T_2407e_level0_col5\" class=\"col_heading level0 col5\" >byes</th>\n",
       "      <th id=\"T_2407e_level0_col6\" class=\"col_heading level0 col6\" >runs_batter</th>\n",
       "      <th id=\"T_2407e_level0_col7\" class=\"col_heading level0 col7\" >runs_extras</th>\n",
       "      <th id=\"T_2407e_level0_col8\" class=\"col_heading level0 col8\" >runs_total</th>\n",
       "      <th id=\"T_2407e_level0_col9\" class=\"col_heading level0 col9\" >over_ball</th>\n",
       "      <th id=\"T_2407e_level0_col10\" class=\"col_heading level0 col10\" >inning</th>\n",
       "      <th id=\"T_2407e_level0_col11\" class=\"col_heading level0 col11\" >runs_cumulative</th>\n",
       "      <th id=\"T_2407e_level0_col12\" class=\"col_heading level0 col12\" >powerplay</th>\n",
       "      <th id=\"T_2407e_level0_col13\" class=\"col_heading level0 col13\" >wicket</th>\n",
       "    </tr>\n",
       "  </thead>\n",
       "  <tbody>\n",
       "    <tr>\n",
       "      <th id=\"T_2407e_level0_row0\" class=\"row_heading level0 row0\" >count</th>\n",
       "      <td id=\"T_2407e_row0_col0\" class=\"data row0 col0\" >510652.000000</td>\n",
       "      <td id=\"T_2407e_row0_col1\" class=\"data row0 col1\" >510652.000000</td>\n",
       "      <td id=\"T_2407e_row0_col2\" class=\"data row0 col2\" >510652.000000</td>\n",
       "      <td id=\"T_2407e_row0_col3\" class=\"data row0 col3\" >510652.000000</td>\n",
       "      <td id=\"T_2407e_row0_col4\" class=\"data row0 col4\" >510652.000000</td>\n",
       "      <td id=\"T_2407e_row0_col5\" class=\"data row0 col5\" >510652.000000</td>\n",
       "      <td id=\"T_2407e_row0_col6\" class=\"data row0 col6\" >510652.000000</td>\n",
       "      <td id=\"T_2407e_row0_col7\" class=\"data row0 col7\" >510652.000000</td>\n",
       "      <td id=\"T_2407e_row0_col8\" class=\"data row0 col8\" >510652.000000</td>\n",
       "      <td id=\"T_2407e_row0_col9\" class=\"data row0 col9\" >510652.000000</td>\n",
       "      <td id=\"T_2407e_row0_col10\" class=\"data row0 col10\" >510652.000000</td>\n",
       "      <td id=\"T_2407e_row0_col11\" class=\"data row0 col11\" >510652.000000</td>\n",
       "      <td id=\"T_2407e_row0_col12\" class=\"data row0 col12\" >510652.000000</td>\n",
       "      <td id=\"T_2407e_row0_col13\" class=\"data row0 col13\" >510652.000000</td>\n",
       "    </tr>\n",
       "    <tr>\n",
       "      <th id=\"T_2407e_level0_row1\" class=\"row_heading level0 row1\" >mean</th>\n",
       "      <td id=\"T_2407e_row1_col0\" class=\"data row1 col0\" >1145703.858967</td>\n",
       "      <td id=\"T_2407e_row1_col1\" class=\"data row1 col1\" >8.885989</td>\n",
       "      <td id=\"T_2407e_row1_col2\" class=\"data row1 col2\" >0.047739</td>\n",
       "      <td id=\"T_2407e_row1_col3\" class=\"data row1 col3\" >0.005152</td>\n",
       "      <td id=\"T_2407e_row1_col4\" class=\"data row1 col4\" >0.016728</td>\n",
       "      <td id=\"T_2407e_row1_col5\" class=\"data row1 col5\" >0.007463</td>\n",
       "      <td id=\"T_2407e_row1_col6\" class=\"data row1 col6\" >1.038470</td>\n",
       "      <td id=\"T_2407e_row1_col7\" class=\"data row1 col7\" >0.077170</td>\n",
       "      <td id=\"T_2407e_row1_col8\" class=\"data row1 col8\" >1.115640</td>\n",
       "      <td id=\"T_2407e_row1_col9\" class=\"data row1 col9\" >3.660452</td>\n",
       "      <td id=\"T_2407e_row1_col10\" class=\"data row1 col10\" >1.463500</td>\n",
       "      <td id=\"T_2407e_row1_col11\" class=\"data row1 col11\" >63.071401</td>\n",
       "      <td id=\"T_2407e_row1_col12\" class=\"data row1 col12\" >0.331427</td>\n",
       "      <td id=\"T_2407e_row1_col13\" class=\"data row1 col13\" >0.055036</td>\n",
       "    </tr>\n",
       "    <tr>\n",
       "      <th id=\"T_2407e_level0_row2\" class=\"row_heading level0 row2\" >std</th>\n",
       "      <td id=\"T_2407e_row2_col0\" class=\"data row2 col0\" >296516.161221</td>\n",
       "      <td id=\"T_2407e_row2_col1\" class=\"data row2 col1\" >5.633009</td>\n",
       "      <td id=\"T_2407e_row2_col2\" class=\"data row2 col2\" >0.278095</td>\n",
       "      <td id=\"T_2407e_row2_col3\" class=\"data row2 col3\" >0.073962</td>\n",
       "      <td id=\"T_2407e_row2_col4\" class=\"data row2 col4\" >0.168515</td>\n",
       "      <td id=\"T_2407e_row2_col5\" class=\"data row2 col5\" >0.139016</td>\n",
       "      <td id=\"T_2407e_row2_col6\" class=\"data row2 col6\" >1.461122</td>\n",
       "      <td id=\"T_2407e_row2_col7\" class=\"data row2 col7\" >0.358287</td>\n",
       "      <td id=\"T_2407e_row2_col8\" class=\"data row2 col8\" >1.454276</td>\n",
       "      <td id=\"T_2407e_row2_col9\" class=\"data row2 col9\" >1.856491</td>\n",
       "      <td id=\"T_2407e_row2_col10\" class=\"data row2 col10\" >0.498666</td>\n",
       "      <td id=\"T_2407e_row2_col11\" class=\"data row2 col11\" >44.643770</td>\n",
       "      <td id=\"T_2407e_row2_col12\" class=\"data row2 col12\" >0.470727</td>\n",
       "      <td id=\"T_2407e_row2_col13\" class=\"data row2 col13\" >0.228050</td>\n",
       "    </tr>\n",
       "    <tr>\n",
       "      <th id=\"T_2407e_level0_row3\" class=\"row_heading level0 row3\" >min</th>\n",
       "      <td id=\"T_2407e_row3_col0\" class=\"data row3 col0\" >211028.000000</td>\n",
       "      <td id=\"T_2407e_row3_col1\" class=\"data row3 col1\" >0.000000</td>\n",
       "      <td id=\"T_2407e_row3_col2\" class=\"data row3 col2\" >0.000000</td>\n",
       "      <td id=\"T_2407e_row3_col3\" class=\"data row3 col3\" >0.000000</td>\n",
       "      <td id=\"T_2407e_row3_col4\" class=\"data row3 col4\" >0.000000</td>\n",
       "      <td id=\"T_2407e_row3_col5\" class=\"data row3 col5\" >0.000000</td>\n",
       "      <td id=\"T_2407e_row3_col6\" class=\"data row3 col6\" >0.000000</td>\n",
       "      <td id=\"T_2407e_row3_col7\" class=\"data row3 col7\" >0.000000</td>\n",
       "      <td id=\"T_2407e_row3_col8\" class=\"data row3 col8\" >0.000000</td>\n",
       "      <td id=\"T_2407e_row3_col9\" class=\"data row3 col9\" >1.000000</td>\n",
       "      <td id=\"T_2407e_row3_col10\" class=\"data row3 col10\" >1.000000</td>\n",
       "      <td id=\"T_2407e_row3_col11\" class=\"data row3 col11\" >0.000000</td>\n",
       "      <td id=\"T_2407e_row3_col12\" class=\"data row3 col12\" >0.000000</td>\n",
       "      <td id=\"T_2407e_row3_col13\" class=\"data row3 col13\" >0.000000</td>\n",
       "    </tr>\n",
       "    <tr>\n",
       "      <th id=\"T_2407e_level0_row4\" class=\"row_heading level0 row4\" >25%</th>\n",
       "      <td id=\"T_2407e_row4_col0\" class=\"data row4 col0\" >1130746.000000</td>\n",
       "      <td id=\"T_2407e_row4_col1\" class=\"data row4 col1\" >4.000000</td>\n",
       "      <td id=\"T_2407e_row4_col2\" class=\"data row4 col2\" >0.000000</td>\n",
       "      <td id=\"T_2407e_row4_col3\" class=\"data row4 col3\" >0.000000</td>\n",
       "      <td id=\"T_2407e_row4_col4\" class=\"data row4 col4\" >0.000000</td>\n",
       "      <td id=\"T_2407e_row4_col5\" class=\"data row4 col5\" >0.000000</td>\n",
       "      <td id=\"T_2407e_row4_col6\" class=\"data row4 col6\" >0.000000</td>\n",
       "      <td id=\"T_2407e_row4_col7\" class=\"data row4 col7\" >0.000000</td>\n",
       "      <td id=\"T_2407e_row4_col8\" class=\"data row4 col8\" >0.000000</td>\n",
       "      <td id=\"T_2407e_row4_col9\" class=\"data row4 col9\" >2.000000</td>\n",
       "      <td id=\"T_2407e_row4_col10\" class=\"data row4 col10\" >1.000000</td>\n",
       "      <td id=\"T_2407e_row4_col11\" class=\"data row4 col11\" >26.000000</td>\n",
       "      <td id=\"T_2407e_row4_col12\" class=\"data row4 col12\" >0.000000</td>\n",
       "      <td id=\"T_2407e_row4_col13\" class=\"data row4 col13\" >0.000000</td>\n",
       "    </tr>\n",
       "    <tr>\n",
       "      <th id=\"T_2407e_level0_row5\" class=\"row_heading level0 row5\" >50%</th>\n",
       "      <td id=\"T_2407e_row5_col0\" class=\"data row5 col0\" >1272373.000000</td>\n",
       "      <td id=\"T_2407e_row5_col1\" class=\"data row5 col1\" >9.000000</td>\n",
       "      <td id=\"T_2407e_row5_col2\" class=\"data row5 col2\" >0.000000</td>\n",
       "      <td id=\"T_2407e_row5_col3\" class=\"data row5 col3\" >0.000000</td>\n",
       "      <td id=\"T_2407e_row5_col4\" class=\"data row5 col4\" >0.000000</td>\n",
       "      <td id=\"T_2407e_row5_col5\" class=\"data row5 col5\" >0.000000</td>\n",
       "      <td id=\"T_2407e_row5_col6\" class=\"data row5 col6\" >1.000000</td>\n",
       "      <td id=\"T_2407e_row5_col7\" class=\"data row5 col7\" >0.000000</td>\n",
       "      <td id=\"T_2407e_row5_col8\" class=\"data row5 col8\" >1.000000</td>\n",
       "      <td id=\"T_2407e_row5_col9\" class=\"data row5 col9\" >4.000000</td>\n",
       "      <td id=\"T_2407e_row5_col10\" class=\"data row5 col10\" >1.000000</td>\n",
       "      <td id=\"T_2407e_row5_col11\" class=\"data row5 col11\" >57.000000</td>\n",
       "      <td id=\"T_2407e_row5_col12\" class=\"data row5 col12\" >0.000000</td>\n",
       "      <td id=\"T_2407e_row5_col13\" class=\"data row5 col13\" >0.000000</td>\n",
       "    </tr>\n",
       "    <tr>\n",
       "      <th id=\"T_2407e_level0_row6\" class=\"row_heading level0 row6\" >75%</th>\n",
       "      <td id=\"T_2407e_row6_col0\" class=\"data row6 col0\" >1336082.000000</td>\n",
       "      <td id=\"T_2407e_row6_col1\" class=\"data row6 col1\" >14.000000</td>\n",
       "      <td id=\"T_2407e_row6_col2\" class=\"data row6 col2\" >0.000000</td>\n",
       "      <td id=\"T_2407e_row6_col3\" class=\"data row6 col3\" >0.000000</td>\n",
       "      <td id=\"T_2407e_row6_col4\" class=\"data row6 col4\" >0.000000</td>\n",
       "      <td id=\"T_2407e_row6_col5\" class=\"data row6 col5\" >0.000000</td>\n",
       "      <td id=\"T_2407e_row6_col6\" class=\"data row6 col6\" >1.000000</td>\n",
       "      <td id=\"T_2407e_row6_col7\" class=\"data row6 col7\" >0.000000</td>\n",
       "      <td id=\"T_2407e_row6_col8\" class=\"data row6 col8\" >1.000000</td>\n",
       "      <td id=\"T_2407e_row6_col9\" class=\"data row6 col9\" >5.000000</td>\n",
       "      <td id=\"T_2407e_row6_col10\" class=\"data row6 col10\" >2.000000</td>\n",
       "      <td id=\"T_2407e_row6_col11\" class=\"data row6 col11\" >92.000000</td>\n",
       "      <td id=\"T_2407e_row6_col12\" class=\"data row6 col12\" >1.000000</td>\n",
       "      <td id=\"T_2407e_row6_col13\" class=\"data row6 col13\" >0.000000</td>\n",
       "    </tr>\n",
       "    <tr>\n",
       "      <th id=\"T_2407e_level0_row7\" class=\"row_heading level0 row7\" >max</th>\n",
       "      <td id=\"T_2407e_row7_col0\" class=\"data row7 col0\" >1422802.000000</td>\n",
       "      <td id=\"T_2407e_row7_col1\" class=\"data row7 col1\" >19.000000</td>\n",
       "      <td id=\"T_2407e_row7_col2\" class=\"data row7 col2\" >5.000000</td>\n",
       "      <td id=\"T_2407e_row7_col3\" class=\"data row7 col3\" >5.000000</td>\n",
       "      <td id=\"T_2407e_row7_col4\" class=\"data row7 col4\" >5.000000</td>\n",
       "      <td id=\"T_2407e_row7_col5\" class=\"data row7 col5\" >5.000000</td>\n",
       "      <td id=\"T_2407e_row7_col6\" class=\"data row7 col6\" >7.000000</td>\n",
       "      <td id=\"T_2407e_row7_col7\" class=\"data row7 col7\" >6.000000</td>\n",
       "      <td id=\"T_2407e_row7_col8\" class=\"data row7 col8\" >7.000000</td>\n",
       "      <td id=\"T_2407e_row7_col9\" class=\"data row7 col9\" >19.000000</td>\n",
       "      <td id=\"T_2407e_row7_col10\" class=\"data row7 col10\" >2.000000</td>\n",
       "      <td id=\"T_2407e_row7_col11\" class=\"data row7 col11\" >333.000000</td>\n",
       "      <td id=\"T_2407e_row7_col12\" class=\"data row7 col12\" >1.000000</td>\n",
       "      <td id=\"T_2407e_row7_col13\" class=\"data row7 col13\" >1.000000</td>\n",
       "    </tr>\n",
       "  </tbody>\n",
       "</table>\n"
      ],
      "text/plain": [
       "<pandas.io.formats.style.Styler at 0x2aa3311fee0>"
      ]
     },
     "execution_count": 5,
     "metadata": {},
     "output_type": "execute_result"
    }
   ],
   "source": [
    "train_data.describe().style.set_caption(\"Table 2: Summary of Numeric Variables\").set_table_styles([{\n",
    "     'selector': 'caption',\n",
    "     'props': 'caption-side: bottom; font-size:1.25em;'\n",
    " }], overwrite=False)"
   ]
  },
  {
   "cell_type": "markdown",
   "id": "c0dbcb0a-726b-4f6b-a0c8-9b73946a3ab0",
   "metadata": {},
   "source": [
    "The dataset contains 28 columns and 510652 observations related to cricket. The ratio of quantitative to categorical (ordinal and nominal) data is approximately 50:50. Note that the columns **player_out, player_out_id, fielder_name, fielders_id, and wicket_type** show a significant amount of missing values. Player_out and player_out_id may be missing due to inapplicability (e.g., no one is out), which results in fielder_name, fielder_id, and wicket_type being invalid in these observations. Thus, these missing data are likely classified as **missing at random(MAR)**. Given the complexity of imputing these values, they are unlikely to be included in our further analysis.\n",
    "\n",
    "Note that, among the 28 columns, there were few attributes generated based on existing columns, and they are \"over_ball\", \"inning\", \"runs_cumulative\", and \"powerplay\". Although they are all integers, it is important to note that, only \"overball\" and \"runs_cumulative\" are quantitative, whereas \"inning\" and \"powerplay\" are categorical. Detailed calculations of these attributes are in the `cricsheet-json-parsing.ipynb` file. "
   ]
  },
  {
   "cell_type": "code",
   "execution_count": 6,
   "id": "2db50d6d-28aa-4f97-bcfc-ede62759f2c8",
   "metadata": {},
   "outputs": [],
   "source": [
    "def vis_bar(x_input, width, height):\n",
    "    return alt.Chart(train_data).mark_bar().encode(\n",
    "        x = x_input,\n",
    "        y = \"count()\"\n",
    "    ).properties(\n",
    "        width = width, \n",
    "        height = height\n",
    "    )\n",
    "\n",
    "over = vis_bar(\"over\", 150, 150)\n",
    "wides = vis_bar(\"wides\", 150, 150)\n",
    "noballs = vis_bar(\"noballs\", 150, 150)\n",
    "legbyes = vis_bar(\"legbyes\", 150, 150)\n",
    "byes = vis_bar(\"byes\", 150, 150)\n",
    "wicket = vis_bar(\"wicket\", 150, 150)\n",
    "run_batter = vis_bar(\"runs_batter\", 150, 150)\n",
    "run_extras = vis_bar(\"runs_extras\", 150, 150)\n",
    "run_total = vis_bar(\"runs_total\", 150, 150)\n",
    "over_ball = vis_bar(\"over_ball\", 150, 150)\n",
    "runs_cumulative = vis_bar(\"runs_cumulative\", 150, 150)\n",
    "\n",
    "title_1_a = alt.Chart(\n",
    "    {\"values\": [{\"text\": \"Figure 1.1: Distribution of Variables\"}]}\n",
    ").mark_text(size=20).encode(\n",
    "    text=\"text:N\"\n",
    ")\n",
    "\n",
    "v1 = alt.hconcat(over, wides, noballs)\n",
    "v2 = alt.hconcat(legbyes, byes, wicket)\n",
    "v3 = alt.hconcat(run_batter, run_extras, run_total)\n",
    "v4 = alt.hconcat(over_ball, runs_cumulative)\n",
    "chart1 = alt.vconcat(title_1_a, v1, v2, v3, v4)\n",
    "chart1.save('chart1.png')"
   ]
  },
  {
   "cell_type": "code",
   "execution_count": 7,
   "id": "cbe76e09-a232-4045-b328-022fc78341e7",
   "metadata": {},
   "outputs": [],
   "source": [
    "season = vis_bar(\"season\", 500, 150)\n",
    "team = vis_bar(\"team\", 900, 150)\n",
    "inning = vis_bar(\"inning:N\", 150, 150)\n",
    "powerplay = vis_bar(\"powerplay:N\", 150, 150)\n",
    "\n",
    "title_1_b = alt.Chart(\n",
    "    {\"values\": [{\"text\": \"Figure 1.2: Distribution of Variables\"}]}\n",
    ").mark_text(size=20).encode(\n",
    "    text=\"text:N\"\n",
    ")\n",
    "\n",
    "h_1 = alt.hconcat(inning, powerplay)\n",
    "chart2 = alt.vconcat(title_1_b, season, team, h_1)\n",
    "chart2.save('chart2.png')"
   ]
  },
  {
   "cell_type": "markdown",
   "id": "594ebdec",
   "metadata": {},
   "source": [
    "![Figure 1.1](chart1.png) and ![Figure 1.2](chart2.png) reference the distribution of our variables."
   ]
  },
  {
   "cell_type": "code",
   "execution_count": 8,
   "id": "1a43d3c6-86d5-4168-95ab-60df46ae021d",
   "metadata": {},
   "outputs": [
    {
     "data": {
      "text/html": [
       "<style type=\"text/css\">\n",
       "#T_530fc caption {\n",
       "  caption-side: bottom;\n",
       "  font-size: 1.25em;\n",
       "}\n",
       "</style>\n",
       "<table id=\"T_530fc\">\n",
       "  <caption>Table 3.1: Batter Summary Count</caption>\n",
       "  <thead>\n",
       "    <tr>\n",
       "      <th class=\"blank level0\" >&nbsp;</th>\n",
       "      <th id=\"T_530fc_level0_col0\" class=\"col_heading level0 col0\" >batter</th>\n",
       "      <th id=\"T_530fc_level0_col1\" class=\"col_heading level0 col1\" >count</th>\n",
       "    </tr>\n",
       "  </thead>\n",
       "  <tbody>\n",
       "    <tr>\n",
       "      <th id=\"T_530fc_level0_row0\" class=\"row_heading level0 row0\" >0</th>\n",
       "      <td id=\"T_530fc_row0_col0\" class=\"data row0 col0\" >V Kohli</td>\n",
       "      <td id=\"T_530fc_row0_col1\" class=\"data row0 col1\" >2115</td>\n",
       "    </tr>\n",
       "    <tr>\n",
       "      <th id=\"T_530fc_level0_row1\" class=\"row_heading level0 row1\" >1</th>\n",
       "      <td id=\"T_530fc_row1_col0\" class=\"data row1 col0\" >Babar Azam</td>\n",
       "      <td id=\"T_530fc_row1_col1\" class=\"data row1 col1\" >2073</td>\n",
       "    </tr>\n",
       "    <tr>\n",
       "      <th id=\"T_530fc_level0_row2\" class=\"row_heading level0 row2\" >2</th>\n",
       "      <td id=\"T_530fc_row2_col0\" class=\"data row2 col0\" >RG Sharma</td>\n",
       "      <td id=\"T_530fc_row2_col1\" class=\"data row2 col1\" >2033</td>\n",
       "    </tr>\n",
       "    <tr>\n",
       "      <th id=\"T_530fc_level0_row3\" class=\"row_heading level0 row3\" >3</th>\n",
       "      <td id=\"T_530fc_row3_col0\" class=\"data row3 col0\" >MJ Guptill</td>\n",
       "      <td id=\"T_530fc_row3_col1\" class=\"data row3 col1\" >1894</td>\n",
       "    </tr>\n",
       "    <tr>\n",
       "      <th id=\"T_530fc_level0_row4\" class=\"row_heading level0 row4\" >4</th>\n",
       "      <td id=\"T_530fc_row4_col0\" class=\"data row4 col0\" >Bismah Maroof</td>\n",
       "      <td id=\"T_530fc_row4_col1\" class=\"data row4 col1\" >1735</td>\n",
       "    </tr>\n",
       "    <tr>\n",
       "      <th id=\"T_530fc_level0_row5\" class=\"row_heading level0 row5\" >4694</th>\n",
       "      <td id=\"T_530fc_row5_col0\" class=\"data row5 col0\" >K Cawte</td>\n",
       "      <td id=\"T_530fc_row5_col1\" class=\"data row5 col1\" >1</td>\n",
       "    </tr>\n",
       "    <tr>\n",
       "      <th id=\"T_530fc_level0_row6\" class=\"row_heading level0 row6\" >4695</th>\n",
       "      <td id=\"T_530fc_row6_col0\" class=\"data row6 col0\" >M Stoman</td>\n",
       "      <td id=\"T_530fc_row6_col1\" class=\"data row6 col1\" >1</td>\n",
       "    </tr>\n",
       "    <tr>\n",
       "      <th id=\"T_530fc_level0_row7\" class=\"row_heading level0 row7\" >4696</th>\n",
       "      <td id=\"T_530fc_row7_col0\" class=\"data row7 col0\" >B Biza</td>\n",
       "      <td id=\"T_530fc_row7_col1\" class=\"data row7 col1\" >1</td>\n",
       "    </tr>\n",
       "    <tr>\n",
       "      <th id=\"T_530fc_level0_row8\" class=\"row_heading level0 row8\" >4697</th>\n",
       "      <td id=\"T_530fc_row8_col0\" class=\"data row8 col0\" >JJ Celestine</td>\n",
       "      <td id=\"T_530fc_row8_col1\" class=\"data row8 col1\" >1</td>\n",
       "    </tr>\n",
       "    <tr>\n",
       "      <th id=\"T_530fc_level0_row9\" class=\"row_heading level0 row9\" >4698</th>\n",
       "      <td id=\"T_530fc_row9_col0\" class=\"data row9 col0\" >AS Dean</td>\n",
       "      <td id=\"T_530fc_row9_col1\" class=\"data row9 col1\" >1</td>\n",
       "    </tr>\n",
       "  </tbody>\n",
       "</table>\n"
      ],
      "text/plain": [
       "<pandas.io.formats.style.Styler at 0x2aa2b464220>"
      ]
     },
     "execution_count": 8,
     "metadata": {},
     "output_type": "execute_result"
    }
   ],
   "source": [
    "pd.concat([train_data[\"batter\"].value_counts().reset_index().head(5), \n",
    "           train_data[\"batter\"].value_counts().reset_index().tail(5)]).style.set_caption(\n",
    "    \"Table 3.1: Batter Summary Count\").set_table_styles([{\n",
    "     'selector': 'caption',\n",
    "     'props': 'caption-side: bottom; font-size:1.25em;'\n",
    " }], overwrite=False)"
   ]
  },
  {
   "cell_type": "code",
   "execution_count": 9,
   "id": "58b6a952-5177-480a-b10d-f851d43e1d04",
   "metadata": {},
   "outputs": [
    {
     "data": {
      "text/html": [
       "<style type=\"text/css\">\n",
       "#T_382c1 caption {\n",
       "  caption-side: bottom;\n",
       "  font-size: 1.25em;\n",
       "}\n",
       "</style>\n",
       "<table id=\"T_382c1\">\n",
       "  <caption>Table 3.2: Bowler Summary Count</caption>\n",
       "  <thead>\n",
       "    <tr>\n",
       "      <th class=\"blank level0\" >&nbsp;</th>\n",
       "      <th id=\"T_382c1_level0_col0\" class=\"col_heading level0 col0\" >bowler</th>\n",
       "      <th id=\"T_382c1_level0_col1\" class=\"col_heading level0 col1\" >count</th>\n",
       "    </tr>\n",
       "  </thead>\n",
       "  <tbody>\n",
       "    <tr>\n",
       "      <th id=\"T_382c1_level0_row0\" class=\"row_heading level0 row0\" >0</th>\n",
       "      <td id=\"T_382c1_row0_col0\" class=\"data row0 col0\" >TG Southee</td>\n",
       "      <td id=\"T_382c1_row0_col1\" class=\"data row0 col1\" >1990</td>\n",
       "    </tr>\n",
       "    <tr>\n",
       "      <th id=\"T_382c1_level0_row1\" class=\"row_heading level0 row1\" >1</th>\n",
       "      <td id=\"T_382c1_row1_col0\" class=\"data row1 col0\" >Shakib Al Hasan</td>\n",
       "      <td id=\"T_382c1_row1_col1\" class=\"data row1 col1\" >1747</td>\n",
       "    </tr>\n",
       "    <tr>\n",
       "      <th id=\"T_382c1_level0_row2\" class=\"row_heading level0 row2\" >2</th>\n",
       "      <td id=\"T_382c1_row2_col0\" class=\"data row2 col0\" >IS Sodhi</td>\n",
       "      <td id=\"T_382c1_row2_col1\" class=\"data row2 col1\" >1630</td>\n",
       "    </tr>\n",
       "    <tr>\n",
       "      <th id=\"T_382c1_level0_row3\" class=\"row_heading level0 row3\" >3</th>\n",
       "      <td id=\"T_382c1_row3_col0\" class=\"data row3 col0\" >AU Rashid</td>\n",
       "      <td id=\"T_382c1_row3_col1\" class=\"data row3 col1\" >1556</td>\n",
       "    </tr>\n",
       "    <tr>\n",
       "      <th id=\"T_382c1_level0_row4\" class=\"row_heading level0 row4\" >4</th>\n",
       "      <td id=\"T_382c1_row4_col0\" class=\"data row4 col0\" >MJ Santner</td>\n",
       "      <td id=\"T_382c1_row4_col1\" class=\"data row4 col1\" >1537</td>\n",
       "    </tr>\n",
       "    <tr>\n",
       "      <th id=\"T_382c1_level0_row5\" class=\"row_heading level0 row5\" >3474</th>\n",
       "      <td id=\"T_382c1_row5_col0\" class=\"data row5 col0\" >AV Lazarus</td>\n",
       "      <td id=\"T_382c1_row5_col1\" class=\"data row5 col1\" >1</td>\n",
       "    </tr>\n",
       "    <tr>\n",
       "      <th id=\"T_382c1_level0_row6\" class=\"row_heading level0 row6\" >3475</th>\n",
       "      <td id=\"T_382c1_row6_col0\" class=\"data row6 col0\" >J Grzinic</td>\n",
       "      <td id=\"T_382c1_row6_col1\" class=\"data row6 col1\" >1</td>\n",
       "    </tr>\n",
       "    <tr>\n",
       "      <th id=\"T_382c1_level0_row7\" class=\"row_heading level0 row7\" >3476</th>\n",
       "      <td id=\"T_382c1_row7_col0\" class=\"data row7 col0\" >Mahmudul Hasan Joy</td>\n",
       "      <td id=\"T_382c1_row7_col1\" class=\"data row7 col1\" >1</td>\n",
       "    </tr>\n",
       "    <tr>\n",
       "      <th id=\"T_382c1_level0_row8\" class=\"row_heading level0 row8\" >3477</th>\n",
       "      <td id=\"T_382c1_row8_col0\" class=\"data row8 col0\" >KH Prajapati</td>\n",
       "      <td id=\"T_382c1_row8_col1\" class=\"data row8 col1\" >1</td>\n",
       "    </tr>\n",
       "    <tr>\n",
       "      <th id=\"T_382c1_level0_row9\" class=\"row_heading level0 row9\" >3478</th>\n",
       "      <td id=\"T_382c1_row9_col0\" class=\"data row9 col0\" >Riyaz Kajalwala</td>\n",
       "      <td id=\"T_382c1_row9_col1\" class=\"data row9 col1\" >1</td>\n",
       "    </tr>\n",
       "  </tbody>\n",
       "</table>\n"
      ],
      "text/plain": [
       "<pandas.io.formats.style.Styler at 0x2aa35ab7e80>"
      ]
     },
     "execution_count": 9,
     "metadata": {},
     "output_type": "execute_result"
    }
   ],
   "source": [
    "pd.concat([train_data[\"bowler\"].value_counts().reset_index().head(5), \n",
    "           train_data[\"bowler\"].value_counts().reset_index().tail(5)]).style.set_caption(\n",
    "    \"Table 3.2: Bowler Summary Count\").set_table_styles([{\n",
    "     'selector': 'caption',\n",
    "     'props': 'caption-side: bottom; font-size:1.25em;'\n",
    " }], overwrite=False)"
   ]
  },
  {
   "cell_type": "code",
   "execution_count": 10,
   "id": "01b7e7dc-f013-4939-80dc-13ca725b44e9",
   "metadata": {},
   "outputs": [
    {
     "data": {
      "text/html": [
       "<style type=\"text/css\">\n",
       "#T_a7a9c caption {\n",
       "  caption-side: bottom;\n",
       "  font-size: 1.25em;\n",
       "}\n",
       "</style>\n",
       "<table id=\"T_a7a9c\">\n",
       "  <caption>Table 3.1: Batter Summary Count</caption>\n",
       "  <thead>\n",
       "    <tr>\n",
       "      <th class=\"blank level0\" >&nbsp;</th>\n",
       "      <th id=\"T_a7a9c_level0_col0\" class=\"col_heading level0 col0\" >non_striker</th>\n",
       "      <th id=\"T_a7a9c_level0_col1\" class=\"col_heading level0 col1\" >count</th>\n",
       "    </tr>\n",
       "  </thead>\n",
       "  <tbody>\n",
       "    <tr>\n",
       "      <th id=\"T_a7a9c_level0_row0\" class=\"row_heading level0 row0\" >0</th>\n",
       "      <td id=\"T_a7a9c_row0_col0\" class=\"data row0 col0\" >Babar Azam</td>\n",
       "      <td id=\"T_a7a9c_row0_col1\" class=\"data row0 col1\" >2166</td>\n",
       "    </tr>\n",
       "    <tr>\n",
       "      <th id=\"T_a7a9c_level0_row1\" class=\"row_heading level0 row1\" >1</th>\n",
       "      <td id=\"T_a7a9c_row1_col0\" class=\"data row1 col0\" >RG Sharma</td>\n",
       "      <td id=\"T_a7a9c_row1_col1\" class=\"data row1 col1\" >1988</td>\n",
       "    </tr>\n",
       "    <tr>\n",
       "      <th id=\"T_a7a9c_level0_row2\" class=\"row_heading level0 row2\" >2</th>\n",
       "      <td id=\"T_a7a9c_row2_col0\" class=\"data row2 col0\" >V Kohli</td>\n",
       "      <td id=\"T_a7a9c_row2_col1\" class=\"data row2 col1\" >1978</td>\n",
       "    </tr>\n",
       "    <tr>\n",
       "      <th id=\"T_a7a9c_level0_row3\" class=\"row_heading level0 row3\" >3</th>\n",
       "      <td id=\"T_a7a9c_row3_col0\" class=\"data row3 col0\" >BL Mooney</td>\n",
       "      <td id=\"T_a7a9c_row3_col1\" class=\"data row3 col1\" >1901</td>\n",
       "    </tr>\n",
       "    <tr>\n",
       "      <th id=\"T_a7a9c_level0_row4\" class=\"row_heading level0 row4\" >4</th>\n",
       "      <td id=\"T_a7a9c_row4_col0\" class=\"data row4 col0\" >Bismah Maroof</td>\n",
       "      <td id=\"T_a7a9c_row4_col1\" class=\"data row4 col1\" >1789</td>\n",
       "    </tr>\n",
       "    <tr>\n",
       "      <th id=\"T_a7a9c_level0_row5\" class=\"row_heading level0 row5\" >4557</th>\n",
       "      <td id=\"T_a7a9c_row5_col0\" class=\"data row5 col0\" >AS Dean</td>\n",
       "      <td id=\"T_a7a9c_row5_col1\" class=\"data row5 col1\" >1</td>\n",
       "    </tr>\n",
       "    <tr>\n",
       "      <th id=\"T_a7a9c_level0_row6\" class=\"row_heading level0 row6\" >4558</th>\n",
       "      <td id=\"T_a7a9c_row6_col0\" class=\"data row6 col0\" >Sumaiya Akter</td>\n",
       "      <td id=\"T_a7a9c_row6_col1\" class=\"data row6 col1\" >1</td>\n",
       "    </tr>\n",
       "    <tr>\n",
       "      <th id=\"T_a7a9c_level0_row7\" class=\"row_heading level0 row7\" >4559</th>\n",
       "      <td id=\"T_a7a9c_row7_col0\" class=\"data row7 col0\" >S Nunna</td>\n",
       "      <td id=\"T_a7a9c_row7_col1\" class=\"data row7 col1\" >1</td>\n",
       "    </tr>\n",
       "    <tr>\n",
       "      <th id=\"T_a7a9c_level0_row8\" class=\"row_heading level0 row8\" >4560</th>\n",
       "      <td id=\"T_a7a9c_row8_col0\" class=\"data row8 col0\" >JL Aras</td>\n",
       "      <td id=\"T_a7a9c_row8_col1\" class=\"data row8 col1\" >1</td>\n",
       "    </tr>\n",
       "    <tr>\n",
       "      <th id=\"T_a7a9c_level0_row9\" class=\"row_heading level0 row9\" >4561</th>\n",
       "      <td id=\"T_a7a9c_row9_col0\" class=\"data row9 col0\" >F Parkinson</td>\n",
       "      <td id=\"T_a7a9c_row9_col1\" class=\"data row9 col1\" >1</td>\n",
       "    </tr>\n",
       "  </tbody>\n",
       "</table>\n"
      ],
      "text/plain": [
       "<pandas.io.formats.style.Styler at 0x2aa33139bb0>"
      ]
     },
     "execution_count": 10,
     "metadata": {},
     "output_type": "execute_result"
    }
   ],
   "source": [
    "pd.concat([train_data[\"non_striker\"].value_counts().reset_index().head(5),\n",
    "           train_data[\"non_striker\"].value_counts().reset_index().tail(5)]).style.set_caption(\n",
    "    \"Table 3.1: Batter Summary Count\").set_table_styles([{\n",
    "     'selector': 'caption',\n",
    "     'props': 'caption-side: bottom; font-size:1.25em;'\n",
    " }], overwrite=False)"
   ]
  },
  {
   "cell_type": "markdown",
   "id": "c3aae01d-bb0a-4255-96b3-505adeb8a9e3",
   "metadata": {},
   "source": [
    "Please note that the analysis excludes all columns related to \"ID\" as they are primarily for identification purposes and are unlikely to show significant patterns. It is observed that none of the quantitative attributes follow a normal distribution; most are right-skewed distributions. An interesting finding is noted in the attributes \"over\", where the frequency **steadily** decreases with increasing values, suggesting further analysis. Concerning ordinal attributes, we have a significantly higher amount of data from seasons that happened in recent years than in the past. Lastly, regarding nominal attributes, we are seeing an uneven distribution appearance of players(batter, bowler, and non-striker) in this dataset, by using non-striker as an example, some players such as V Kohli appear around 2100 times in this dataset, where other players such as F Bangur only appeared once.  Due to such a large number of batters and bowlers in the dataset, we will not be using it in our analysis. To use these attributes, we will also need to create summary statistics for each batters and bowlers, as explained by Dinsdale, 2023 which is out of the scope of our project.\n",
    "\n",
    "In terms of \"team\", there appear to be more teams from \"New Zealand,\" \"South Africa,\" \"India,\" \"West India,\" \"Pakistan,\" \"Bangladesh,\" \"Sri Lanka\"  \"Australia,\" and \"England\" than teams from other countries/regions. The attribute\"inning\" doesn't seem to have a significant difference across the two conditions, however, for \"powerplay,\" the number of occurrences in condition \"0\" is approximately twice as high as in condition \"1.\"\n",
    "\n",
    "In general, **none of the attributes in our dataset form a normal distribution**, with samples unevenly distributed across categorical attributes. It is important to remember this when training, testing, and interpreting the model, and to appropriately acknowledge this as a potential limitation. "
   ]
  },
  {
   "cell_type": "markdown",
   "id": "e7798455-db16-4d8e-9b70-f0cfb7a7e3db",
   "metadata": {},
   "source": [
    "### Multivariate Analysis - Correlation Analysis"
   ]
  },
  {
   "cell_type": "code",
   "execution_count": 11,
   "id": "6f2db842-ceea-4c8c-9ba2-b7b85d7f3b99",
   "metadata": {},
   "outputs": [
    {
     "data": {
      "text/html": [
       "<style type=\"text/css\">\n",
       "#T_52911 caption {\n",
       "  caption-side: bottom;\n",
       "  font-size: 1.25em;\n",
       "}\n",
       "</style>\n",
       "<table id=\"T_52911\">\n",
       "  <caption>Table 4: Correlation Analysis</caption>\n",
       "  <thead>\n",
       "    <tr>\n",
       "      <th class=\"blank level0\" >&nbsp;</th>\n",
       "      <th id=\"T_52911_level0_col0\" class=\"col_heading level0 col0\" >over</th>\n",
       "      <th id=\"T_52911_level0_col1\" class=\"col_heading level0 col1\" >wides</th>\n",
       "      <th id=\"T_52911_level0_col2\" class=\"col_heading level0 col2\" >noballs</th>\n",
       "      <th id=\"T_52911_level0_col3\" class=\"col_heading level0 col3\" >legbyes</th>\n",
       "      <th id=\"T_52911_level0_col4\" class=\"col_heading level0 col4\" >byes</th>\n",
       "      <th id=\"T_52911_level0_col5\" class=\"col_heading level0 col5\" >runs_batter</th>\n",
       "      <th id=\"T_52911_level0_col6\" class=\"col_heading level0 col6\" >runs_extras</th>\n",
       "      <th id=\"T_52911_level0_col7\" class=\"col_heading level0 col7\" >runs_total</th>\n",
       "      <th id=\"T_52911_level0_col8\" class=\"col_heading level0 col8\" >over_ball</th>\n",
       "      <th id=\"T_52911_level0_col9\" class=\"col_heading level0 col9\" >runs_cumulative</th>\n",
       "      <th id=\"T_52911_level0_col10\" class=\"col_heading level0 col10\" >wicket</th>\n",
       "    </tr>\n",
       "  </thead>\n",
       "  <tbody>\n",
       "    <tr>\n",
       "      <th id=\"T_52911_level0_row0\" class=\"row_heading level0 row0\" >over</th>\n",
       "      <td id=\"T_52911_row0_col0\" class=\"data row0 col0\" >1.000000</td>\n",
       "      <td id=\"T_52911_row0_col1\" class=\"data row0 col1\" >-0.019636</td>\n",
       "      <td id=\"T_52911_row0_col2\" class=\"data row0 col2\" >0.006787</td>\n",
       "      <td id=\"T_52911_row0_col3\" class=\"data row0 col3\" >-0.001467</td>\n",
       "      <td id=\"T_52911_row0_col4\" class=\"data row0 col4\" >0.015333</td>\n",
       "      <td id=\"T_52911_row0_col5\" class=\"data row0 col5\" >0.072301</td>\n",
       "      <td id=\"T_52911_row0_col6\" class=\"data row0 col6\" >-0.008488</td>\n",
       "      <td id=\"T_52911_row0_col7\" class=\"data row0 col7\" >0.070550</td>\n",
       "      <td id=\"T_52911_row0_col8\" class=\"data row0 col8\" >-0.019141</td>\n",
       "      <td id=\"T_52911_row0_col9\" class=\"data row0 col9\" >0.867475</td>\n",
       "      <td id=\"T_52911_row0_col10\" class=\"data row0 col10\" >0.070750</td>\n",
       "    </tr>\n",
       "    <tr>\n",
       "      <th id=\"T_52911_level0_row1\" class=\"row_heading level0 row1\" >wides</th>\n",
       "      <td id=\"T_52911_row1_col0\" class=\"data row1 col0\" >-0.019636</td>\n",
       "      <td id=\"T_52911_row1_col1\" class=\"data row1 col1\" >1.000000</td>\n",
       "      <td id=\"T_52911_row1_col2\" class=\"data row1 col2\" >-0.011958</td>\n",
       "      <td id=\"T_52911_row1_col3\" class=\"data row1 col3\" >-0.017040</td>\n",
       "      <td id=\"T_52911_row1_col4\" class=\"data row1 col4\" >-0.009216</td>\n",
       "      <td id=\"T_52911_row1_col5\" class=\"data row1 col5\" >-0.122003</td>\n",
       "      <td id=\"T_52911_row1_col6\" class=\"data row1 col6\" >0.762080</td>\n",
       "      <td id=\"T_52911_row1_col7\" class=\"data row1 col7\" >0.065175</td>\n",
       "      <td id=\"T_52911_row1_col8\" class=\"data row1 col8\" >-0.000044</td>\n",
       "      <td id=\"T_52911_row1_col9\" class=\"data row1 col9\" >-0.012785</td>\n",
       "      <td id=\"T_52911_row1_col10\" class=\"data row1 col10\" >-0.038402</td>\n",
       "    </tr>\n",
       "    <tr>\n",
       "      <th id=\"T_52911_level0_row2\" class=\"row_heading level0 row2\" >noballs</th>\n",
       "      <td id=\"T_52911_row2_col0\" class=\"data row2 col0\" >0.006787</td>\n",
       "      <td id=\"T_52911_row2_col1\" class=\"data row2 col1\" >-0.011958</td>\n",
       "      <td id=\"T_52911_row2_col2\" class=\"data row2 col2\" >1.000000</td>\n",
       "      <td id=\"T_52911_row2_col3\" class=\"data row2 col3\" >-0.003301</td>\n",
       "      <td id=\"T_52911_row2_col4\" class=\"data row2 col4\" >0.025591</td>\n",
       "      <td id=\"T_52911_row2_col5\" class=\"data row2 col5\" >0.005306</td>\n",
       "      <td id=\"T_52911_row2_col6\" class=\"data row2 col6\" >0.205879</td>\n",
       "      <td id=\"T_52911_row2_col7\" class=\"data row2 col7\" >0.056053</td>\n",
       "      <td id=\"T_52911_row2_col8\" class=\"data row2 col8\" >0.005681</td>\n",
       "      <td id=\"T_52911_row2_col9\" class=\"data row2 col9\" >0.015923</td>\n",
       "      <td id=\"T_52911_row2_col10\" class=\"data row2 col10\" >-0.015418</td>\n",
       "    </tr>\n",
       "    <tr>\n",
       "      <th id=\"T_52911_level0_row3\" class=\"row_heading level0 row3\" >legbyes</th>\n",
       "      <td id=\"T_52911_row3_col0\" class=\"data row3 col0\" >-0.001467</td>\n",
       "      <td id=\"T_52911_row3_col1\" class=\"data row3 col1\" >-0.017040</td>\n",
       "      <td id=\"T_52911_row3_col2\" class=\"data row3 col2\" >-0.003301</td>\n",
       "      <td id=\"T_52911_row3_col3\" class=\"data row3 col3\" >1.000000</td>\n",
       "      <td id=\"T_52911_row3_col4\" class=\"data row3 col4\" >-0.005329</td>\n",
       "      <td id=\"T_52911_row3_col5\" class=\"data row3 col5\" >-0.070551</td>\n",
       "      <td id=\"T_52911_row3_col6\" class=\"data row3 col6\" >0.454336</td>\n",
       "      <td id=\"T_52911_row3_col7\" class=\"data row3 col7\" >0.041050</td>\n",
       "      <td id=\"T_52911_row3_col8\" class=\"data row3 col8\" >-0.002758</td>\n",
       "      <td id=\"T_52911_row3_col9\" class=\"data row3 col9\" >0.005618</td>\n",
       "      <td id=\"T_52911_row3_col10\" class=\"data row3 col10\" >-0.023344</td>\n",
       "    </tr>\n",
       "    <tr>\n",
       "      <th id=\"T_52911_level0_row4\" class=\"row_heading level0 row4\" >byes</th>\n",
       "      <td id=\"T_52911_row4_col0\" class=\"data row4 col0\" >0.015333</td>\n",
       "      <td id=\"T_52911_row4_col1\" class=\"data row4 col1\" >-0.009216</td>\n",
       "      <td id=\"T_52911_row4_col2\" class=\"data row4 col2\" >0.025591</td>\n",
       "      <td id=\"T_52911_row4_col3\" class=\"data row4 col3\" >-0.005329</td>\n",
       "      <td id=\"T_52911_row4_col4\" class=\"data row4 col4\" >1.000000</td>\n",
       "      <td id=\"T_52911_row4_col5\" class=\"data row4 col5\" >-0.038156</td>\n",
       "      <td id=\"T_52911_row4_col6\" class=\"data row4 col6\" >0.383612</td>\n",
       "      <td id=\"T_52911_row4_col7\" class=\"data row4 col7\" >0.056175</td>\n",
       "      <td id=\"T_52911_row4_col8\" class=\"data row4 col8\" >0.003308</td>\n",
       "      <td id=\"T_52911_row4_col9\" class=\"data row4 col9\" >0.016791</td>\n",
       "      <td id=\"T_52911_row4_col10\" class=\"data row4 col10\" >-0.012153</td>\n",
       "    </tr>\n",
       "    <tr>\n",
       "      <th id=\"T_52911_level0_row5\" class=\"row_heading level0 row5\" >runs_batter</th>\n",
       "      <td id=\"T_52911_row5_col0\" class=\"data row5 col0\" >0.072301</td>\n",
       "      <td id=\"T_52911_row5_col1\" class=\"data row5 col1\" >-0.122003</td>\n",
       "      <td id=\"T_52911_row5_col2\" class=\"data row5 col2\" >0.005306</td>\n",
       "      <td id=\"T_52911_row5_col3\" class=\"data row5 col3\" >-0.070551</td>\n",
       "      <td id=\"T_52911_row5_col4\" class=\"data row5 col4\" >-0.038156</td>\n",
       "      <td id=\"T_52911_row5_col5\" class=\"data row5 col5\" >1.000000</td>\n",
       "      <td id=\"T_52911_row5_col6\" class=\"data row5 col6\" >-0.141670</td>\n",
       "      <td id=\"T_52911_row5_col7\" class=\"data row5 col7\" >0.969805</td>\n",
       "      <td id=\"T_52911_row5_col8\" class=\"data row5 col8\" >-0.001714</td>\n",
       "      <td id=\"T_52911_row5_col9\" class=\"data row5 col9\" >0.166852</td>\n",
       "      <td id=\"T_52911_row5_col10\" class=\"data row5 col10\" >-0.165105</td>\n",
       "    </tr>\n",
       "    <tr>\n",
       "      <th id=\"T_52911_level0_row6\" class=\"row_heading level0 row6\" >runs_extras</th>\n",
       "      <td id=\"T_52911_row6_col0\" class=\"data row6 col0\" >-0.008488</td>\n",
       "      <td id=\"T_52911_row6_col1\" class=\"data row6 col1\" >0.762080</td>\n",
       "      <td id=\"T_52911_row6_col2\" class=\"data row6 col2\" >0.205879</td>\n",
       "      <td id=\"T_52911_row6_col3\" class=\"data row6 col3\" >0.454336</td>\n",
       "      <td id=\"T_52911_row6_col4\" class=\"data row6 col4\" >0.383612</td>\n",
       "      <td id=\"T_52911_row6_col5\" class=\"data row6 col5\" >-0.141670</td>\n",
       "      <td id=\"T_52911_row6_col6\" class=\"data row6 col6\" >1.000000</td>\n",
       "      <td id=\"T_52911_row6_col7\" class=\"data row6 col7\" >0.104031</td>\n",
       "      <td id=\"T_52911_row6_col8\" class=\"data row6 col8\" >0.001171</td>\n",
       "      <td id=\"T_52911_row6_col9\" class=\"data row6 col9\" >0.002726</td>\n",
       "      <td id=\"T_52911_row6_col10\" class=\"data row6 col10\" >-0.048744</td>\n",
       "    </tr>\n",
       "    <tr>\n",
       "      <th id=\"T_52911_level0_row7\" class=\"row_heading level0 row7\" >runs_total</th>\n",
       "      <td id=\"T_52911_row7_col0\" class=\"data row7 col0\" >0.070550</td>\n",
       "      <td id=\"T_52911_row7_col1\" class=\"data row7 col1\" >0.065175</td>\n",
       "      <td id=\"T_52911_row7_col2\" class=\"data row7 col2\" >0.056053</td>\n",
       "      <td id=\"T_52911_row7_col3\" class=\"data row7 col3\" >0.041050</td>\n",
       "      <td id=\"T_52911_row7_col4\" class=\"data row7 col4\" >0.056175</td>\n",
       "      <td id=\"T_52911_row7_col5\" class=\"data row7 col5\" >0.969805</td>\n",
       "      <td id=\"T_52911_row7_col6\" class=\"data row7 col6\" >0.104031</td>\n",
       "      <td id=\"T_52911_row7_col7\" class=\"data row7 col7\" >1.000000</td>\n",
       "      <td id=\"T_52911_row7_col8\" class=\"data row7 col8\" >-0.001434</td>\n",
       "      <td id=\"T_52911_row7_col9\" class=\"data row7 col9\" >0.168309</td>\n",
       "      <td id=\"T_52911_row7_col10\" class=\"data row7 col10\" >-0.177891</td>\n",
       "    </tr>\n",
       "    <tr>\n",
       "      <th id=\"T_52911_level0_row8\" class=\"row_heading level0 row8\" >over_ball</th>\n",
       "      <td id=\"T_52911_row8_col0\" class=\"data row8 col0\" >-0.019141</td>\n",
       "      <td id=\"T_52911_row8_col1\" class=\"data row8 col1\" >-0.000044</td>\n",
       "      <td id=\"T_52911_row8_col2\" class=\"data row8 col2\" >0.005681</td>\n",
       "      <td id=\"T_52911_row8_col3\" class=\"data row8 col3\" >-0.002758</td>\n",
       "      <td id=\"T_52911_row8_col4\" class=\"data row8 col4\" >0.003308</td>\n",
       "      <td id=\"T_52911_row8_col5\" class=\"data row8 col5\" >-0.001714</td>\n",
       "      <td id=\"T_52911_row8_col6\" class=\"data row8 col6\" >0.001171</td>\n",
       "      <td id=\"T_52911_row8_col7\" class=\"data row8 col7\" >-0.001434</td>\n",
       "      <td id=\"T_52911_row8_col8\" class=\"data row8 col8\" >1.000000</td>\n",
       "      <td id=\"T_52911_row8_col9\" class=\"data row8 col9\" >0.038864</td>\n",
       "      <td id=\"T_52911_row8_col10\" class=\"data row8 col10\" >0.003144</td>\n",
       "    </tr>\n",
       "    <tr>\n",
       "      <th id=\"T_52911_level0_row9\" class=\"row_heading level0 row9\" >runs_cumulative</th>\n",
       "      <td id=\"T_52911_row9_col0\" class=\"data row9 col0\" >0.867475</td>\n",
       "      <td id=\"T_52911_row9_col1\" class=\"data row9 col1\" >-0.012785</td>\n",
       "      <td id=\"T_52911_row9_col2\" class=\"data row9 col2\" >0.015923</td>\n",
       "      <td id=\"T_52911_row9_col3\" class=\"data row9 col3\" >0.005618</td>\n",
       "      <td id=\"T_52911_row9_col4\" class=\"data row9 col4\" >0.016791</td>\n",
       "      <td id=\"T_52911_row9_col5\" class=\"data row9 col5\" >0.166852</td>\n",
       "      <td id=\"T_52911_row9_col6\" class=\"data row9 col6\" >0.002726</td>\n",
       "      <td id=\"T_52911_row9_col7\" class=\"data row9 col7\" >0.168309</td>\n",
       "      <td id=\"T_52911_row9_col8\" class=\"data row9 col8\" >0.038864</td>\n",
       "      <td id=\"T_52911_row9_col9\" class=\"data row9 col9\" >1.000000</td>\n",
       "      <td id=\"T_52911_row9_col10\" class=\"data row9 col10\" >0.051161</td>\n",
       "    </tr>\n",
       "    <tr>\n",
       "      <th id=\"T_52911_level0_row10\" class=\"row_heading level0 row10\" >wicket</th>\n",
       "      <td id=\"T_52911_row10_col0\" class=\"data row10 col0\" >0.070750</td>\n",
       "      <td id=\"T_52911_row10_col1\" class=\"data row10 col1\" >-0.038402</td>\n",
       "      <td id=\"T_52911_row10_col2\" class=\"data row10 col2\" >-0.015418</td>\n",
       "      <td id=\"T_52911_row10_col3\" class=\"data row10 col3\" >-0.023344</td>\n",
       "      <td id=\"T_52911_row10_col4\" class=\"data row10 col4\" >-0.012153</td>\n",
       "      <td id=\"T_52911_row10_col5\" class=\"data row10 col5\" >-0.165105</td>\n",
       "      <td id=\"T_52911_row10_col6\" class=\"data row10 col6\" >-0.048744</td>\n",
       "      <td id=\"T_52911_row10_col7\" class=\"data row10 col7\" >-0.177891</td>\n",
       "      <td id=\"T_52911_row10_col8\" class=\"data row10 col8\" >0.003144</td>\n",
       "      <td id=\"T_52911_row10_col9\" class=\"data row10 col9\" >0.051161</td>\n",
       "      <td id=\"T_52911_row10_col10\" class=\"data row10 col10\" >1.000000</td>\n",
       "    </tr>\n",
       "  </tbody>\n",
       "</table>\n"
      ],
      "text/plain": [
       "<pandas.io.formats.style.Styler at 0x2aa35bf2130>"
      ]
     },
     "execution_count": 11,
     "metadata": {},
     "output_type": "execute_result"
    }
   ],
   "source": [
    "corr_data = train_data[[\"over\", \"wides\", \"noballs\", \"legbyes\", \"byes\", \"runs_batter\", \"runs_extras\", \"runs_total\", \"over_ball\", \"runs_cumulative\", \"wicket\"]]\n",
    "corr_df = corr_data.corr()\n",
    "corr_df.style.set_caption(\"Table 4: Correlation Analysis\").set_table_styles([{\n",
    "     'selector': 'caption',\n",
    "     'props': 'caption-side: bottom; font-size:1.25em;'\n",
    " }], overwrite=False)"
   ]
  },
  {
   "cell_type": "code",
   "execution_count": 12,
   "id": "30b636d9-9327-4921-9a06-05fa99dc3ec0",
   "metadata": {},
   "outputs": [
    {
     "data": {
      "application/vnd.vega.v5+json": {
       "$schema": "https://vega.github.io/schema/vega/v5.json",
       "axes": [
        {
         "grid": false,
         "labelAlign": "right",
         "labelAngle": 270,
         "labelBaseline": "middle",
         "orient": "bottom",
         "scale": "x",
         "title": "column",
         "zindex": 1
        },
        {
         "grid": false,
         "orient": "left",
         "scale": "y",
         "title": "row",
         "zindex": 1
        }
       ],
       "background": "white",
       "data": [
        {
         "name": "source_0",
         "values": [
          {
           "column": "over",
           "corr": 1,
           "row": "over"
          },
          {
           "column": "wides",
           "corr": -0.01963597848829859,
           "row": "over"
          },
          {
           "column": "noballs",
           "corr": 0.0067870893587129826,
           "row": "over"
          },
          {
           "column": "legbyes",
           "corr": -0.0014670263990750859,
           "row": "over"
          },
          {
           "column": "byes",
           "corr": 0.015333350705979056,
           "row": "over"
          },
          {
           "column": "runs_batter",
           "corr": 0.07230062997889217,
           "row": "over"
          },
          {
           "column": "runs_extras",
           "corr": -0.008488315937594127,
           "row": "over"
          },
          {
           "column": "runs_total",
           "corr": 0.07054973917286901,
           "row": "over"
          },
          {
           "column": "over_ball",
           "corr": -0.019140765901978,
           "row": "over"
          },
          {
           "column": "runs_cumulative",
           "corr": 0.8674752226991553,
           "row": "over"
          },
          {
           "column": "wicket",
           "corr": 0.07075027718744105,
           "row": "over"
          },
          {
           "column": "over",
           "corr": -0.01963597848829859,
           "row": "wides"
          },
          {
           "column": "wides",
           "corr": 1,
           "row": "wides"
          },
          {
           "column": "noballs",
           "corr": -0.01195826276276395,
           "row": "wides"
          },
          {
           "column": "legbyes",
           "corr": -0.017040258173563715,
           "row": "wides"
          },
          {
           "column": "byes",
           "corr": -0.00921572176279006,
           "row": "wides"
          },
          {
           "column": "runs_batter",
           "corr": -0.12200305975284648,
           "row": "wides"
          },
          {
           "column": "runs_extras",
           "corr": 0.762079694729687,
           "row": "wides"
          },
          {
           "column": "runs_total",
           "corr": 0.0651745068639632,
           "row": "wides"
          },
          {
           "column": "over_ball",
           "corr": -0.00004359142040016353,
           "row": "wides"
          },
          {
           "column": "runs_cumulative",
           "corr": -0.012785422238918976,
           "row": "wides"
          },
          {
           "column": "wicket",
           "corr": -0.03840189747304664,
           "row": "wides"
          },
          {
           "column": "over",
           "corr": 0.0067870893587129826,
           "row": "noballs"
          },
          {
           "column": "wides",
           "corr": -0.01195826276276395,
           "row": "noballs"
          },
          {
           "column": "noballs",
           "corr": 1,
           "row": "noballs"
          },
          {
           "column": "legbyes",
           "corr": -0.00330113867348509,
           "row": "noballs"
          },
          {
           "column": "byes",
           "corr": 0.02559108580164941,
           "row": "noballs"
          },
          {
           "column": "runs_batter",
           "corr": 0.005305535444174225,
           "row": "noballs"
          },
          {
           "column": "runs_extras",
           "corr": 0.2058794077770446,
           "row": "noballs"
          },
          {
           "column": "runs_total",
           "corr": 0.05605256843383184,
           "row": "noballs"
          },
          {
           "column": "over_ball",
           "corr": 0.005681218796349118,
           "row": "noballs"
          },
          {
           "column": "runs_cumulative",
           "corr": 0.015922868222335178,
           "row": "noballs"
          },
          {
           "column": "wicket",
           "corr": -0.01541811260632057,
           "row": "noballs"
          },
          {
           "column": "over",
           "corr": -0.0014670263990750859,
           "row": "legbyes"
          },
          {
           "column": "wides",
           "corr": -0.017040258173563715,
           "row": "legbyes"
          },
          {
           "column": "noballs",
           "corr": -0.00330113867348509,
           "row": "legbyes"
          },
          {
           "column": "legbyes",
           "corr": 1,
           "row": "legbyes"
          },
          {
           "column": "byes",
           "corr": -0.0053290029128789775,
           "row": "legbyes"
          },
          {
           "column": "runs_batter",
           "corr": -0.07055121240579332,
           "row": "legbyes"
          },
          {
           "column": "runs_extras",
           "corr": 0.4543356939191382,
           "row": "legbyes"
          },
          {
           "column": "runs_total",
           "corr": 0.04105035211600021,
           "row": "legbyes"
          },
          {
           "column": "over_ball",
           "corr": -0.0027578330043640446,
           "row": "legbyes"
          },
          {
           "column": "runs_cumulative",
           "corr": 0.005618368299345548,
           "row": "legbyes"
          },
          {
           "column": "wicket",
           "corr": -0.02334428416269172,
           "row": "legbyes"
          },
          {
           "column": "over",
           "corr": 0.015333350705979056,
           "row": "byes"
          },
          {
           "column": "wides",
           "corr": -0.00921572176279006,
           "row": "byes"
          },
          {
           "column": "noballs",
           "corr": 0.02559108580164941,
           "row": "byes"
          },
          {
           "column": "legbyes",
           "corr": -0.0053290029128789775,
           "row": "byes"
          },
          {
           "column": "byes",
           "corr": 1,
           "row": "byes"
          },
          {
           "column": "runs_batter",
           "corr": -0.03815554535247591,
           "row": "byes"
          },
          {
           "column": "runs_extras",
           "corr": 0.3836121704463502,
           "row": "byes"
          },
          {
           "column": "runs_total",
           "corr": 0.05617452355180077,
           "row": "byes"
          },
          {
           "column": "over_ball",
           "corr": 0.0033084386790596517,
           "row": "byes"
          },
          {
           "column": "runs_cumulative",
           "corr": 0.01679126316089669,
           "row": "byes"
          },
          {
           "column": "wicket",
           "corr": -0.012152757568565804,
           "row": "byes"
          },
          {
           "column": "over",
           "corr": 0.07230062997889217,
           "row": "runs_batter"
          },
          {
           "column": "wides",
           "corr": -0.12200305975284648,
           "row": "runs_batter"
          },
          {
           "column": "noballs",
           "corr": 0.005305535444174225,
           "row": "runs_batter"
          },
          {
           "column": "legbyes",
           "corr": -0.07055121240579332,
           "row": "runs_batter"
          },
          {
           "column": "byes",
           "corr": -0.03815554535247591,
           "row": "runs_batter"
          },
          {
           "column": "runs_batter",
           "corr": 1,
           "row": "runs_batter"
          },
          {
           "column": "runs_extras",
           "corr": -0.14166966914204476,
           "row": "runs_batter"
          },
          {
           "column": "runs_total",
           "corr": 0.969804678786867,
           "row": "runs_batter"
          },
          {
           "column": "over_ball",
           "corr": -0.0017142821990440281,
           "row": "runs_batter"
          },
          {
           "column": "runs_cumulative",
           "corr": 0.16685224587151518,
           "row": "runs_batter"
          },
          {
           "column": "wicket",
           "corr": -0.16510507562350885,
           "row": "runs_batter"
          },
          {
           "column": "over",
           "corr": -0.008488315937594127,
           "row": "runs_extras"
          },
          {
           "column": "wides",
           "corr": 0.762079694729687,
           "row": "runs_extras"
          },
          {
           "column": "noballs",
           "corr": 0.2058794077770446,
           "row": "runs_extras"
          },
          {
           "column": "legbyes",
           "corr": 0.4543356939191382,
           "row": "runs_extras"
          },
          {
           "column": "byes",
           "corr": 0.3836121704463502,
           "row": "runs_extras"
          },
          {
           "column": "runs_batter",
           "corr": -0.14166966914204476,
           "row": "runs_extras"
          },
          {
           "column": "runs_extras",
           "corr": 1,
           "row": "runs_extras"
          },
          {
           "column": "runs_total",
           "corr": 0.10403121897225011,
           "row": "runs_extras"
          },
          {
           "column": "over_ball",
           "corr": 0.0011705098263158143,
           "row": "runs_extras"
          },
          {
           "column": "runs_cumulative",
           "corr": 0.0027260408848823105,
           "row": "runs_extras"
          },
          {
           "column": "wicket",
           "corr": -0.04874390855264642,
           "row": "runs_extras"
          },
          {
           "column": "over",
           "corr": 0.07054973917286901,
           "row": "runs_total"
          },
          {
           "column": "wides",
           "corr": 0.0651745068639632,
           "row": "runs_total"
          },
          {
           "column": "noballs",
           "corr": 0.05605256843383184,
           "row": "runs_total"
          },
          {
           "column": "legbyes",
           "corr": 0.04105035211600021,
           "row": "runs_total"
          },
          {
           "column": "byes",
           "corr": 0.05617452355180077,
           "row": "runs_total"
          },
          {
           "column": "runs_batter",
           "corr": 0.969804678786867,
           "row": "runs_total"
          },
          {
           "column": "runs_extras",
           "corr": 0.10403121897225011,
           "row": "runs_total"
          },
          {
           "column": "runs_total",
           "corr": 1,
           "row": "runs_total"
          },
          {
           "column": "over_ball",
           "corr": -0.001433976290658357,
           "row": "runs_total"
          },
          {
           "column": "runs_cumulative",
           "corr": 0.16830931547348663,
           "row": "runs_total"
          },
          {
           "column": "wicket",
           "corr": -0.1778912412643829,
           "row": "runs_total"
          },
          {
           "column": "over",
           "corr": -0.019140765901978,
           "row": "over_ball"
          },
          {
           "column": "wides",
           "corr": -0.00004359142040016353,
           "row": "over_ball"
          },
          {
           "column": "noballs",
           "corr": 0.005681218796349118,
           "row": "over_ball"
          },
          {
           "column": "legbyes",
           "corr": -0.0027578330043640446,
           "row": "over_ball"
          },
          {
           "column": "byes",
           "corr": 0.0033084386790596517,
           "row": "over_ball"
          },
          {
           "column": "runs_batter",
           "corr": -0.0017142821990440281,
           "row": "over_ball"
          },
          {
           "column": "runs_extras",
           "corr": 0.0011705098263158143,
           "row": "over_ball"
          },
          {
           "column": "runs_total",
           "corr": -0.001433976290658357,
           "row": "over_ball"
          },
          {
           "column": "over_ball",
           "corr": 1,
           "row": "over_ball"
          },
          {
           "column": "runs_cumulative",
           "corr": 0.038863925902721065,
           "row": "over_ball"
          },
          {
           "column": "wicket",
           "corr": 0.0031437486459168704,
           "row": "over_ball"
          },
          {
           "column": "over",
           "corr": 0.8674752226991553,
           "row": "runs_cumulative"
          },
          {
           "column": "wides",
           "corr": -0.012785422238918976,
           "row": "runs_cumulative"
          },
          {
           "column": "noballs",
           "corr": 0.015922868222335178,
           "row": "runs_cumulative"
          },
          {
           "column": "legbyes",
           "corr": 0.005618368299345548,
           "row": "runs_cumulative"
          },
          {
           "column": "byes",
           "corr": 0.01679126316089669,
           "row": "runs_cumulative"
          },
          {
           "column": "runs_batter",
           "corr": 0.16685224587151518,
           "row": "runs_cumulative"
          },
          {
           "column": "runs_extras",
           "corr": 0.0027260408848823105,
           "row": "runs_cumulative"
          },
          {
           "column": "runs_total",
           "corr": 0.16830931547348663,
           "row": "runs_cumulative"
          },
          {
           "column": "over_ball",
           "corr": 0.038863925902721065,
           "row": "runs_cumulative"
          },
          {
           "column": "runs_cumulative",
           "corr": 1,
           "row": "runs_cumulative"
          },
          {
           "column": "wicket",
           "corr": 0.051160693679552255,
           "row": "runs_cumulative"
          },
          {
           "column": "over",
           "corr": 0.07075027718744105,
           "row": "wicket"
          },
          {
           "column": "wides",
           "corr": -0.03840189747304664,
           "row": "wicket"
          },
          {
           "column": "noballs",
           "corr": -0.01541811260632057,
           "row": "wicket"
          },
          {
           "column": "legbyes",
           "corr": -0.02334428416269172,
           "row": "wicket"
          },
          {
           "column": "byes",
           "corr": -0.012152757568565804,
           "row": "wicket"
          },
          {
           "column": "runs_batter",
           "corr": -0.16510507562350885,
           "row": "wicket"
          },
          {
           "column": "runs_extras",
           "corr": -0.04874390855264642,
           "row": "wicket"
          },
          {
           "column": "runs_total",
           "corr": -0.1778912412643829,
           "row": "wicket"
          },
          {
           "column": "over_ball",
           "corr": 0.0031437486459168704,
           "row": "wicket"
          },
          {
           "column": "runs_cumulative",
           "corr": 0.051160693679552255,
           "row": "wicket"
          },
          {
           "column": "wicket",
           "corr": 1,
           "row": "wicket"
          }
         ]
        },
        {
         "name": "source_0_x_domain_column",
         "values": [
          {
           "column": "over"
          },
          {
           "column": "wides"
          },
          {
           "column": "noballs"
          },
          {
           "column": "legbyes"
          },
          {
           "column": "byes"
          },
          {
           "column": "runs_batter"
          },
          {
           "column": "runs_extras"
          },
          {
           "column": "runs_total"
          },
          {
           "column": "over_ball"
          },
          {
           "column": "runs_cumulative"
          },
          {
           "column": "wicket"
          }
         ]
        },
        {
         "name": "source_0_y_domain_row",
         "values": [
          {
           "row": "over"
          },
          {
           "row": "wides"
          },
          {
           "row": "noballs"
          },
          {
           "row": "legbyes"
          },
          {
           "row": "byes"
          },
          {
           "row": "runs_batter"
          },
          {
           "row": "runs_extras"
          },
          {
           "row": "runs_total"
          },
          {
           "row": "over_ball"
          },
          {
           "row": "runs_cumulative"
          },
          {
           "row": "wicket"
          }
         ]
        },
        {
         "name": "source_0_color_domain_corr",
         "values": [
          {
           "max": 1,
           "min": -0.1778912412643829
          }
         ]
        }
       ],
       "height": 400,
       "legends": [
        {
         "fill": "color",
         "gradientLength": {
          "signal": "clamp(height, 64, 200)"
         },
         "title": "corr"
        }
       ],
       "marks": [
        {
         "encode": {
          "update": {
           "description": {
            "signal": "\"column: \" + (isValid(datum[\"column\"]) ? datum[\"column\"] : \"\"+datum[\"column\"]) + \"; row: \" + (isValid(datum[\"row\"]) ? datum[\"row\"] : \"\"+datum[\"row\"]) + \"; corr: \" + (format(datum[\"corr\"], \"\"))"
           },
           "fill": {
            "field": "corr",
            "scale": "color"
           },
           "height": {
            "signal": "max(0.25, bandwidth('y'))"
           },
           "tooltip": {
            "signal": "format(datum[\"corr\"], \"\")"
           },
           "width": {
            "signal": "max(0.25, bandwidth('x'))"
           },
           "x": {
            "field": "column",
            "scale": "x"
           },
           "y": {
            "field": "row",
            "scale": "y"
           }
          }
         },
         "from": {
          "data": "source_0"
         },
         "name": "marks",
         "style": [
          "rect"
         ],
         "type": "rect"
        }
       ],
       "padding": 5,
       "scales": [
        {
         "domain": {
          "data": "source_0_x_domain_column",
          "field": "column",
          "sort": true
         },
         "name": "x",
         "paddingInner": 0,
         "paddingOuter": 0,
         "range": [
          0,
          {
           "signal": "width"
          }
         ],
         "type": "band"
        },
        {
         "domain": {
          "data": "source_0_y_domain_row",
          "field": "row",
          "sort": true
         },
         "name": "y",
         "paddingInner": 0,
         "paddingOuter": 0,
         "range": [
          0,
          {
           "signal": "height"
          }
         ],
         "type": "band"
        },
        {
         "domain": [
          {
           "signal": "(data(\"source_0_color_domain_corr\")[0] || {}).min"
          },
          {
           "signal": "(data(\"source_0_color_domain_corr\")[0] || {}).max"
          }
         ],
         "interpolate": "hcl",
         "name": "color",
         "range": "heatmap",
         "type": "linear",
         "zero": false
        }
       ],
       "style": "cell",
       "title": {
        "frame": "group",
        "text": "Figure 2: Correlation Matrix"
       },
       "width": 400
      },
      "text/plain": [
       "<VegaLite 5 object>\n",
       "\n",
       "If you see this message, it means the renderer has not been properly enabled\n",
       "for the frontend that you are using. For more information, see\n",
       "https://altair-viz.github.io/user_guide/display_frontends.html#troubleshooting\n"
      ]
     },
     "execution_count": 12,
     "metadata": {},
     "output_type": "execute_result"
    }
   ],
   "source": [
    "corr_ = corr_df.stack()\n",
    "corr_ = corr_.reset_index()\n",
    "corr_.columns = ['row', 'column', 'corr']\n",
    "corr_\n",
    "\n",
    "alt.Chart(corr_).mark_rect().encode(\n",
    "    x = 'column',\n",
    "    y = 'row',\n",
    "    color = 'corr:Q',\n",
    "    tooltip = 'corr:Q'\n",
    ").properties(\n",
    "    width = 400,\n",
    "    height = 400,\n",
    "    title = \"Figure 2: Correlation Matrix\"\n",
    ")"
   ]
  },
  {
   "cell_type": "code",
   "execution_count": 13,
   "id": "192d2c95-bc79-4d77-863e-f3af6e107a5e",
   "metadata": {},
   "outputs": [
    {
     "data": {
      "text/html": [
       "<style type=\"text/css\">\n",
       "#T_897c7 caption {\n",
       "  caption-side: bottom;\n",
       "  font-size: 1.25em;\n",
       "}\n",
       "</style>\n",
       "<table id=\"T_897c7\">\n",
       "  <caption>Table 5: Correlation Coefficients for top 15 most correlated variables</caption>\n",
       "  <thead>\n",
       "    <tr>\n",
       "      <th class=\"blank level0\" >&nbsp;</th>\n",
       "      <th id=\"T_897c7_level0_col0\" class=\"col_heading level0 col0\" >row</th>\n",
       "      <th id=\"T_897c7_level0_col1\" class=\"col_heading level0 col1\" >column</th>\n",
       "      <th id=\"T_897c7_level0_col2\" class=\"col_heading level0 col2\" >corr</th>\n",
       "    </tr>\n",
       "  </thead>\n",
       "  <tbody>\n",
       "    <tr>\n",
       "      <th id=\"T_897c7_level0_row0\" class=\"row_heading level0 row0\" >62</th>\n",
       "      <td id=\"T_897c7_row0_col0\" class=\"data row0 col0\" >runs_batter</td>\n",
       "      <td id=\"T_897c7_row0_col1\" class=\"data row0 col1\" >runs_total</td>\n",
       "      <td id=\"T_897c7_row0_col2\" class=\"data row0 col2\" >0.969805</td>\n",
       "    </tr>\n",
       "    <tr>\n",
       "      <th id=\"T_897c7_level0_row1\" class=\"row_heading level0 row1\" >82</th>\n",
       "      <td id=\"T_897c7_row1_col0\" class=\"data row1 col0\" >runs_total</td>\n",
       "      <td id=\"T_897c7_row1_col1\" class=\"data row1 col1\" >runs_batter</td>\n",
       "      <td id=\"T_897c7_row1_col2\" class=\"data row1 col2\" >0.969805</td>\n",
       "    </tr>\n",
       "    <tr>\n",
       "      <th id=\"T_897c7_level0_row2\" class=\"row_heading level0 row2\" >9</th>\n",
       "      <td id=\"T_897c7_row2_col0\" class=\"data row2 col0\" >over</td>\n",
       "      <td id=\"T_897c7_row2_col1\" class=\"data row2 col1\" >runs_cumulative</td>\n",
       "      <td id=\"T_897c7_row2_col2\" class=\"data row2 col2\" >0.867475</td>\n",
       "    </tr>\n",
       "    <tr>\n",
       "      <th id=\"T_897c7_level0_row3\" class=\"row_heading level0 row3\" >99</th>\n",
       "      <td id=\"T_897c7_row3_col0\" class=\"data row3 col0\" >runs_cumulative</td>\n",
       "      <td id=\"T_897c7_row3_col1\" class=\"data row3 col1\" >over</td>\n",
       "      <td id=\"T_897c7_row3_col2\" class=\"data row3 col2\" >0.867475</td>\n",
       "    </tr>\n",
       "    <tr>\n",
       "      <th id=\"T_897c7_level0_row4\" class=\"row_heading level0 row4\" >17</th>\n",
       "      <td id=\"T_897c7_row4_col0\" class=\"data row4 col0\" >wides</td>\n",
       "      <td id=\"T_897c7_row4_col1\" class=\"data row4 col1\" >runs_extras</td>\n",
       "      <td id=\"T_897c7_row4_col2\" class=\"data row4 col2\" >0.762080</td>\n",
       "    </tr>\n",
       "    <tr>\n",
       "      <th id=\"T_897c7_level0_row5\" class=\"row_heading level0 row5\" >67</th>\n",
       "      <td id=\"T_897c7_row5_col0\" class=\"data row5 col0\" >runs_extras</td>\n",
       "      <td id=\"T_897c7_row5_col1\" class=\"data row5 col1\" >wides</td>\n",
       "      <td id=\"T_897c7_row5_col2\" class=\"data row5 col2\" >0.762080</td>\n",
       "    </tr>\n",
       "    <tr>\n",
       "      <th id=\"T_897c7_level0_row6\" class=\"row_heading level0 row6\" >69</th>\n",
       "      <td id=\"T_897c7_row6_col0\" class=\"data row6 col0\" >runs_extras</td>\n",
       "      <td id=\"T_897c7_row6_col1\" class=\"data row6 col1\" >legbyes</td>\n",
       "      <td id=\"T_897c7_row6_col2\" class=\"data row6 col2\" >0.454336</td>\n",
       "    </tr>\n",
       "    <tr>\n",
       "      <th id=\"T_897c7_level0_row7\" class=\"row_heading level0 row7\" >39</th>\n",
       "      <td id=\"T_897c7_row7_col0\" class=\"data row7 col0\" >legbyes</td>\n",
       "      <td id=\"T_897c7_row7_col1\" class=\"data row7 col1\" >runs_extras</td>\n",
       "      <td id=\"T_897c7_row7_col2\" class=\"data row7 col2\" >0.454336</td>\n",
       "    </tr>\n",
       "    <tr>\n",
       "      <th id=\"T_897c7_level0_row8\" class=\"row_heading level0 row8\" >50</th>\n",
       "      <td id=\"T_897c7_row8_col0\" class=\"data row8 col0\" >byes</td>\n",
       "      <td id=\"T_897c7_row8_col1\" class=\"data row8 col1\" >runs_extras</td>\n",
       "      <td id=\"T_897c7_row8_col2\" class=\"data row8 col2\" >0.383612</td>\n",
       "    </tr>\n",
       "    <tr>\n",
       "      <th id=\"T_897c7_level0_row9\" class=\"row_heading level0 row9\" >70</th>\n",
       "      <td id=\"T_897c7_row9_col0\" class=\"data row9 col0\" >runs_extras</td>\n",
       "      <td id=\"T_897c7_row9_col1\" class=\"data row9 col1\" >byes</td>\n",
       "      <td id=\"T_897c7_row9_col2\" class=\"data row9 col2\" >0.383612</td>\n",
       "    </tr>\n",
       "    <tr>\n",
       "      <th id=\"T_897c7_level0_row10\" class=\"row_heading level0 row10\" >28</th>\n",
       "      <td id=\"T_897c7_row10_col0\" class=\"data row10 col0\" >noballs</td>\n",
       "      <td id=\"T_897c7_row10_col1\" class=\"data row10 col1\" >runs_extras</td>\n",
       "      <td id=\"T_897c7_row10_col2\" class=\"data row10 col2\" >0.205879</td>\n",
       "    </tr>\n",
       "    <tr>\n",
       "      <th id=\"T_897c7_level0_row11\" class=\"row_heading level0 row11\" >68</th>\n",
       "      <td id=\"T_897c7_row11_col0\" class=\"data row11 col0\" >runs_extras</td>\n",
       "      <td id=\"T_897c7_row11_col1\" class=\"data row11 col1\" >noballs</td>\n",
       "      <td id=\"T_897c7_row11_col2\" class=\"data row11 col2\" >0.205879</td>\n",
       "    </tr>\n",
       "    <tr>\n",
       "      <th id=\"T_897c7_level0_row12\" class=\"row_heading level0 row12\" >86</th>\n",
       "      <td id=\"T_897c7_row12_col0\" class=\"data row12 col0\" >runs_total</td>\n",
       "      <td id=\"T_897c7_row12_col1\" class=\"data row12 col1\" >runs_cumulative</td>\n",
       "      <td id=\"T_897c7_row12_col2\" class=\"data row12 col2\" >0.168309</td>\n",
       "    </tr>\n",
       "    <tr>\n",
       "      <th id=\"T_897c7_level0_row13\" class=\"row_heading level0 row13\" >106</th>\n",
       "      <td id=\"T_897c7_row13_col0\" class=\"data row13 col0\" >runs_cumulative</td>\n",
       "      <td id=\"T_897c7_row13_col1\" class=\"data row13 col1\" >runs_total</td>\n",
       "      <td id=\"T_897c7_row13_col2\" class=\"data row13 col2\" >0.168309</td>\n",
       "    </tr>\n",
       "    <tr>\n",
       "      <th id=\"T_897c7_level0_row14\" class=\"row_heading level0 row14\" >64</th>\n",
       "      <td id=\"T_897c7_row14_col0\" class=\"data row14 col0\" >runs_batter</td>\n",
       "      <td id=\"T_897c7_row14_col1\" class=\"data row14 col1\" >runs_cumulative</td>\n",
       "      <td id=\"T_897c7_row14_col2\" class=\"data row14 col2\" >0.166852</td>\n",
       "    </tr>\n",
       "  </tbody>\n",
       "</table>\n"
      ],
      "text/plain": [
       "<pandas.io.formats.style.Styler at 0x2aa35acb1c0>"
      ]
     },
     "execution_count": 13,
     "metadata": {},
     "output_type": "execute_result"
    }
   ],
   "source": [
    "corr_table = corr_[corr_[\"row\"] != corr_[\"column\"]]\n",
    "(corr_table.sort_values(\"corr\", ascending = False).head(15)).style.set_caption(\"Table 5: Correlation Coefficients for top 15 most correlated variables\").set_table_styles([{\n",
    "     'selector': 'caption',\n",
    "     'props': 'caption-side: bottom; font-size:1.25em;'\n",
    " }], overwrite=False)"
   ]
  },
  {
   "cell_type": "markdown",
   "id": "298eada2-e857-4427-9465-97261f90ddb4",
   "metadata": {},
   "source": [
    "Among the quantitative attributes, 5 pairs of relationship are above the threshold of weak correlation(**|r| > 0.3**), and they are: \n",
    "\n",
    "1. **batter_total & run_total(r = 0.97)**\n",
    "2. **over & runs_cumulative(r = 0.87)**\n",
    "3. **wides & runs_extras(r = 0.76)**\n",
    "5. **legbyes & runs_extras(r = 0.46)**\n",
    "8. **byes & runs_extra(r = 0.38)**\n",
    "\n",
    "Note that, using Pearson's r might not be able to capture non-linear relationships that potentially exist among these relationships."
   ]
  },
  {
   "cell_type": "code",
   "execution_count": 14,
   "id": "3fcb9c8a",
   "metadata": {},
   "outputs": [
    {
     "data": {
      "text/html": [
       "<style type=\"text/css\">\n",
       "#T_fc5c8 caption {\n",
       "  caption-side: bottom;\n",
       "  font-size: 1.25em;\n",
       "}\n",
       "</style>\n",
       "<table id=\"T_fc5c8\">\n",
       "  <caption>Table 6: Wicket Count based off of Powerplay</caption>\n",
       "  <thead>\n",
       "    <tr>\n",
       "      <th class=\"blank\" >&nbsp;</th>\n",
       "      <th class=\"blank level0\" >&nbsp;</th>\n",
       "      <th id=\"T_fc5c8_level0_col0\" class=\"col_heading level0 col0\" >count</th>\n",
       "    </tr>\n",
       "    <tr>\n",
       "      <th class=\"index_name level0\" >powerplay</th>\n",
       "      <th class=\"index_name level1\" >wicket</th>\n",
       "      <th class=\"blank col0\" >&nbsp;</th>\n",
       "    </tr>\n",
       "  </thead>\n",
       "  <tbody>\n",
       "    <tr>\n",
       "      <th id=\"T_fc5c8_level0_row0\" class=\"row_heading level0 row0\" rowspan=\"2\">0</th>\n",
       "      <th id=\"T_fc5c8_level1_row0\" class=\"row_heading level1 row0\" >0</th>\n",
       "      <td id=\"T_fc5c8_row0_col0\" class=\"data row0 col0\" >320694</td>\n",
       "    </tr>\n",
       "    <tr>\n",
       "      <th id=\"T_fc5c8_level1_row1\" class=\"row_heading level1 row1\" >1</th>\n",
       "      <td id=\"T_fc5c8_row1_col0\" class=\"data row1 col0\" >20714</td>\n",
       "    </tr>\n",
       "    <tr>\n",
       "      <th id=\"T_fc5c8_level0_row2\" class=\"row_heading level0 row2\" rowspan=\"2\">1</th>\n",
       "      <th id=\"T_fc5c8_level1_row2\" class=\"row_heading level1 row2\" >0</th>\n",
       "      <td id=\"T_fc5c8_row2_col0\" class=\"data row2 col0\" >161854</td>\n",
       "    </tr>\n",
       "    <tr>\n",
       "      <th id=\"T_fc5c8_level1_row3\" class=\"row_heading level1 row3\" >1</th>\n",
       "      <td id=\"T_fc5c8_row3_col0\" class=\"data row3 col0\" >7390</td>\n",
       "    </tr>\n",
       "  </tbody>\n",
       "</table>\n"
      ],
      "text/plain": [
       "<pandas.io.formats.style.Styler at 0x2aa33104c70>"
      ]
     },
     "execution_count": 14,
     "metadata": {},
     "output_type": "execute_result"
    }
   ],
   "source": [
    "pd.DataFrame(train_data.groupby('powerplay')['wicket'].value_counts()).style.set_caption(\"Table 6: Wicket Count based off of Powerplay\").set_table_styles([{\n",
    "     'selector': 'caption',\n",
    "     'props': 'caption-side: bottom; font-size:1.25em;'\n",
    " }], overwrite=False)"
   ]
  },
  {
   "cell_type": "markdown",
   "id": "31d7e974",
   "metadata": {},
   "source": [
    "We can see that there is a much higher proportion of wickets during the powerplay (approximately 31% are wickets compared to only around 6% in non-powerplay conditions). This could be attributed to players taking more risks since there are more fielding restrictions in the powerplay (Bhattacharjee et al, 2016, pp. 39 - 47) While most of the game is in the powerplay, and there is a class imbalance, this suggests that the powerplay does affect the chances of a wicket."
   ]
  },
  {
   "cell_type": "code",
   "execution_count": 15,
   "id": "f67caf50",
   "metadata": {},
   "outputs": [
    {
     "data": {
      "text/plain": [
       "<Axes: title={'center': 'Figure 3.a : Wicket count across overs'}, xlabel='Over', ylabel='Wicket Count'>"
      ]
     },
     "execution_count": 15,
     "metadata": {},
     "output_type": "execute_result"
    },
    {
     "data": {
      "image/png": "[encoded data removed]",
      "text/plain": [
       "<Figure size 640x480 with 1 Axes>"
      ]
     },
     "metadata": {},
     "output_type": "display_data"
    }
   ],
   "source": [
    "train_data.groupby('over')['wicket'].count().plot(kind = 'bar', xlabel=\"Over\", ylabel=\"Wicket Count\",\n",
    "                                                   title = \"Figure 3.a : Wicket count across overs\")"
   ]
  },
  {
   "cell_type": "markdown",
   "id": "b979e787",
   "metadata": {},
   "source": [
    "Similarly, the distribution above shows us that towards the end of the game, there are significantly less wickets than in the first few overs, which suggests that the variable \"Over\" could be used for our model as well."
   ]
  },
  {
   "cell_type": "code",
   "execution_count": 16,
   "id": "2f62057d",
   "metadata": {},
   "outputs": [
    {
     "data": {
      "text/plain": [
       "<Axes: title={'center': 'Figure 3.b: Wicket count across innings'}, xlabel='inning', ylabel='Wicket Count'>"
      ]
     },
     "execution_count": 16,
     "metadata": {},
     "output_type": "execute_result"
    },
    {
     "data": {
      "image/png": "[encoded data removed]",
      "text/plain": [
       "<Figure size 640x480 with 1 Axes>"
      ]
     },
     "metadata": {},
     "output_type": "display_data"
    }
   ],
   "source": [
    "train_data.groupby('inning')['wicket'].count().plot(kind = 'bar', xlabel ='inning', ylabel = 'Wicket Count', \n",
    "                                                    title = \"Figure 3.b: Wicket count across innings\")"
   ]
  },
  {
   "cell_type": "markdown",
   "id": "c7bb2cdf",
   "metadata": {},
   "source": [
    "The above plot indicates that there are significantly more wickets in the first innings than the second. This could be attributed to the fact that in the second innings, batters are more likely to come in with a plan as they have a target in mind to chase and they are less likely to take risks. It is also possible that the number of wickets in the second innings is lower since the teams may not play the full second innings if they reach the target before that. So, this is a variable we will take into consideration when building our model."
   ]
  },
  {
   "cell_type": "code",
   "execution_count": 17,
   "id": "a554914c",
   "metadata": {},
   "outputs": [
    {
     "data": {
      "image/png": "[encoded data removed]",
      "text/plain": [
       "<Figure size 640x480 with 1 Axes>"
      ]
     },
     "metadata": {},
     "output_type": "display_data"
    }
   ],
   "source": [
    "train_data_0 = train_data[train_data['wicket'] == 0]\n",
    "train_data_1 = train_data[train_data['wicket'] == 1]\n",
    "\n",
    "plt.hist(train_data_0['runs_cumulative'],  \n",
    "         label=\"Not a Wicket\",\n",
    "         alpha = 0.5, \n",
    "         density = True) \n",
    "  \n",
    "plt.hist(train_data_1['runs_cumulative'],  \n",
    "         label=\"Wicket\",\n",
    "         alpha = 0.5,\n",
    "         density=True) \n",
    "  \n",
    "plt.legend(loc='upper right') \n",
    "plt.xlabel(\"Runs scored until Current Ball in Current Innings\")\n",
    "plt.ylabel(\"Probability Density\")\n",
    "plt.title('Figure 4: Wicket Probability Density by Cumulative runs scored in current innings') \n",
    "plt.show()"
   ]
  },
  {
   "cell_type": "markdown",
   "id": "8f00055e",
   "metadata": {},
   "source": [
    "There does not seem to be too much of a relationship between the runs scored so far and whether there is a wicket or not, except when the runs are greater than 100. At this point, it is more likely to be a wicket."
   ]
  },
  {
   "cell_type": "markdown",
   "id": "6d349837",
   "metadata": {},
   "source": [
    "### Model Building\n",
    "\n",
    "Next, we will use the relationships we found above to build our model. The variables we will be looking at are `inning`, `over`, `powerplay`, `over_ball` and `runs_cumulative`. We will perform preprocessing on our datasets using one-hot encoding on our categorical variables. While there is only one numerical variable, we will still create a scaler in case we look to add other variables later in our analysis. \n",
    "\n",
    "We are going to create a Logistic Regression Model for this analysis. We decided against K-NN classification as there is class imbalance and even if we balance our classes by oversampling, our accuracy will decrease using a nearest neighbours methodology. We will be using a pipeline to fit our data."
   ]
  },
  {
   "cell_type": "code",
   "execution_count": 18,
   "id": "8b61d175",
   "metadata": {},
   "outputs": [],
   "source": [
    "ohe = OneHotEncoder(drop = \"if_binary\", handle_unknown=\"ignore\")\n",
    "scaler = StandardScaler()\n",
    "\n",
    "model = LogisticRegression(C = 10, class_weight=\"balanced\", n_jobs=-1)\n",
    "\n",
    "\n",
    "numerical_feats = ['runs_cumulative']\n",
    "categorical_feats = ['inning', 'over', 'powerplay', 'over_ball',]\n",
    "drop_feats = ['game_id', 'season', 'team','batter', 'batter_id', 'bowler',\n",
    "       'bowler_id', 'non_striker', 'non_striker_id', 'wides', 'noballs',\n",
    "       'legbyes', 'byes', 'player_out', 'player_out_id', 'fielders_name',\n",
    "       'fielders_id', 'wicket_type', 'runs_batter', 'runs_extras', \n",
    "       'runs_total', 'team_over']\n",
    "\n",
    "\n",
    "ct = make_column_transformer(\n",
    "    (scaler, numerical_feats), \n",
    "    (ohe, categorical_feats),\n",
    "    (\"drop\", drop_feats)\n",
    ")\n"
   ]
  },
  {
   "cell_type": "code",
   "execution_count": 19,
   "id": "1d4aeff3",
   "metadata": {},
   "outputs": [],
   "source": [
    "pipe = make_pipeline(\n",
    "    ct, \n",
    "    model\n",
    ")"
   ]
  },
  {
   "cell_type": "code",
   "execution_count": 20,
   "id": "94d5ef97",
   "metadata": {},
   "outputs": [
    {
     "data": {
      "text/html": [
       "<style>#sk-container-id-1 {color: black;background-color: white;}#sk-container-id-1 pre{padding: 0;}#sk-container-id-1 div.sk-toggleable {background-color: white;}#sk-container-id-1 label.sk-toggleable__label {cursor: pointer;display: block;width: 100%;margin-bottom: 0;padding: 0.3em;box-sizing: border-box;text-align: center;}#sk-container-id-1 label.sk-toggleable__label-arrow:before {content: \"▸\";float: left;margin-right: 0.25em;color: #696969;}#sk-container-id-1 label.sk-toggleable__label-arrow:hover:before {color: black;}#sk-container-id-1 div.sk-estimator:hover label.sk-toggleable__label-arrow:before {color: black;}#sk-container-id-1 div.sk-toggleable__content {max-height: 0;max-width: 0;overflow: hidden;text-align: left;background-color: #f0f8ff;}#sk-container-id-1 div.sk-toggleable__content pre {margin: 0.2em;color: black;border-radius: 0.25em;background-color: #f0f8ff;}#sk-container-id-1 input.sk-toggleable__control:checked~div.sk-toggleable__content {max-height: 200px;max-width: 100%;overflow: auto;}#sk-container-id-1 input.sk-toggleable__control:checked~label.sk-toggleable__label-arrow:before {content: \"▾\";}#sk-container-id-1 div.sk-estimator input.sk-toggleable__control:checked~label.sk-toggleable__label {background-color: #d4ebff;}#sk-container-id-1 div.sk-label input.sk-toggleable__control:checked~label.sk-toggleable__label {background-color: #d4ebff;}#sk-container-id-1 input.sk-hidden--visually {border: 0;clip: rect(1px 1px 1px 1px);clip: rect(1px, 1px, 1px, 1px);height: 1px;margin: -1px;overflow: hidden;padding: 0;position: absolute;width: 1px;}#sk-container-id-1 div.sk-estimator {font-family: monospace;background-color: #f0f8ff;border: 1px dotted black;border-radius: 0.25em;box-sizing: border-box;margin-bottom: 0.5em;}#sk-container-id-1 div.sk-estimator:hover {background-color: #d4ebff;}#sk-container-id-1 div.sk-parallel-item::after {content: \"\";width: 100%;border-bottom: 1px solid gray;flex-grow: 1;}#sk-container-id-1 div.sk-label:hover label.sk-toggleable__label {background-color: #d4ebff;}#sk-container-id-1 div.sk-serial::before {content: \"\";position: absolute;border-left: 1px solid gray;box-sizing: border-box;top: 0;bottom: 0;left: 50%;z-index: 0;}#sk-container-id-1 div.sk-serial {display: flex;flex-direction: column;align-items: center;background-color: white;padding-right: 0.2em;padding-left: 0.2em;position: relative;}#sk-container-id-1 div.sk-item {position: relative;z-index: 1;}#sk-container-id-1 div.sk-parallel {display: flex;align-items: stretch;justify-content: center;background-color: white;position: relative;}#sk-container-id-1 div.sk-item::before, #sk-container-id-1 div.sk-parallel-item::before {content: \"\";position: absolute;border-left: 1px solid gray;box-sizing: border-box;top: 0;bottom: 0;left: 50%;z-index: -1;}#sk-container-id-1 div.sk-parallel-item {display: flex;flex-direction: column;z-index: 1;position: relative;background-color: white;}#sk-container-id-1 div.sk-parallel-item:first-child::after {align-self: flex-end;width: 50%;}#sk-container-id-1 div.sk-parallel-item:last-child::after {align-self: flex-start;width: 50%;}#sk-container-id-1 div.sk-parallel-item:only-child::after {width: 0;}#sk-container-id-1 div.sk-dashed-wrapped {border: 1px dashed gray;margin: 0 0.4em 0.5em 0.4em;box-sizing: border-box;padding-bottom: 0.4em;background-color: white;}#sk-container-id-1 div.sk-label label {font-family: monospace;font-weight: bold;display: inline-block;line-height: 1.2em;}#sk-container-id-1 div.sk-label-container {text-align: center;}#sk-container-id-1 div.sk-container {/* jupyter's `normalize.less` sets `[hidden] { display: none; }` but bootstrap.min.css set `[hidden] { display: none !important; }` so we also need the `!important` here to be able to override the default hidden behavior on the sphinx rendered scikit-learn.org. See: https://github.com/scikit-learn/scikit-learn/issues/21755 */display: inline-block !important;position: relative;}#sk-container-id-1 div.sk-text-repr-fallback {display: none;}</style><div id=\"sk-container-id-1\" class=\"sk-top-container\"><div class=\"sk-text-repr-fallback\"><pre>Pipeline(steps=[(&#x27;columntransformer&#x27;,\n",
       "                 ColumnTransformer(transformers=[(&#x27;standardscaler&#x27;,\n",
       "                                                  StandardScaler(),\n",
       "                                                  [&#x27;runs_cumulative&#x27;]),\n",
       "                                                 (&#x27;onehotencoder&#x27;,\n",
       "                                                  OneHotEncoder(drop=&#x27;if_binary&#x27;,\n",
       "                                                                handle_unknown=&#x27;ignore&#x27;),\n",
       "                                                  [&#x27;inning&#x27;, &#x27;over&#x27;,\n",
       "                                                   &#x27;powerplay&#x27;, &#x27;over_ball&#x27;]),\n",
       "                                                 (&#x27;drop&#x27;, &#x27;drop&#x27;,\n",
       "                                                  [&#x27;game_id&#x27;, &#x27;season&#x27;, &#x27;team&#x27;,\n",
       "                                                   &#x27;batter&#x27;, &#x27;batter_id&#x27;,\n",
       "                                                   &#x27;bowler&#x27;, &#x27;bowler_id&#x27;,\n",
       "                                                   &#x27;non_striker&#x27;,\n",
       "                                                   &#x27;non_striker_id&#x27;, &#x27;wides&#x27;,\n",
       "                                                   &#x27;noballs&#x27;, &#x27;legbyes&#x27;, &#x27;byes&#x27;,\n",
       "                                                   &#x27;player_out&#x27;,\n",
       "                                                   &#x27;player_out_id&#x27;,\n",
       "                                                   &#x27;fielders_name&#x27;,\n",
       "                                                   &#x27;fielders_id&#x27;, &#x27;wicket_type&#x27;,\n",
       "                                                   &#x27;runs_batter&#x27;, &#x27;runs_extras&#x27;,\n",
       "                                                   &#x27;runs_total&#x27;,\n",
       "                                                   &#x27;team_over&#x27;])])),\n",
       "                (&#x27;logisticregression&#x27;,\n",
       "                 LogisticRegression(C=10, class_weight=&#x27;balanced&#x27;, n_jobs=-1))])</pre><b>In a Jupyter environment, please rerun this cell to show the HTML representation or trust the notebook. <br />On GitHub, the HTML representation is unable to render, please try loading this page with nbviewer.org.</b></div><div class=\"sk-container\" hidden><div class=\"sk-item sk-dashed-wrapped\"><div class=\"sk-label-container\"><div class=\"sk-label sk-toggleable\"><input class=\"sk-toggleable__control sk-hidden--visually\" id=\"sk-estimator-id-1\" type=\"checkbox\" ><label for=\"sk-estimator-id-1\" class=\"sk-toggleable__label sk-toggleable__label-arrow\">Pipeline</label><div class=\"sk-toggleable__content\"><pre>Pipeline(steps=[(&#x27;columntransformer&#x27;,\n",
       "                 ColumnTransformer(transformers=[(&#x27;standardscaler&#x27;,\n",
       "                                                  StandardScaler(),\n",
       "                                                  [&#x27;runs_cumulative&#x27;]),\n",
       "                                                 (&#x27;onehotencoder&#x27;,\n",
       "                                                  OneHotEncoder(drop=&#x27;if_binary&#x27;,\n",
       "                                                                handle_unknown=&#x27;ignore&#x27;),\n",
       "                                                  [&#x27;inning&#x27;, &#x27;over&#x27;,\n",
       "                                                   &#x27;powerplay&#x27;, &#x27;over_ball&#x27;]),\n",
       "                                                 (&#x27;drop&#x27;, &#x27;drop&#x27;,\n",
       "                                                  [&#x27;game_id&#x27;, &#x27;season&#x27;, &#x27;team&#x27;,\n",
       "                                                   &#x27;batter&#x27;, &#x27;batter_id&#x27;,\n",
       "                                                   &#x27;bowler&#x27;, &#x27;bowler_id&#x27;,\n",
       "                                                   &#x27;non_striker&#x27;,\n",
       "                                                   &#x27;non_striker_id&#x27;, &#x27;wides&#x27;,\n",
       "                                                   &#x27;noballs&#x27;, &#x27;legbyes&#x27;, &#x27;byes&#x27;,\n",
       "                                                   &#x27;player_out&#x27;,\n",
       "                                                   &#x27;player_out_id&#x27;,\n",
       "                                                   &#x27;fielders_name&#x27;,\n",
       "                                                   &#x27;fielders_id&#x27;, &#x27;wicket_type&#x27;,\n",
       "                                                   &#x27;runs_batter&#x27;, &#x27;runs_extras&#x27;,\n",
       "                                                   &#x27;runs_total&#x27;,\n",
       "                                                   &#x27;team_over&#x27;])])),\n",
       "                (&#x27;logisticregression&#x27;,\n",
       "                 LogisticRegression(C=10, class_weight=&#x27;balanced&#x27;, n_jobs=-1))])</pre></div></div></div><div class=\"sk-serial\"><div class=\"sk-item sk-dashed-wrapped\"><div class=\"sk-label-container\"><div class=\"sk-label sk-toggleable\"><input class=\"sk-toggleable__control sk-hidden--visually\" id=\"sk-estimator-id-2\" type=\"checkbox\" ><label for=\"sk-estimator-id-2\" class=\"sk-toggleable__label sk-toggleable__label-arrow\">columntransformer: ColumnTransformer</label><div class=\"sk-toggleable__content\"><pre>ColumnTransformer(transformers=[(&#x27;standardscaler&#x27;, StandardScaler(),\n",
       "                                 [&#x27;runs_cumulative&#x27;]),\n",
       "                                (&#x27;onehotencoder&#x27;,\n",
       "                                 OneHotEncoder(drop=&#x27;if_binary&#x27;,\n",
       "                                               handle_unknown=&#x27;ignore&#x27;),\n",
       "                                 [&#x27;inning&#x27;, &#x27;over&#x27;, &#x27;powerplay&#x27;, &#x27;over_ball&#x27;]),\n",
       "                                (&#x27;drop&#x27;, &#x27;drop&#x27;,\n",
       "                                 [&#x27;game_id&#x27;, &#x27;season&#x27;, &#x27;team&#x27;, &#x27;batter&#x27;,\n",
       "                                  &#x27;batter_id&#x27;, &#x27;bowler&#x27;, &#x27;bowler_id&#x27;,\n",
       "                                  &#x27;non_striker&#x27;, &#x27;non_striker_id&#x27;, &#x27;wides&#x27;,\n",
       "                                  &#x27;noballs&#x27;, &#x27;legbyes&#x27;, &#x27;byes&#x27;, &#x27;player_out&#x27;,\n",
       "                                  &#x27;player_out_id&#x27;, &#x27;fielders_name&#x27;,\n",
       "                                  &#x27;fielders_id&#x27;, &#x27;wicket_type&#x27;, &#x27;runs_batter&#x27;,\n",
       "                                  &#x27;runs_extras&#x27;, &#x27;runs_total&#x27;, &#x27;team_over&#x27;])])</pre></div></div></div><div class=\"sk-parallel\"><div class=\"sk-parallel-item\"><div class=\"sk-item\"><div class=\"sk-label-container\"><div class=\"sk-label sk-toggleable\"><input class=\"sk-toggleable__control sk-hidden--visually\" id=\"sk-estimator-id-3\" type=\"checkbox\" ><label for=\"sk-estimator-id-3\" class=\"sk-toggleable__label sk-toggleable__label-arrow\">standardscaler</label><div class=\"sk-toggleable__content\"><pre>[&#x27;runs_cumulative&#x27;]</pre></div></div></div><div class=\"sk-serial\"><div class=\"sk-item\"><div class=\"sk-estimator sk-toggleable\"><input class=\"sk-toggleable__control sk-hidden--visually\" id=\"sk-estimator-id-4\" type=\"checkbox\" ><label for=\"sk-estimator-id-4\" class=\"sk-toggleable__label sk-toggleable__label-arrow\">StandardScaler</label><div class=\"sk-toggleable__content\"><pre>StandardScaler()</pre></div></div></div></div></div></div><div class=\"sk-parallel-item\"><div class=\"sk-item\"><div class=\"sk-label-container\"><div class=\"sk-label sk-toggleable\"><input class=\"sk-toggleable__control sk-hidden--visually\" id=\"sk-estimator-id-5\" type=\"checkbox\" ><label for=\"sk-estimator-id-5\" class=\"sk-toggleable__label sk-toggleable__label-arrow\">onehotencoder</label><div class=\"sk-toggleable__content\"><pre>[&#x27;inning&#x27;, &#x27;over&#x27;, &#x27;powerplay&#x27;, &#x27;over_ball&#x27;]</pre></div></div></div><div class=\"sk-serial\"><div class=\"sk-item\"><div class=\"sk-estimator sk-toggleable\"><input class=\"sk-toggleable__control sk-hidden--visually\" id=\"sk-estimator-id-6\" type=\"checkbox\" ><label for=\"sk-estimator-id-6\" class=\"sk-toggleable__label sk-toggleable__label-arrow\">OneHotEncoder</label><div class=\"sk-toggleable__content\"><pre>OneHotEncoder(drop=&#x27;if_binary&#x27;, handle_unknown=&#x27;ignore&#x27;)</pre></div></div></div></div></div></div><div class=\"sk-parallel-item\"><div class=\"sk-item\"><div class=\"sk-label-container\"><div class=\"sk-label sk-toggleable\"><input class=\"sk-toggleable__control sk-hidden--visually\" id=\"sk-estimator-id-7\" type=\"checkbox\" ><label for=\"sk-estimator-id-7\" class=\"sk-toggleable__label sk-toggleable__label-arrow\">drop</label><div class=\"sk-toggleable__content\"><pre>[&#x27;game_id&#x27;, &#x27;season&#x27;, &#x27;team&#x27;, &#x27;batter&#x27;, &#x27;batter_id&#x27;, &#x27;bowler&#x27;, &#x27;bowler_id&#x27;, &#x27;non_striker&#x27;, &#x27;non_striker_id&#x27;, &#x27;wides&#x27;, &#x27;noballs&#x27;, &#x27;legbyes&#x27;, &#x27;byes&#x27;, &#x27;player_out&#x27;, &#x27;player_out_id&#x27;, &#x27;fielders_name&#x27;, &#x27;fielders_id&#x27;, &#x27;wicket_type&#x27;, &#x27;runs_batter&#x27;, &#x27;runs_extras&#x27;, &#x27;runs_total&#x27;, &#x27;team_over&#x27;]</pre></div></div></div><div class=\"sk-serial\"><div class=\"sk-item\"><div class=\"sk-estimator sk-toggleable\"><input class=\"sk-toggleable__control sk-hidden--visually\" id=\"sk-estimator-id-8\" type=\"checkbox\" ><label for=\"sk-estimator-id-8\" class=\"sk-toggleable__label sk-toggleable__label-arrow\">drop</label><div class=\"sk-toggleable__content\"><pre>drop</pre></div></div></div></div></div></div></div></div><div class=\"sk-item\"><div class=\"sk-estimator sk-toggleable\"><input class=\"sk-toggleable__control sk-hidden--visually\" id=\"sk-estimator-id-9\" type=\"checkbox\" ><label for=\"sk-estimator-id-9\" class=\"sk-toggleable__label sk-toggleable__label-arrow\">LogisticRegression</label><div class=\"sk-toggleable__content\"><pre>LogisticRegression(C=10, class_weight=&#x27;balanced&#x27;, n_jobs=-1)</pre></div></div></div></div></div></div></div>"
      ],
      "text/plain": [
       "Pipeline(steps=[('columntransformer',\n",
       "                 ColumnTransformer(transformers=[('standardscaler',\n",
       "                                                  StandardScaler(),\n",
       "                                                  ['runs_cumulative']),\n",
       "                                                 ('onehotencoder',\n",
       "                                                  OneHotEncoder(drop='if_binary',\n",
       "                                                                handle_unknown='ignore'),\n",
       "                                                  ['inning', 'over',\n",
       "                                                   'powerplay', 'over_ball']),\n",
       "                                                 ('drop', 'drop',\n",
       "                                                  ['game_id', 'season', 'team',\n",
       "                                                   'batter', 'batter_id',\n",
       "                                                   'bowler', 'bowler_id',\n",
       "                                                   'non_striker',\n",
       "                                                   'non_striker_id', 'wides',\n",
       "                                                   'noballs', 'legbyes', 'byes',\n",
       "                                                   'player_out',\n",
       "                                                   'player_out_id',\n",
       "                                                   'fielders_name',\n",
       "                                                   'fielders_id', 'wicket_type',\n",
       "                                                   'runs_batter', 'runs_extras',\n",
       "                                                   'runs_total',\n",
       "                                                   'team_over'])])),\n",
       "                ('logisticregression',\n",
       "                 LogisticRegression(C=10, class_weight='balanced', n_jobs=-1))])"
      ]
     },
     "execution_count": 20,
     "metadata": {},
     "output_type": "execute_result"
    }
   ],
   "source": [
    "pipe.fit(X_train, y_train)"
   ]
  },
  {
   "cell_type": "markdown",
   "id": "3300c317",
   "metadata": {},
   "source": [
    "#### Hyperparameter Optimization\n",
    "\n",
    "The hyperparameter we are looking at in Logistic Regression is $C$. We will be testing for 5 different values of $C$ and looking at which gives us ideal cross-validation and training scores."
   ]
  },
  {
   "cell_type": "code",
   "execution_count": 21,
   "id": "ed825e24",
   "metadata": {},
   "outputs": [],
   "source": [
    "C = [10 ** x for x in [0.5, 1, 2, 3, 4]]\n",
    "train_score = []\n",
    "cv_score = []\n",
    "for c in C:\n",
    "    model_new = LogisticRegression(C = c,  class_weight=\"balanced\", n_jobs=-1)\n",
    "    pipe_new = make_pipeline(ct, model_new)\n",
    "    train_score.append(cross_validate(pipe_new, X_train, y_train, n_jobs =-1, return_train_score=True)['train_score'].mean())\n",
    "    cv_score.append(cross_validate(pipe_new, X_train, y_train, n_jobs =-1, return_train_score=True)['test_score'].mean())\n",
    "\n",
    "results = pd.DataFrame({\"C\": C, \"Training Accuracy\": train_score, \"Cross Validation Accuracy\": cv_score})"
   ]
  },
  {
   "cell_type": "code",
   "execution_count": 22,
   "id": "eb37c8ad",
   "metadata": {},
   "outputs": [
    {
     "data": {
      "text/html": [
       "<style type=\"text/css\">\n",
       "#T_5d20a caption {\n",
       "  caption-side: bottom;\n",
       "  font-size: 1.25em;\n",
       "}\n",
       "</style>\n",
       "<table id=\"T_5d20a\">\n",
       "  <caption>Table 7: Cross Validation and Training Accuracy after Hyperparameter Optimization</caption>\n",
       "  <thead>\n",
       "    <tr>\n",
       "      <th class=\"blank level0\" >&nbsp;</th>\n",
       "      <th id=\"T_5d20a_level0_col0\" class=\"col_heading level0 col0\" >C</th>\n",
       "      <th id=\"T_5d20a_level0_col1\" class=\"col_heading level0 col1\" >Training Accuracy</th>\n",
       "      <th id=\"T_5d20a_level0_col2\" class=\"col_heading level0 col2\" >Cross Validation Accuracy</th>\n",
       "    </tr>\n",
       "  </thead>\n",
       "  <tbody>\n",
       "    <tr>\n",
       "      <th id=\"T_5d20a_level0_row0\" class=\"row_heading level0 row0\" >0</th>\n",
       "      <td id=\"T_5d20a_row0_col0\" class=\"data row0 col0\" >3.162278</td>\n",
       "      <td id=\"T_5d20a_row0_col1\" class=\"data row0 col1\" >0.703150</td>\n",
       "      <td id=\"T_5d20a_row0_col2\" class=\"data row0 col2\" >0.703179</td>\n",
       "    </tr>\n",
       "    <tr>\n",
       "      <th id=\"T_5d20a_level0_row1\" class=\"row_heading level0 row1\" >1</th>\n",
       "      <td id=\"T_5d20a_row1_col0\" class=\"data row1 col0\" >10.000000</td>\n",
       "      <td id=\"T_5d20a_row1_col1\" class=\"data row1 col1\" >0.703024</td>\n",
       "      <td id=\"T_5d20a_row1_col2\" class=\"data row1 col2\" >0.702956</td>\n",
       "    </tr>\n",
       "    <tr>\n",
       "      <th id=\"T_5d20a_level0_row2\" class=\"row_heading level0 row2\" >2</th>\n",
       "      <td id=\"T_5d20a_row2_col0\" class=\"data row2 col0\" >100.000000</td>\n",
       "      <td id=\"T_5d20a_row2_col1\" class=\"data row2 col1\" >0.702836</td>\n",
       "      <td id=\"T_5d20a_row2_col2\" class=\"data row2 col2\" >0.702888</td>\n",
       "    </tr>\n",
       "    <tr>\n",
       "      <th id=\"T_5d20a_level0_row3\" class=\"row_heading level0 row3\" >3</th>\n",
       "      <td id=\"T_5d20a_row3_col0\" class=\"data row3 col0\" >1000.000000</td>\n",
       "      <td id=\"T_5d20a_row3_col1\" class=\"data row3 col1\" >0.703179</td>\n",
       "      <td id=\"T_5d20a_row3_col2\" class=\"data row3 col2\" >0.703129</td>\n",
       "    </tr>\n",
       "    <tr>\n",
       "      <th id=\"T_5d20a_level0_row4\" class=\"row_heading level0 row4\" >4</th>\n",
       "      <td id=\"T_5d20a_row4_col0\" class=\"data row4 col0\" >10000.000000</td>\n",
       "      <td id=\"T_5d20a_row4_col1\" class=\"data row4 col1\" >0.703050</td>\n",
       "      <td id=\"T_5d20a_row4_col2\" class=\"data row4 col2\" >0.703015</td>\n",
       "    </tr>\n",
       "  </tbody>\n",
       "</table>\n"
      ],
      "text/plain": [
       "<pandas.io.formats.style.Styler at 0x2aa654727f0>"
      ]
     },
     "execution_count": 22,
     "metadata": {},
     "output_type": "execute_result"
    }
   ],
   "source": [
    "results.style.set_caption(\"Table 7: Cross Validation and Training Accuracy after Hyperparameter Optimization\").set_table_styles([{\n",
    "     'selector': 'caption',\n",
    "     'props': 'caption-side: bottom; font-size:1.25em;'\n",
    " }], overwrite=False)"
   ]
  },
  {
   "cell_type": "markdown",
   "id": "7ad3e3db",
   "metadata": {},
   "source": [
    "We are choosing a $C$ of $\\sqrt{10}$ as it overfits the least."
   ]
  },
  {
   "cell_type": "code",
   "execution_count": 23,
   "id": "050d31bc",
   "metadata": {},
   "outputs": [
    {
     "data": {
      "text/plain": [
       "0.7025099268452052"
      ]
     },
     "execution_count": 23,
     "metadata": {},
     "output_type": "execute_result"
    }
   ],
   "source": [
    "final_model = LogisticRegression(C = 10**0.5, class_weight=\"balanced\", n_jobs=-1)\n",
    "\n",
    "final_pipe = make_pipeline(\n",
    "    ct,\n",
    "    final_model\n",
    ")\n",
    "\n",
    "final_pipe.fit(X_train, y_train)\n",
    "\n",
    "final_pipe.score(X_test, y_test)"
   ]
  },
  {
   "cell_type": "code",
   "execution_count": 24,
   "id": "4f94926d",
   "metadata": {},
   "outputs": [
    {
     "data": {
      "image/png": "[encoded data removed]",
      "text/plain": [
       "<Figure size 640x480 with 2 Axes>"
      ]
     },
     "metadata": {},
     "output_type": "display_data"
    }
   ],
   "source": [
    "conf_mat = metrics.confusion_matrix(y_test, final_pipe.predict(X_test))\n",
    "plot_cm = metrics.ConfusionMatrixDisplay(conf_mat)\n",
    "plot_cm.plot()\n",
    "plt.title(\"Figure 5: Confusion Matrix\")\n",
    "plt.show()"
   ]
  },
  {
   "cell_type": "markdown",
   "id": "761009eb",
   "metadata": {},
   "source": [
    "# Discussion\n",
    "\n",
    "Marshall et al. (2024) also discuss how pitch conditions could affect the possibility of a wicket. Having this data would help improve our model significantly."
   ]
  },
  {
   "cell_type": "markdown",
   "id": "29c23cb4",
   "metadata": {},
   "source": [
    "# References\n",
    "\n",
    "Bhattacharjee, D., Pandey, M., Saikia, H., & Radhakrishnan, U. K. (2016). Impact of Power Play Overs on the Outcome of Twenty20 Cricket Match. Annals of Applied Sports Science, 4(1), 39–47. https://doi.org/10.7508/aass.2016.01.007 \n",
    "\n",
    "Dinsdale, D. (2023, December 5). Explaining next ball probability in cricket. The Analyst. https://theanalyst.com/na/2022/10/opta-next-ball-predictor/ \n",
    "\n",
    "Marshall, T., Runswick, O. R., & Broadbent, D. P. (2024). “what we talk about is creating a probability”: Exploring the interaction between the anticipation and decision-making processes of professional bowlers and batters in twenty20 cricket. Psychology of Sport and Exercise, 70, 102543. https://doi.org/10.1016/j.psychsport.2023.102543 \n"
   ]
  }
 ],
 "metadata": {
  "kernelspec": {
   "display_name": "Python 3",
   "language": "python",
   "name": "python3"
  },
  "language_info": {
   "codemirror_mode": {
    "name": "ipython",
    "version": 3
   },
   "file_extension": ".py",
   "mimetype": "text/x-python",
   "name": "python",
   "nbconvert_exporter": "python",
   "pygments_lexer": "ipython3",
   "version": "3.9.18"
  }
 },
 "nbformat": 4,
 "nbformat_minor": 5
}
