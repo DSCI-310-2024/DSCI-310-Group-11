{
 "cells": [
  {
   "cell_type": "markdown",
   "id": "8f7834d4-3dcd-4c19-9f4d-f3290294505a",
   "metadata": {},
   "source": [
    "# DSCI 310 Group 11 Project: Predicting Probability of Wicket on a Delivery in Cricket\n",
    "\n",
    "Alex Lin\n",
    "\n",
    "Jackson Siemens\n",
    "\n",
    "Shruti Vijaykumar Seetharam\n",
    "\n",
    "Hanlin Zhao"
   ]
  },
  {
   "cell_type": "markdown",
   "id": "5266cdaf",
   "metadata": {},
   "source": [
    "## Abstract\n",
    "\n",
    "Our project aims to predict the probability of a wicket on a delivery in Cricket. We are going to look at ball-by-ball factors that could potentially affect this probability and see how the wicket probability changes with game conditions.\n"
   ]
  },
  {
   "cell_type": "markdown",
   "id": "95f41e28-6b3f-4907-937f-6c9805154ff7",
   "metadata": {},
   "source": [
    "## Introduction\n",
    "\n",
    "Cricket is a bat and ball sport involving two teams of eleven players each. Originating in the 16th century, Cricket today is commonly played in three formats: Tests, One Day Internationals and T20 Internationals. Our analysis will be specifically focusing on T20 International games and looking at the conditions of those games to analyze our prediction probability. In a T20 game, one team will bat first and set a target number of runs in 20 overs or until 10 wickets are lost. The other team will bat second, and to win the game, they must exceed the target set by the second team in 20 overs or less. Each of the 11 players in the team will need to bat as more wickets are lost, but some bat more often than others, given all wickets are not always lost. Only some players are bowlers. There are multiple different ways of getting a wicket, and these can be affected by the following factors:\n",
    "\n",
    "1. Bowler: The skill of a bowler can affect the probability\n",
    "2. Batter: Similarly, the skill of a batter can affect the probability\n",
    "3. Inning: Determines which team is batting and bowling\n",
    "4. Over: An over consists of 6 deliveries thrown by the bowler from one end of the pitch to the batter on the other end. The over can determine how much risk a batter is willing to take with his next ball.\n",
    "5. Ball in the over: The specific delivery in the over. Batters are more likely to take risks towards the end of an over compared to the beginning.\n",
    "6. Runs scored till now: Looks at the amount of runs scored in the inning up until the current ball. Fewer runs scored may mean the batter is more likely to take risks in order to get more.\n",
    "7. Powerplay: A powerplay is when there are fielding restrictions placed on the bowling team, making it harder for them to get a wicket. \n",
    "\n",
    "We will be looking at the above factors along with some others to judge what factors may be best for our model in the Exploratory Data Analysis section. We will be reading our data in json files from the [Cricsheet](https://cricsheet.org/downloads/) website, and converting it to our desired `csv` format using the scripts in the `cricsheet_json_parsing.ipynb` file which can be found in the `src` folder. "
   ]
  },
  {
   "cell_type": "code",
   "execution_count": 1,
   "id": "e887195f-ec10-4aa6-a5dd-829ee09d973d",
   "metadata": {},
   "outputs": [
    {
     "data": {
      "text/plain": [
       "RendererRegistry.enable('mimetype')"
      ]
     },
     "execution_count": 1,
     "metadata": {},
     "output_type": "execute_result"
    }
   ],
   "source": [
    "import numpy as np\n",
    "import pandas as pd\n",
    "import altair as alt\n",
    "import matplotlib.pyplot as plt\n",
    "import sklearn.metrics as metrics\n",
    "from sklearn.model_selection import train_test_split, cross_validate\n",
    "from sklearn.linear_model import LogisticRegression\n",
    "from sklearn.preprocessing import StandardScaler, OneHotEncoder\n",
    "from sklearn.pipeline import make_pipeline\n",
    "from sklearn.compose import make_column_transformer\n",
    "\n",
    "alt.data_transformers.enable(\"vegafusion\")\n",
    "alt.renderers.enable('mimetype')"
   ]
  },
  {
   "cell_type": "markdown",
   "id": "b9ff23f4-a5e4-44d1-adf0-07a9c9fe6d3e",
   "metadata": {},
   "source": [
    "## Methods\n",
    "\n",
    "Firstly, we will perform some exploratory data analysis on the training data to get a better understanding of the dataset and what relationships there are with our target variable.\n",
    "\n",
    "### Exploratory Data Analysis"
   ]
  },
  {
   "cell_type": "code",
   "execution_count": 48,
   "id": "bb2a9cfa-2b4a-4d32-bbd2-f73f25b4038c",
   "metadata": {
    "scrolled": true
   },
   "outputs": [
    {
     "data": {
      "text/html": [
       "<style type=\"text/css\">\n",
       "</style>\n",
       "<table id=\"T_e7261\">\n",
       "  <caption>Table 1: Overview of full dataset</caption>\n",
       "  <thead>\n",
       "    <tr>\n",
       "      <th class=\"blank level0\" >&nbsp;</th>\n",
       "      <th id=\"T_e7261_level0_col0\" class=\"col_heading level0 col0\" >game_id</th>\n",
       "      <th id=\"T_e7261_level0_col1\" class=\"col_heading level0 col1\" >season</th>\n",
       "      <th id=\"T_e7261_level0_col2\" class=\"col_heading level0 col2\" >team</th>\n",
       "      <th id=\"T_e7261_level0_col3\" class=\"col_heading level0 col3\" >over</th>\n",
       "      <th id=\"T_e7261_level0_col4\" class=\"col_heading level0 col4\" >batter</th>\n",
       "      <th id=\"T_e7261_level0_col5\" class=\"col_heading level0 col5\" >batter_id</th>\n",
       "      <th id=\"T_e7261_level0_col6\" class=\"col_heading level0 col6\" >bowler</th>\n",
       "      <th id=\"T_e7261_level0_col7\" class=\"col_heading level0 col7\" >bowler_id</th>\n",
       "      <th id=\"T_e7261_level0_col8\" class=\"col_heading level0 col8\" >non_striker</th>\n",
       "      <th id=\"T_e7261_level0_col9\" class=\"col_heading level0 col9\" >non_striker_id</th>\n",
       "      <th id=\"T_e7261_level0_col10\" class=\"col_heading level0 col10\" >wides</th>\n",
       "      <th id=\"T_e7261_level0_col11\" class=\"col_heading level0 col11\" >noballs</th>\n",
       "      <th id=\"T_e7261_level0_col12\" class=\"col_heading level0 col12\" >legbyes</th>\n",
       "      <th id=\"T_e7261_level0_col13\" class=\"col_heading level0 col13\" >byes</th>\n",
       "      <th id=\"T_e7261_level0_col14\" class=\"col_heading level0 col14\" >wicket</th>\n",
       "      <th id=\"T_e7261_level0_col15\" class=\"col_heading level0 col15\" >player_out</th>\n",
       "      <th id=\"T_e7261_level0_col16\" class=\"col_heading level0 col16\" >player_out_id</th>\n",
       "      <th id=\"T_e7261_level0_col17\" class=\"col_heading level0 col17\" >fielders_name</th>\n",
       "      <th id=\"T_e7261_level0_col18\" class=\"col_heading level0 col18\" >fielders_id</th>\n",
       "      <th id=\"T_e7261_level0_col19\" class=\"col_heading level0 col19\" >wicket_type</th>\n",
       "      <th id=\"T_e7261_level0_col20\" class=\"col_heading level0 col20\" >runs_batter</th>\n",
       "      <th id=\"T_e7261_level0_col21\" class=\"col_heading level0 col21\" >runs_extras</th>\n",
       "      <th id=\"T_e7261_level0_col22\" class=\"col_heading level0 col22\" >runs_total</th>\n",
       "      <th id=\"T_e7261_level0_col23\" class=\"col_heading level0 col23\" >team_over</th>\n",
       "      <th id=\"T_e7261_level0_col24\" class=\"col_heading level0 col24\" >over_ball</th>\n",
       "      <th id=\"T_e7261_level0_col25\" class=\"col_heading level0 col25\" >inning</th>\n",
       "      <th id=\"T_e7261_level0_col26\" class=\"col_heading level0 col26\" >runs_cumulative</th>\n",
       "      <th id=\"T_e7261_level0_col27\" class=\"col_heading level0 col27\" >powerplay</th>\n",
       "    </tr>\n",
       "  </thead>\n",
       "  <tbody>\n",
       "    <tr>\n",
       "      <th id=\"T_e7261_level0_row0\" class=\"row_heading level0 row0\" >0</th>\n",
       "      <td id=\"T_e7261_row0_col0\" class=\"data row0 col0\" >1001349</td>\n",
       "      <td id=\"T_e7261_row0_col1\" class=\"data row0 col1\" >2016/17</td>\n",
       "      <td id=\"T_e7261_row0_col2\" class=\"data row0 col2\" >Australia</td>\n",
       "      <td id=\"T_e7261_row0_col3\" class=\"data row0 col3\" >0</td>\n",
       "      <td id=\"T_e7261_row0_col4\" class=\"data row0 col4\" >AJ Finch</td>\n",
       "      <td id=\"T_e7261_row0_col5\" class=\"data row0 col5\" >b8d490fd</td>\n",
       "      <td id=\"T_e7261_row0_col6\" class=\"data row0 col6\" >SL Malinga</td>\n",
       "      <td id=\"T_e7261_row0_col7\" class=\"data row0 col7\" >a12e1d51</td>\n",
       "      <td id=\"T_e7261_row0_col8\" class=\"data row0 col8\" >M Klinger</td>\n",
       "      <td id=\"T_e7261_row0_col9\" class=\"data row0 col9\" >b970a03f</td>\n",
       "      <td id=\"T_e7261_row0_col10\" class=\"data row0 col10\" >0</td>\n",
       "      <td id=\"T_e7261_row0_col11\" class=\"data row0 col11\" >0</td>\n",
       "      <td id=\"T_e7261_row0_col12\" class=\"data row0 col12\" >0</td>\n",
       "      <td id=\"T_e7261_row0_col13\" class=\"data row0 col13\" >0</td>\n",
       "      <td id=\"T_e7261_row0_col14\" class=\"data row0 col14\" >0</td>\n",
       "      <td id=\"T_e7261_row0_col15\" class=\"data row0 col15\" >nan</td>\n",
       "      <td id=\"T_e7261_row0_col16\" class=\"data row0 col16\" >nan</td>\n",
       "      <td id=\"T_e7261_row0_col17\" class=\"data row0 col17\" >nan</td>\n",
       "      <td id=\"T_e7261_row0_col18\" class=\"data row0 col18\" >nan</td>\n",
       "      <td id=\"T_e7261_row0_col19\" class=\"data row0 col19\" >nan</td>\n",
       "      <td id=\"T_e7261_row0_col20\" class=\"data row0 col20\" >0</td>\n",
       "      <td id=\"T_e7261_row0_col21\" class=\"data row0 col21\" >0</td>\n",
       "      <td id=\"T_e7261_row0_col22\" class=\"data row0 col22\" >0</td>\n",
       "      <td id=\"T_e7261_row0_col23\" class=\"data row0 col23\" >Australia_0</td>\n",
       "      <td id=\"T_e7261_row0_col24\" class=\"data row0 col24\" >1</td>\n",
       "      <td id=\"T_e7261_row0_col25\" class=\"data row0 col25\" >1</td>\n",
       "      <td id=\"T_e7261_row0_col26\" class=\"data row0 col26\" >0</td>\n",
       "      <td id=\"T_e7261_row0_col27\" class=\"data row0 col27\" >1</td>\n",
       "    </tr>\n",
       "    <tr>\n",
       "      <th id=\"T_e7261_level0_row1\" class=\"row_heading level0 row1\" >1</th>\n",
       "      <td id=\"T_e7261_row1_col0\" class=\"data row1 col0\" >1001349</td>\n",
       "      <td id=\"T_e7261_row1_col1\" class=\"data row1 col1\" >2016/17</td>\n",
       "      <td id=\"T_e7261_row1_col2\" class=\"data row1 col2\" >Australia</td>\n",
       "      <td id=\"T_e7261_row1_col3\" class=\"data row1 col3\" >0</td>\n",
       "      <td id=\"T_e7261_row1_col4\" class=\"data row1 col4\" >AJ Finch</td>\n",
       "      <td id=\"T_e7261_row1_col5\" class=\"data row1 col5\" >b8d490fd</td>\n",
       "      <td id=\"T_e7261_row1_col6\" class=\"data row1 col6\" >SL Malinga</td>\n",
       "      <td id=\"T_e7261_row1_col7\" class=\"data row1 col7\" >a12e1d51</td>\n",
       "      <td id=\"T_e7261_row1_col8\" class=\"data row1 col8\" >M Klinger</td>\n",
       "      <td id=\"T_e7261_row1_col9\" class=\"data row1 col9\" >b970a03f</td>\n",
       "      <td id=\"T_e7261_row1_col10\" class=\"data row1 col10\" >0</td>\n",
       "      <td id=\"T_e7261_row1_col11\" class=\"data row1 col11\" >0</td>\n",
       "      <td id=\"T_e7261_row1_col12\" class=\"data row1 col12\" >0</td>\n",
       "      <td id=\"T_e7261_row1_col13\" class=\"data row1 col13\" >0</td>\n",
       "      <td id=\"T_e7261_row1_col14\" class=\"data row1 col14\" >0</td>\n",
       "      <td id=\"T_e7261_row1_col15\" class=\"data row1 col15\" >nan</td>\n",
       "      <td id=\"T_e7261_row1_col16\" class=\"data row1 col16\" >nan</td>\n",
       "      <td id=\"T_e7261_row1_col17\" class=\"data row1 col17\" >nan</td>\n",
       "      <td id=\"T_e7261_row1_col18\" class=\"data row1 col18\" >nan</td>\n",
       "      <td id=\"T_e7261_row1_col19\" class=\"data row1 col19\" >nan</td>\n",
       "      <td id=\"T_e7261_row1_col20\" class=\"data row1 col20\" >0</td>\n",
       "      <td id=\"T_e7261_row1_col21\" class=\"data row1 col21\" >0</td>\n",
       "      <td id=\"T_e7261_row1_col22\" class=\"data row1 col22\" >0</td>\n",
       "      <td id=\"T_e7261_row1_col23\" class=\"data row1 col23\" >Australia_0</td>\n",
       "      <td id=\"T_e7261_row1_col24\" class=\"data row1 col24\" >2</td>\n",
       "      <td id=\"T_e7261_row1_col25\" class=\"data row1 col25\" >1</td>\n",
       "      <td id=\"T_e7261_row1_col26\" class=\"data row1 col26\" >0</td>\n",
       "      <td id=\"T_e7261_row1_col27\" class=\"data row1 col27\" >1</td>\n",
       "    </tr>\n",
       "    <tr>\n",
       "      <th id=\"T_e7261_level0_row2\" class=\"row_heading level0 row2\" >2</th>\n",
       "      <td id=\"T_e7261_row2_col0\" class=\"data row2 col0\" >1001349</td>\n",
       "      <td id=\"T_e7261_row2_col1\" class=\"data row2 col1\" >2016/17</td>\n",
       "      <td id=\"T_e7261_row2_col2\" class=\"data row2 col2\" >Australia</td>\n",
       "      <td id=\"T_e7261_row2_col3\" class=\"data row2 col3\" >0</td>\n",
       "      <td id=\"T_e7261_row2_col4\" class=\"data row2 col4\" >AJ Finch</td>\n",
       "      <td id=\"T_e7261_row2_col5\" class=\"data row2 col5\" >b8d490fd</td>\n",
       "      <td id=\"T_e7261_row2_col6\" class=\"data row2 col6\" >SL Malinga</td>\n",
       "      <td id=\"T_e7261_row2_col7\" class=\"data row2 col7\" >a12e1d51</td>\n",
       "      <td id=\"T_e7261_row2_col8\" class=\"data row2 col8\" >M Klinger</td>\n",
       "      <td id=\"T_e7261_row2_col9\" class=\"data row2 col9\" >b970a03f</td>\n",
       "      <td id=\"T_e7261_row2_col10\" class=\"data row2 col10\" >0</td>\n",
       "      <td id=\"T_e7261_row2_col11\" class=\"data row2 col11\" >0</td>\n",
       "      <td id=\"T_e7261_row2_col12\" class=\"data row2 col12\" >0</td>\n",
       "      <td id=\"T_e7261_row2_col13\" class=\"data row2 col13\" >0</td>\n",
       "      <td id=\"T_e7261_row2_col14\" class=\"data row2 col14\" >0</td>\n",
       "      <td id=\"T_e7261_row2_col15\" class=\"data row2 col15\" >nan</td>\n",
       "      <td id=\"T_e7261_row2_col16\" class=\"data row2 col16\" >nan</td>\n",
       "      <td id=\"T_e7261_row2_col17\" class=\"data row2 col17\" >nan</td>\n",
       "      <td id=\"T_e7261_row2_col18\" class=\"data row2 col18\" >nan</td>\n",
       "      <td id=\"T_e7261_row2_col19\" class=\"data row2 col19\" >nan</td>\n",
       "      <td id=\"T_e7261_row2_col20\" class=\"data row2 col20\" >1</td>\n",
       "      <td id=\"T_e7261_row2_col21\" class=\"data row2 col21\" >0</td>\n",
       "      <td id=\"T_e7261_row2_col22\" class=\"data row2 col22\" >1</td>\n",
       "      <td id=\"T_e7261_row2_col23\" class=\"data row2 col23\" >Australia_0</td>\n",
       "      <td id=\"T_e7261_row2_col24\" class=\"data row2 col24\" >3</td>\n",
       "      <td id=\"T_e7261_row2_col25\" class=\"data row2 col25\" >1</td>\n",
       "      <td id=\"T_e7261_row2_col26\" class=\"data row2 col26\" >1</td>\n",
       "      <td id=\"T_e7261_row2_col27\" class=\"data row2 col27\" >1</td>\n",
       "    </tr>\n",
       "    <tr>\n",
       "      <th id=\"T_e7261_level0_row3\" class=\"row_heading level0 row3\" >3</th>\n",
       "      <td id=\"T_e7261_row3_col0\" class=\"data row3 col0\" >1001349</td>\n",
       "      <td id=\"T_e7261_row3_col1\" class=\"data row3 col1\" >2016/17</td>\n",
       "      <td id=\"T_e7261_row3_col2\" class=\"data row3 col2\" >Australia</td>\n",
       "      <td id=\"T_e7261_row3_col3\" class=\"data row3 col3\" >0</td>\n",
       "      <td id=\"T_e7261_row3_col4\" class=\"data row3 col4\" >M Klinger</td>\n",
       "      <td id=\"T_e7261_row3_col5\" class=\"data row3 col5\" >b970a03f</td>\n",
       "      <td id=\"T_e7261_row3_col6\" class=\"data row3 col6\" >SL Malinga</td>\n",
       "      <td id=\"T_e7261_row3_col7\" class=\"data row3 col7\" >a12e1d51</td>\n",
       "      <td id=\"T_e7261_row3_col8\" class=\"data row3 col8\" >AJ Finch</td>\n",
       "      <td id=\"T_e7261_row3_col9\" class=\"data row3 col9\" >b8d490fd</td>\n",
       "      <td id=\"T_e7261_row3_col10\" class=\"data row3 col10\" >0</td>\n",
       "      <td id=\"T_e7261_row3_col11\" class=\"data row3 col11\" >0</td>\n",
       "      <td id=\"T_e7261_row3_col12\" class=\"data row3 col12\" >0</td>\n",
       "      <td id=\"T_e7261_row3_col13\" class=\"data row3 col13\" >0</td>\n",
       "      <td id=\"T_e7261_row3_col14\" class=\"data row3 col14\" >0</td>\n",
       "      <td id=\"T_e7261_row3_col15\" class=\"data row3 col15\" >nan</td>\n",
       "      <td id=\"T_e7261_row3_col16\" class=\"data row3 col16\" >nan</td>\n",
       "      <td id=\"T_e7261_row3_col17\" class=\"data row3 col17\" >nan</td>\n",
       "      <td id=\"T_e7261_row3_col18\" class=\"data row3 col18\" >nan</td>\n",
       "      <td id=\"T_e7261_row3_col19\" class=\"data row3 col19\" >nan</td>\n",
       "      <td id=\"T_e7261_row3_col20\" class=\"data row3 col20\" >2</td>\n",
       "      <td id=\"T_e7261_row3_col21\" class=\"data row3 col21\" >0</td>\n",
       "      <td id=\"T_e7261_row3_col22\" class=\"data row3 col22\" >2</td>\n",
       "      <td id=\"T_e7261_row3_col23\" class=\"data row3 col23\" >Australia_0</td>\n",
       "      <td id=\"T_e7261_row3_col24\" class=\"data row3 col24\" >4</td>\n",
       "      <td id=\"T_e7261_row3_col25\" class=\"data row3 col25\" >1</td>\n",
       "      <td id=\"T_e7261_row3_col26\" class=\"data row3 col26\" >3</td>\n",
       "      <td id=\"T_e7261_row3_col27\" class=\"data row3 col27\" >1</td>\n",
       "    </tr>\n",
       "    <tr>\n",
       "      <th id=\"T_e7261_level0_row4\" class=\"row_heading level0 row4\" >4</th>\n",
       "      <td id=\"T_e7261_row4_col0\" class=\"data row4 col0\" >1001349</td>\n",
       "      <td id=\"T_e7261_row4_col1\" class=\"data row4 col1\" >2016/17</td>\n",
       "      <td id=\"T_e7261_row4_col2\" class=\"data row4 col2\" >Australia</td>\n",
       "      <td id=\"T_e7261_row4_col3\" class=\"data row4 col3\" >0</td>\n",
       "      <td id=\"T_e7261_row4_col4\" class=\"data row4 col4\" >M Klinger</td>\n",
       "      <td id=\"T_e7261_row4_col5\" class=\"data row4 col5\" >b970a03f</td>\n",
       "      <td id=\"T_e7261_row4_col6\" class=\"data row4 col6\" >SL Malinga</td>\n",
       "      <td id=\"T_e7261_row4_col7\" class=\"data row4 col7\" >a12e1d51</td>\n",
       "      <td id=\"T_e7261_row4_col8\" class=\"data row4 col8\" >AJ Finch</td>\n",
       "      <td id=\"T_e7261_row4_col9\" class=\"data row4 col9\" >b8d490fd</td>\n",
       "      <td id=\"T_e7261_row4_col10\" class=\"data row4 col10\" >0</td>\n",
       "      <td id=\"T_e7261_row4_col11\" class=\"data row4 col11\" >0</td>\n",
       "      <td id=\"T_e7261_row4_col12\" class=\"data row4 col12\" >0</td>\n",
       "      <td id=\"T_e7261_row4_col13\" class=\"data row4 col13\" >0</td>\n",
       "      <td id=\"T_e7261_row4_col14\" class=\"data row4 col14\" >0</td>\n",
       "      <td id=\"T_e7261_row4_col15\" class=\"data row4 col15\" >nan</td>\n",
       "      <td id=\"T_e7261_row4_col16\" class=\"data row4 col16\" >nan</td>\n",
       "      <td id=\"T_e7261_row4_col17\" class=\"data row4 col17\" >nan</td>\n",
       "      <td id=\"T_e7261_row4_col18\" class=\"data row4 col18\" >nan</td>\n",
       "      <td id=\"T_e7261_row4_col19\" class=\"data row4 col19\" >nan</td>\n",
       "      <td id=\"T_e7261_row4_col20\" class=\"data row4 col20\" >0</td>\n",
       "      <td id=\"T_e7261_row4_col21\" class=\"data row4 col21\" >0</td>\n",
       "      <td id=\"T_e7261_row4_col22\" class=\"data row4 col22\" >0</td>\n",
       "      <td id=\"T_e7261_row4_col23\" class=\"data row4 col23\" >Australia_0</td>\n",
       "      <td id=\"T_e7261_row4_col24\" class=\"data row4 col24\" >5</td>\n",
       "      <td id=\"T_e7261_row4_col25\" class=\"data row4 col25\" >1</td>\n",
       "      <td id=\"T_e7261_row4_col26\" class=\"data row4 col26\" >3</td>\n",
       "      <td id=\"T_e7261_row4_col27\" class=\"data row4 col27\" >1</td>\n",
       "    </tr>\n",
       "  </tbody>\n",
       "</table>\n"
      ],
      "text/plain": [
       "<pandas.io.formats.style.Styler at 0x22dafce0c10>"
      ]
     },
     "execution_count": 48,
     "metadata": {},
     "output_type": "execute_result"
    }
   ],
   "source": [
    "data = pd.read_csv(\"data/cricket_test.csv\")\n",
    "data = data.drop(columns = [\"Unnamed: 0\"])\n",
    "data.head().style.set_caption(\"Table 1: Overview of full dataset\")"
   ]
  },
  {
   "cell_type": "code",
   "execution_count": 3,
   "id": "42e86923",
   "metadata": {},
   "outputs": [],
   "source": [
    "X = data.drop(columns = ['wicket'])\n",
    "y = data['wicket']\n",
    "\n",
    "X_train, X_test, y_train, y_test = train_test_split(X, y, train_size=0.7, random_state=123)\n",
    "train_data = pd.concat([X_train, y_train], axis = 1)"
   ]
  },
  {
   "cell_type": "code",
   "execution_count": 4,
   "id": "6dbbdb59-46ea-4bc6-a886-bb215f07874e",
   "metadata": {},
   "outputs": [
    {
     "name": "stdout",
     "output_type": "stream",
     "text": [
      "<class 'pandas.core.frame.DataFrame'>\n",
      "Index: 510652 entries, 438303 to 277869\n",
      "Data columns (total 28 columns):\n",
      " #   Column           Non-Null Count   Dtype \n",
      "---  ------           --------------   ----- \n",
      " 0   game_id          510652 non-null  int64 \n",
      " 1   season           510652 non-null  object\n",
      " 2   team             510652 non-null  object\n",
      " 3   over             510652 non-null  int64 \n",
      " 4   batter           510652 non-null  object\n",
      " 5   batter_id        510652 non-null  object\n",
      " 6   bowler           510652 non-null  object\n",
      " 7   bowler_id        510652 non-null  object\n",
      " 8   non_striker      510652 non-null  object\n",
      " 9   non_striker_id   510652 non-null  object\n",
      " 10  wides            510652 non-null  int64 \n",
      " 11  noballs          510652 non-null  int64 \n",
      " 12  legbyes          510652 non-null  int64 \n",
      " 13  byes             510652 non-null  int64 \n",
      " 14  player_out       28104 non-null   object\n",
      " 15  player_out_id    28104 non-null   object\n",
      " 16  fielders_name    17956 non-null   object\n",
      " 17  fielders_id      17956 non-null   object\n",
      " 18  wicket_type      28104 non-null   object\n",
      " 19  runs_batter      510652 non-null  int64 \n",
      " 20  runs_extras      510652 non-null  int64 \n",
      " 21  runs_total       510652 non-null  int64 \n",
      " 22  team_over        510652 non-null  object\n",
      " 23  over_ball        510652 non-null  int64 \n",
      " 24  inning           510652 non-null  int64 \n",
      " 25  runs_cumulative  510652 non-null  int64 \n",
      " 26  powerplay        510652 non-null  int64 \n",
      " 27  wicket           510652 non-null  int64 \n",
      "dtypes: int64(14), object(14)\n",
      "memory usage: 113.0+ MB\n"
     ]
    }
   ],
   "source": [
    "train_data.info()"
   ]
  },
  {
   "cell_type": "code",
   "execution_count": 5,
   "id": "332e015a-e58b-485c-a9a0-126138327b71",
   "metadata": {},
   "outputs": [
    {
     "data": {
      "text/html": [
       "<style type=\"text/css\">\n",
       "</style>\n",
       "<table id=\"T_7f67e\">\n",
       "  <caption>Table 2</caption>\n",
       "  <thead>\n",
       "    <tr>\n",
       "      <th class=\"blank level0\" >&nbsp;</th>\n",
       "      <th id=\"T_7f67e_level0_col0\" class=\"col_heading level0 col0\" >game_id</th>\n",
       "      <th id=\"T_7f67e_level0_col1\" class=\"col_heading level0 col1\" >over</th>\n",
       "      <th id=\"T_7f67e_level0_col2\" class=\"col_heading level0 col2\" >wides</th>\n",
       "      <th id=\"T_7f67e_level0_col3\" class=\"col_heading level0 col3\" >noballs</th>\n",
       "      <th id=\"T_7f67e_level0_col4\" class=\"col_heading level0 col4\" >legbyes</th>\n",
       "      <th id=\"T_7f67e_level0_col5\" class=\"col_heading level0 col5\" >byes</th>\n",
       "      <th id=\"T_7f67e_level0_col6\" class=\"col_heading level0 col6\" >runs_batter</th>\n",
       "      <th id=\"T_7f67e_level0_col7\" class=\"col_heading level0 col7\" >runs_extras</th>\n",
       "      <th id=\"T_7f67e_level0_col8\" class=\"col_heading level0 col8\" >runs_total</th>\n",
       "      <th id=\"T_7f67e_level0_col9\" class=\"col_heading level0 col9\" >over_ball</th>\n",
       "      <th id=\"T_7f67e_level0_col10\" class=\"col_heading level0 col10\" >inning</th>\n",
       "      <th id=\"T_7f67e_level0_col11\" class=\"col_heading level0 col11\" >runs_cumulative</th>\n",
       "      <th id=\"T_7f67e_level0_col12\" class=\"col_heading level0 col12\" >powerplay</th>\n",
       "      <th id=\"T_7f67e_level0_col13\" class=\"col_heading level0 col13\" >wicket</th>\n",
       "    </tr>\n",
       "  </thead>\n",
       "  <tbody>\n",
       "    <tr>\n",
       "      <th id=\"T_7f67e_level0_row0\" class=\"row_heading level0 row0\" >count</th>\n",
       "      <td id=\"T_7f67e_row0_col0\" class=\"data row0 col0\" >510652.000000</td>\n",
       "      <td id=\"T_7f67e_row0_col1\" class=\"data row0 col1\" >510652.000000</td>\n",
       "      <td id=\"T_7f67e_row0_col2\" class=\"data row0 col2\" >510652.000000</td>\n",
       "      <td id=\"T_7f67e_row0_col3\" class=\"data row0 col3\" >510652.000000</td>\n",
       "      <td id=\"T_7f67e_row0_col4\" class=\"data row0 col4\" >510652.000000</td>\n",
       "      <td id=\"T_7f67e_row0_col5\" class=\"data row0 col5\" >510652.000000</td>\n",
       "      <td id=\"T_7f67e_row0_col6\" class=\"data row0 col6\" >510652.000000</td>\n",
       "      <td id=\"T_7f67e_row0_col7\" class=\"data row0 col7\" >510652.000000</td>\n",
       "      <td id=\"T_7f67e_row0_col8\" class=\"data row0 col8\" >510652.000000</td>\n",
       "      <td id=\"T_7f67e_row0_col9\" class=\"data row0 col9\" >510652.000000</td>\n",
       "      <td id=\"T_7f67e_row0_col10\" class=\"data row0 col10\" >510652.000000</td>\n",
       "      <td id=\"T_7f67e_row0_col11\" class=\"data row0 col11\" >510652.000000</td>\n",
       "      <td id=\"T_7f67e_row0_col12\" class=\"data row0 col12\" >510652.000000</td>\n",
       "      <td id=\"T_7f67e_row0_col13\" class=\"data row0 col13\" >510652.000000</td>\n",
       "    </tr>\n",
       "    <tr>\n",
       "      <th id=\"T_7f67e_level0_row1\" class=\"row_heading level0 row1\" >mean</th>\n",
       "      <td id=\"T_7f67e_row1_col0\" class=\"data row1 col0\" >1145703.858967</td>\n",
       "      <td id=\"T_7f67e_row1_col1\" class=\"data row1 col1\" >8.885989</td>\n",
       "      <td id=\"T_7f67e_row1_col2\" class=\"data row1 col2\" >0.047739</td>\n",
       "      <td id=\"T_7f67e_row1_col3\" class=\"data row1 col3\" >0.005152</td>\n",
       "      <td id=\"T_7f67e_row1_col4\" class=\"data row1 col4\" >0.016728</td>\n",
       "      <td id=\"T_7f67e_row1_col5\" class=\"data row1 col5\" >0.007463</td>\n",
       "      <td id=\"T_7f67e_row1_col6\" class=\"data row1 col6\" >1.038470</td>\n",
       "      <td id=\"T_7f67e_row1_col7\" class=\"data row1 col7\" >0.077170</td>\n",
       "      <td id=\"T_7f67e_row1_col8\" class=\"data row1 col8\" >1.115640</td>\n",
       "      <td id=\"T_7f67e_row1_col9\" class=\"data row1 col9\" >3.660452</td>\n",
       "      <td id=\"T_7f67e_row1_col10\" class=\"data row1 col10\" >1.463500</td>\n",
       "      <td id=\"T_7f67e_row1_col11\" class=\"data row1 col11\" >63.071401</td>\n",
       "      <td id=\"T_7f67e_row1_col12\" class=\"data row1 col12\" >0.331427</td>\n",
       "      <td id=\"T_7f67e_row1_col13\" class=\"data row1 col13\" >0.055036</td>\n",
       "    </tr>\n",
       "    <tr>\n",
       "      <th id=\"T_7f67e_level0_row2\" class=\"row_heading level0 row2\" >std</th>\n",
       "      <td id=\"T_7f67e_row2_col0\" class=\"data row2 col0\" >296516.161221</td>\n",
       "      <td id=\"T_7f67e_row2_col1\" class=\"data row2 col1\" >5.633009</td>\n",
       "      <td id=\"T_7f67e_row2_col2\" class=\"data row2 col2\" >0.278095</td>\n",
       "      <td id=\"T_7f67e_row2_col3\" class=\"data row2 col3\" >0.073962</td>\n",
       "      <td id=\"T_7f67e_row2_col4\" class=\"data row2 col4\" >0.168515</td>\n",
       "      <td id=\"T_7f67e_row2_col5\" class=\"data row2 col5\" >0.139016</td>\n",
       "      <td id=\"T_7f67e_row2_col6\" class=\"data row2 col6\" >1.461122</td>\n",
       "      <td id=\"T_7f67e_row2_col7\" class=\"data row2 col7\" >0.358287</td>\n",
       "      <td id=\"T_7f67e_row2_col8\" class=\"data row2 col8\" >1.454276</td>\n",
       "      <td id=\"T_7f67e_row2_col9\" class=\"data row2 col9\" >1.856491</td>\n",
       "      <td id=\"T_7f67e_row2_col10\" class=\"data row2 col10\" >0.498666</td>\n",
       "      <td id=\"T_7f67e_row2_col11\" class=\"data row2 col11\" >44.643770</td>\n",
       "      <td id=\"T_7f67e_row2_col12\" class=\"data row2 col12\" >0.470727</td>\n",
       "      <td id=\"T_7f67e_row2_col13\" class=\"data row2 col13\" >0.228050</td>\n",
       "    </tr>\n",
       "    <tr>\n",
       "      <th id=\"T_7f67e_level0_row3\" class=\"row_heading level0 row3\" >min</th>\n",
       "      <td id=\"T_7f67e_row3_col0\" class=\"data row3 col0\" >211028.000000</td>\n",
       "      <td id=\"T_7f67e_row3_col1\" class=\"data row3 col1\" >0.000000</td>\n",
       "      <td id=\"T_7f67e_row3_col2\" class=\"data row3 col2\" >0.000000</td>\n",
       "      <td id=\"T_7f67e_row3_col3\" class=\"data row3 col3\" >0.000000</td>\n",
       "      <td id=\"T_7f67e_row3_col4\" class=\"data row3 col4\" >0.000000</td>\n",
       "      <td id=\"T_7f67e_row3_col5\" class=\"data row3 col5\" >0.000000</td>\n",
       "      <td id=\"T_7f67e_row3_col6\" class=\"data row3 col6\" >0.000000</td>\n",
       "      <td id=\"T_7f67e_row3_col7\" class=\"data row3 col7\" >0.000000</td>\n",
       "      <td id=\"T_7f67e_row3_col8\" class=\"data row3 col8\" >0.000000</td>\n",
       "      <td id=\"T_7f67e_row3_col9\" class=\"data row3 col9\" >1.000000</td>\n",
       "      <td id=\"T_7f67e_row3_col10\" class=\"data row3 col10\" >1.000000</td>\n",
       "      <td id=\"T_7f67e_row3_col11\" class=\"data row3 col11\" >0.000000</td>\n",
       "      <td id=\"T_7f67e_row3_col12\" class=\"data row3 col12\" >0.000000</td>\n",
       "      <td id=\"T_7f67e_row3_col13\" class=\"data row3 col13\" >0.000000</td>\n",
       "    </tr>\n",
       "    <tr>\n",
       "      <th id=\"T_7f67e_level0_row4\" class=\"row_heading level0 row4\" >25%</th>\n",
       "      <td id=\"T_7f67e_row4_col0\" class=\"data row4 col0\" >1130746.000000</td>\n",
       "      <td id=\"T_7f67e_row4_col1\" class=\"data row4 col1\" >4.000000</td>\n",
       "      <td id=\"T_7f67e_row4_col2\" class=\"data row4 col2\" >0.000000</td>\n",
       "      <td id=\"T_7f67e_row4_col3\" class=\"data row4 col3\" >0.000000</td>\n",
       "      <td id=\"T_7f67e_row4_col4\" class=\"data row4 col4\" >0.000000</td>\n",
       "      <td id=\"T_7f67e_row4_col5\" class=\"data row4 col5\" >0.000000</td>\n",
       "      <td id=\"T_7f67e_row4_col6\" class=\"data row4 col6\" >0.000000</td>\n",
       "      <td id=\"T_7f67e_row4_col7\" class=\"data row4 col7\" >0.000000</td>\n",
       "      <td id=\"T_7f67e_row4_col8\" class=\"data row4 col8\" >0.000000</td>\n",
       "      <td id=\"T_7f67e_row4_col9\" class=\"data row4 col9\" >2.000000</td>\n",
       "      <td id=\"T_7f67e_row4_col10\" class=\"data row4 col10\" >1.000000</td>\n",
       "      <td id=\"T_7f67e_row4_col11\" class=\"data row4 col11\" >26.000000</td>\n",
       "      <td id=\"T_7f67e_row4_col12\" class=\"data row4 col12\" >0.000000</td>\n",
       "      <td id=\"T_7f67e_row4_col13\" class=\"data row4 col13\" >0.000000</td>\n",
       "    </tr>\n",
       "    <tr>\n",
       "      <th id=\"T_7f67e_level0_row5\" class=\"row_heading level0 row5\" >50%</th>\n",
       "      <td id=\"T_7f67e_row5_col0\" class=\"data row5 col0\" >1272373.000000</td>\n",
       "      <td id=\"T_7f67e_row5_col1\" class=\"data row5 col1\" >9.000000</td>\n",
       "      <td id=\"T_7f67e_row5_col2\" class=\"data row5 col2\" >0.000000</td>\n",
       "      <td id=\"T_7f67e_row5_col3\" class=\"data row5 col3\" >0.000000</td>\n",
       "      <td id=\"T_7f67e_row5_col4\" class=\"data row5 col4\" >0.000000</td>\n",
       "      <td id=\"T_7f67e_row5_col5\" class=\"data row5 col5\" >0.000000</td>\n",
       "      <td id=\"T_7f67e_row5_col6\" class=\"data row5 col6\" >1.000000</td>\n",
       "      <td id=\"T_7f67e_row5_col7\" class=\"data row5 col7\" >0.000000</td>\n",
       "      <td id=\"T_7f67e_row5_col8\" class=\"data row5 col8\" >1.000000</td>\n",
       "      <td id=\"T_7f67e_row5_col9\" class=\"data row5 col9\" >4.000000</td>\n",
       "      <td id=\"T_7f67e_row5_col10\" class=\"data row5 col10\" >1.000000</td>\n",
       "      <td id=\"T_7f67e_row5_col11\" class=\"data row5 col11\" >57.000000</td>\n",
       "      <td id=\"T_7f67e_row5_col12\" class=\"data row5 col12\" >0.000000</td>\n",
       "      <td id=\"T_7f67e_row5_col13\" class=\"data row5 col13\" >0.000000</td>\n",
       "    </tr>\n",
       "    <tr>\n",
       "      <th id=\"T_7f67e_level0_row6\" class=\"row_heading level0 row6\" >75%</th>\n",
       "      <td id=\"T_7f67e_row6_col0\" class=\"data row6 col0\" >1336082.000000</td>\n",
       "      <td id=\"T_7f67e_row6_col1\" class=\"data row6 col1\" >14.000000</td>\n",
       "      <td id=\"T_7f67e_row6_col2\" class=\"data row6 col2\" >0.000000</td>\n",
       "      <td id=\"T_7f67e_row6_col3\" class=\"data row6 col3\" >0.000000</td>\n",
       "      <td id=\"T_7f67e_row6_col4\" class=\"data row6 col4\" >0.000000</td>\n",
       "      <td id=\"T_7f67e_row6_col5\" class=\"data row6 col5\" >0.000000</td>\n",
       "      <td id=\"T_7f67e_row6_col6\" class=\"data row6 col6\" >1.000000</td>\n",
       "      <td id=\"T_7f67e_row6_col7\" class=\"data row6 col7\" >0.000000</td>\n",
       "      <td id=\"T_7f67e_row6_col8\" class=\"data row6 col8\" >1.000000</td>\n",
       "      <td id=\"T_7f67e_row6_col9\" class=\"data row6 col9\" >5.000000</td>\n",
       "      <td id=\"T_7f67e_row6_col10\" class=\"data row6 col10\" >2.000000</td>\n",
       "      <td id=\"T_7f67e_row6_col11\" class=\"data row6 col11\" >92.000000</td>\n",
       "      <td id=\"T_7f67e_row6_col12\" class=\"data row6 col12\" >1.000000</td>\n",
       "      <td id=\"T_7f67e_row6_col13\" class=\"data row6 col13\" >0.000000</td>\n",
       "    </tr>\n",
       "    <tr>\n",
       "      <th id=\"T_7f67e_level0_row7\" class=\"row_heading level0 row7\" >max</th>\n",
       "      <td id=\"T_7f67e_row7_col0\" class=\"data row7 col0\" >1422802.000000</td>\n",
       "      <td id=\"T_7f67e_row7_col1\" class=\"data row7 col1\" >19.000000</td>\n",
       "      <td id=\"T_7f67e_row7_col2\" class=\"data row7 col2\" >5.000000</td>\n",
       "      <td id=\"T_7f67e_row7_col3\" class=\"data row7 col3\" >5.000000</td>\n",
       "      <td id=\"T_7f67e_row7_col4\" class=\"data row7 col4\" >5.000000</td>\n",
       "      <td id=\"T_7f67e_row7_col5\" class=\"data row7 col5\" >5.000000</td>\n",
       "      <td id=\"T_7f67e_row7_col6\" class=\"data row7 col6\" >7.000000</td>\n",
       "      <td id=\"T_7f67e_row7_col7\" class=\"data row7 col7\" >6.000000</td>\n",
       "      <td id=\"T_7f67e_row7_col8\" class=\"data row7 col8\" >7.000000</td>\n",
       "      <td id=\"T_7f67e_row7_col9\" class=\"data row7 col9\" >19.000000</td>\n",
       "      <td id=\"T_7f67e_row7_col10\" class=\"data row7 col10\" >2.000000</td>\n",
       "      <td id=\"T_7f67e_row7_col11\" class=\"data row7 col11\" >333.000000</td>\n",
       "      <td id=\"T_7f67e_row7_col12\" class=\"data row7 col12\" >1.000000</td>\n",
       "      <td id=\"T_7f67e_row7_col13\" class=\"data row7 col13\" >1.000000</td>\n",
       "    </tr>\n",
       "  </tbody>\n",
       "</table>\n"
      ],
      "text/plain": [
       "<pandas.io.formats.style.Styler at 0x22ddc74c580>"
      ]
     },
     "execution_count": 5,
     "metadata": {},
     "output_type": "execute_result"
    }
   ],
   "source": [
    "train_data.describe().style.set_caption(\"Table 2: Summary of Numeric Variables\")"
   ]
  },
  {
   "cell_type": "markdown",
   "id": "c0dbcb0a-726b-4f6b-a0c8-9b73946a3ab0",
   "metadata": {},
   "source": [
    "The dataset contains 28 columns and 510652 observations related to cricket. The ratio of quantitative to categorical (ordinal and nominal) data is approximately 50:50. Note that the columns **player_out, player_out_id, fielder_name, fielders_id, and wicket_type** show a significant amount of missing values. Player_out and player_out_id may be missing due to inapplicability (e.g., no one is out), which results in fielder_name, fielder_id, and wicket_type being invalid in these observations. Thus, these missing data are likely classified as **missing at random(MAR)**. Given the complexity of imputing these values, they are unlikely to be included in our further analysis.\n",
    "\n",
    "Note that, among the 28 columns, there were few attributes generated based on existing columns, and they are \"over_ball\", \"inning\", \"runs_cumulative\", and \"powerplay\". Although they are all integers, it is important to note that, only \"overball\" and \"runs_cumulative\" are quantitative, whereas \"inning\" and \"powerplay\" are categorical. Detailed calculations of these attributes are in the `cricsheet-json-parsing.ipynb` file. "
   ]
  },
  {
   "cell_type": "code",
   "execution_count": 6,
   "id": "2db50d6d-28aa-4f97-bcfc-ede62759f2c8",
   "metadata": {},
   "outputs": [
    {
     "data": {
      "application/vnd.vega.v5+json": {
       "$schema": "https://vega.github.io/schema/vega/v5.json",
       "background": "white",
       "data": [
        {
         "name": "data-e28bbd29196adbd423c09654646b514c",
         "values": [
          {
           "text": "Figure 1.a: Distribution of Variables"
          }
         ]
        },
        {
         "name": "source_0"
        },
        {
         "name": "source_1"
        },
        {
         "name": "source_2"
        },
        {
         "name": "source_3"
        },
        {
         "name": "data_0",
         "values": [
          {
           "__count": 27959,
           "over": 3
          },
          {
           "__count": 27674,
           "over": 5
          },
          {
           "__count": 21748,
           "over": 17
          },
          {
           "__count": 27787,
           "over": 4
          },
          {
           "__count": 29017,
           "over": 0
          },
          {
           "__count": 28157,
           "over": 2
          },
          {
           "__count": 26458,
           "over": 10
          },
          {
           "__count": 27228,
           "over": 7
          },
          {
           "__count": 25483,
           "over": 12
          },
          {
           "__count": 22880,
           "over": 16
          },
          {
           "__count": 25722,
           "over": 11
          },
          {
           "__count": 24920,
           "over": 13
          },
          {
           "__count": 17340,
           "over": 19
          },
          {
           "__count": 23910,
           "over": 15
          },
          {
           "__count": 27396,
           "over": 6
          },
          {
           "__count": 24575,
           "over": 14
          },
          {
           "__count": 26917,
           "over": 8
          },
          {
           "__count": 20252,
           "over": 18
          },
          {
           "__count": 26579,
           "over": 9
          },
          {
           "__count": 28650,
           "over": 1
          }
         ]
        },
        {
         "name": "data_1",
         "values": [
          {
           "__count": 490474,
           "wides": 0
          },
          {
           "__count": 18104,
           "wides": 1
          },
          {
           "__count": 1166,
           "wides": 2
          },
          {
           "__count": 285,
           "wides": 3
          },
          {
           "__count": 595,
           "wides": 5
          },
          {
           "__count": 28,
           "wides": 4
          }
         ]
        },
        {
         "name": "data_2",
         "values": [
          {
           "__count": 508065,
           "noballs": 0
          },
          {
           "__count": 2566,
           "noballs": 1
          },
          {
           "__count": 7,
           "noballs": 5
          },
          {
           "__count": 12,
           "noballs": 2
          },
          {
           "__count": 2,
           "noballs": 3
          }
         ]
        },
        {
         "name": "data_3",
         "values": [
          {
           "__count": 503870,
           "legbyes": 0
          },
          {
           "__count": 5884,
           "legbyes": 1
          },
          {
           "__count": 456,
           "legbyes": 2
          },
          {
           "__count": 402,
           "legbyes": 4
          },
          {
           "__count": 31,
           "legbyes": 3
          },
          {
           "__count": 9,
           "legbyes": 5
          }
         ]
        },
        {
         "name": "data_4",
         "values": [
          {
           "__count": 508502,
           "byes": 0
          },
          {
           "__count": 1416,
           "byes": 1
          },
          {
           "__count": 26,
           "byes": 3
          },
          {
           "__count": 446,
           "byes": 4
          },
          {
           "__count": 259,
           "byes": 2
          },
          {
           "__count": 3,
           "byes": 5
          }
         ]
        },
        {
         "name": "data_5",
         "values": [
          {
           "__count": 482548,
           "wicket": 0
          },
          {
           "__count": 28104,
           "wicket": 1
          }
         ]
        },
        {
         "name": "data_6",
         "values": [
          {
           "__count": 238158,
           "runs_batter": 0
          },
          {
           "__count": 172657,
           "runs_batter": 1
          },
          {
           "__count": 2294,
           "runs_batter": 3
          },
          {
           "__count": 46938,
           "runs_batter": 4
          },
          {
           "__count": 35137,
           "runs_batter": 2
          },
          {
           "__count": 15388,
           "runs_batter": 6
          },
          {
           "__count": 78,
           "runs_batter": 5
          },
          {
           "__count": 2,
           "runs_batter": 7
          }
         ]
        },
        {
         "name": "data_7",
         "values": [
          {
           "__count": 479039,
           "runs_extras": 0
          },
          {
           "__count": 27824,
           "runs_extras": 1
          },
          {
           "__count": 1930,
           "runs_extras": 2
          },
          {
           "__count": 360,
           "runs_extras": 3
          },
          {
           "__count": 853,
           "runs_extras": 4
          },
          {
           "__count": 645,
           "runs_extras": 5
          },
          {
           "__count": 1,
           "runs_extras": 6
          }
         ]
        },
        {
         "name": "data_8",
         "values": [
          {
           "__count": 207849,
           "runs_total": 0
          },
          {
           "__count": 198512,
           "runs_total": 1
          },
          {
           "__count": 2828,
           "runs_total": 3
          },
          {
           "__count": 47449,
           "runs_total": 4
          },
          {
           "__count": 37551,
           "runs_total": 2
          },
          {
           "__count": 15297,
           "runs_total": 6
          },
          {
           "__count": 1067,
           "runs_total": 5
          },
          {
           "__count": 99,
           "runs_total": 7
          }
         ]
        },
        {
         "name": "data_9",
         "values": [
          {
           "__count": 81661,
           "over_ball": 2
          },
          {
           "__count": 81126,
           "over_ball": 4
          },
          {
           "__count": 80646,
           "over_ball": 6
          },
          {
           "__count": 82174,
           "over_ball": 1
          },
          {
           "__count": 80887,
           "over_ball": 5
          },
          {
           "__count": 81515,
           "over_ball": 3
          },
          {
           "__count": 17304,
           "over_ball": 7
          },
          {
           "__count": 3819,
           "over_ball": 8
          },
          {
           "__count": 985,
           "over_ball": 9
          },
          {
           "__count": 292,
           "over_ball": 10
          },
          {
           "__count": 127,
           "over_ball": 11
          },
          {
           "__count": 64,
           "over_ball": 12
          },
          {
           "__count": 27,
           "over_ball": 13
          },
          {
           "__count": 5,
           "over_ball": 16
          },
          {
           "__count": 5,
           "over_ball": 15
          },
          {
           "__count": 11,
           "over_ball": 14
          },
          {
           "__count": 2,
           "over_ball": 17
          },
          {
           "__count": 1,
           "over_ball": 19
          },
          {
           "__count": 1,
           "over_ball": 18
          }
         ]
        },
        {
         "name": "data_10",
         "values": [
          {
           "__count": 4294,
           "runs_cumulative": 27
          },
          {
           "__count": 4376,
           "runs_cumulative": 34
          },
          {
           "__count": 972,
           "runs_cumulative": 148
          },
          {
           "__count": 4639,
           "runs_cumulative": 13
          },
          {
           "__count": 4230,
           "runs_cumulative": 38
          },
          {
           "__count": 4259,
           "runs_cumulative": 29
          },
          {
           "__count": 4266,
           "runs_cumulative": 28
          },
          {
           "__count": 3114,
           "runs_cumulative": 91
          },
          {
           "__count": 6808,
           "runs_cumulative": 1
          },
          {
           "__count": 4830,
           "runs_cumulative": 12
          },
          {
           "__count": 381,
           "runs_cumulative": 173
          },
          {
           "__count": 3344,
           "runs_cumulative": 83
          },
          {
           "__count": 4097,
           "runs_cumulative": 40
          },
          {
           "__count": 4500,
           "runs_cumulative": 16
          },
          {
           "__count": 4174,
           "runs_cumulative": 51
          },
          {
           "__count": 4350,
           "runs_cumulative": 23
          },
          {
           "__count": 3000,
           "runs_cumulative": 92
          },
          {
           "__count": 1750,
           "runs_cumulative": 123
          },
          {
           "__count": 2816,
           "runs_cumulative": 97
          },
          {
           "__count": 1176,
           "runs_cumulative": 140
          },
          {
           "__count": 3651,
           "runs_cumulative": 73
          },
          {
           "__count": 4314,
           "runs_cumulative": 46
          },
          {
           "__count": 4327,
           "runs_cumulative": 22
          },
          {
           "__count": 3687,
           "runs_cumulative": 69
          },
          {
           "__count": 2862,
           "runs_cumulative": 94
          },
          {
           "__count": 3134,
           "runs_cumulative": 86
          },
          {
           "__count": 4456,
           "runs_cumulative": 20
          },
          {
           "__count": 2435,
           "runs_cumulative": 104
          },
          {
           "__count": 4316,
           "runs_cumulative": 25
          },
          {
           "__count": 5099,
           "runs_cumulative": 5
          },
          {
           "__count": 3281,
           "runs_cumulative": 81
          },
          {
           "__count": 3721,
           "runs_cumulative": 72
          },
          {
           "__count": 3732,
           "runs_cumulative": 71
          },
          {
           "__count": 1333,
           "runs_cumulative": 137
          },
          {
           "__count": 2030,
           "runs_cumulative": 117
          },
          {
           "__count": 4087,
           "runs_cumulative": 54
          },
          {
           "__count": 3512,
           "runs_cumulative": 76
          },
          {
           "__count": 4407,
           "runs_cumulative": 18
          },
          {
           "__count": 3603,
           "runs_cumulative": 75
          },
          {
           "__count": 1941,
           "runs_cumulative": 119
          },
          {
           "__count": 4285,
           "runs_cumulative": 36
          },
          {
           "__count": 4230,
           "runs_cumulative": 47
          },
          {
           "__count": 4032,
           "runs_cumulative": 56
          },
          {
           "__count": 4199,
           "runs_cumulative": 50
          },
          {
           "__count": 1255,
           "runs_cumulative": 136
          },
          {
           "__count": 3903,
           "runs_cumulative": 64
          },
          {
           "__count": 1828,
           "runs_cumulative": 121
          },
          {
           "__count": 576,
           "runs_cumulative": 162
          },
          {
           "__count": 4254,
           "runs_cumulative": 26
          },
          {
           "__count": 4557,
           "runs_cumulative": 14
          },
          {
           "__count": 3102,
           "runs_cumulative": 89
          },
          {
           "__count": 5048,
           "runs_cumulative": 6
          },
          {
           "__count": 2333,
           "runs_cumulative": 109
          },
          {
           "__count": 4489,
           "runs_cumulative": 15
          },
          {
           "__count": 4615,
           "runs_cumulative": 10
          },
          {
           "__count": 4651,
           "runs_cumulative": 11
          },
          {
           "__count": 424,
           "runs_cumulative": 167
          },
          {
           "__count": 4115,
           "runs_cumulative": 3
          },
          {
           "__count": 2849,
           "runs_cumulative": 95
          },
          {
           "__count": 4154,
           "runs_cumulative": 49
          },
          {
           "__count": 4051,
           "runs_cumulative": 52
          },
          {
           "__count": 2012,
           "runs_cumulative": 115
          },
          {
           "__count": 2204,
           "runs_cumulative": 111
          },
          {
           "__count": 4305,
           "runs_cumulative": 17
          },
          {
           "__count": 4439,
           "runs_cumulative": 19
          },
          {
           "__count": 3394,
           "runs_cumulative": 80
          },
          {
           "__count": 915,
           "runs_cumulative": 149
          },
          {
           "__count": 1810,
           "runs_cumulative": 120
          },
          {
           "__count": 4857,
           "runs_cumulative": 8
          },
          {
           "__count": 4004,
           "runs_cumulative": 62
          },
          {
           "__count": 1662,
           "runs_cumulative": 126
          },
          {
           "__count": 1197,
           "runs_cumulative": 139
          },
          {
           "__count": 704,
           "runs_cumulative": 156
          },
          {
           "__count": 2347,
           "runs_cumulative": 105
          },
          {
           "__count": 2641,
           "runs_cumulative": 101
          },
          {
           "__count": 3973,
           "runs_cumulative": 60
          },
          {
           "__count": 4327,
           "runs_cumulative": 37
          },
          {
           "__count": 4626,
           "runs_cumulative": 9
          },
          {
           "__count": 4270,
           "runs_cumulative": 48
          },
          {
           "__count": 4301,
           "runs_cumulative": 53
          },
          {
           "__count": 2623,
           "runs_cumulative": 100
          },
          {
           "__count": 4255,
           "runs_cumulative": 44
          },
          {
           "__count": 1285,
           "runs_cumulative": 135
          },
          {
           "__count": 923,
           "runs_cumulative": 146
          },
          {
           "__count": 4425,
           "runs_cumulative": 35
          },
          {
           "__count": 6168,
           "runs_cumulative": 0
          },
          {
           "__count": 4278,
           "runs_cumulative": 43
          },
          {
           "__count": 1588,
           "runs_cumulative": 125
          },
          {
           "__count": 2051,
           "runs_cumulative": 116
          },
          {
           "__count": 44,
           "runs_cumulative": 219
          },
          {
           "__count": 1130,
           "runs_cumulative": 141
          },
          {
           "__count": 3575,
           "runs_cumulative": 74
          },
          {
           "__count": 4029,
           "runs_cumulative": 61
          },
          {
           "__count": 1027,
           "runs_cumulative": 144
          },
          {
           "__count": 2721,
           "runs_cumulative": 98
          },
          {
           "__count": 296,
           "runs_cumulative": 178
          },
          {
           "__count": 2301,
           "runs_cumulative": 108
          },
          {
           "__count": 4736,
           "runs_cumulative": 7
          },
          {
           "__count": 3490,
           "runs_cumulative": 77
          },
          {
           "__count": 1240,
           "runs_cumulative": 138
          },
          {
           "__count": 2879,
           "runs_cumulative": 93
          },
          {
           "__count": 3763,
           "runs_cumulative": 67
          },
          {
           "__count": 2286,
           "runs_cumulative": 110
          },
          {
           "__count": 2153,
           "runs_cumulative": 113
          },
          {
           "__count": 941,
           "runs_cumulative": 145
          },
          {
           "__count": 4038,
           "runs_cumulative": 59
          },
          {
           "__count": 4441,
           "runs_cumulative": 21
          },
          {
           "__count": 1467,
           "runs_cumulative": 131
          },
          {
           "__count": 4236,
           "runs_cumulative": 41
          },
          {
           "__count": 2277,
           "runs_cumulative": 107
          },
          {
           "__count": 3336,
           "runs_cumulative": 84
          },
          {
           "__count": 4166,
           "runs_cumulative": 45
          },
          {
           "__count": 5186,
           "runs_cumulative": 2
          },
          {
           "__count": 1138,
           "runs_cumulative": 142
          },
          {
           "__count": 4390,
           "runs_cumulative": 30
          },
          {
           "__count": 2415,
           "runs_cumulative": 106
          },
          {
           "__count": 2414,
           "runs_cumulative": 103
          },
          {
           "__count": 3441,
           "runs_cumulative": 78
          },
          {
           "__count": 2720,
           "runs_cumulative": 99
          },
          {
           "__count": 1686,
           "runs_cumulative": 127
          },
          {
           "__count": 2831,
           "runs_cumulative": 96
          },
          {
           "__count": 643,
           "runs_cumulative": 158
          },
          {
           "__count": 4026,
           "runs_cumulative": 58
          },
          {
           "__count": 3707,
           "runs_cumulative": 68
          },
          {
           "__count": 1393,
           "runs_cumulative": 133
          },
          {
           "__count": 419,
           "runs_cumulative": 169
          },
          {
           "__count": 437,
           "runs_cumulative": 168
          },
          {
           "__count": 4095,
           "runs_cumulative": 57
          },
          {
           "__count": 2205,
           "runs_cumulative": 112
          },
          {
           "__count": 1054,
           "runs_cumulative": 143
          },
          {
           "__count": 4278,
           "runs_cumulative": 31
          },
          {
           "__count": 3693,
           "runs_cumulative": 66
          },
          {
           "__count": 3714,
           "runs_cumulative": 70
          },
          {
           "__count": 1908,
           "runs_cumulative": 118
          },
          {
           "__count": 4258,
           "runs_cumulative": 39
          },
          {
           "__count": 610,
           "runs_cumulative": 161
          },
          {
           "__count": 5281,
           "runs_cumulative": 4
          },
          {
           "__count": 1668,
           "runs_cumulative": 124
          },
          {
           "__count": 4079,
           "runs_cumulative": 63
          },
          {
           "__count": 4295,
           "runs_cumulative": 42
          },
          {
           "__count": 1556,
           "runs_cumulative": 128
          },
          {
           "__count": 4204,
           "runs_cumulative": 32
          },
          {
           "__count": 3205,
           "runs_cumulative": 85
          },
          {
           "__count": 1829,
           "runs_cumulative": 122
          },
          {
           "__count": 3469,
           "runs_cumulative": 79
          },
          {
           "__count": 2494,
           "runs_cumulative": 102
          },
          {
           "__count": 3036,
           "runs_cumulative": 88
          },
          {
           "__count": 1553,
           "runs_cumulative": 129
          },
          {
           "__count": 516,
           "runs_cumulative": 163
          },
          {
           "__count": 4168,
           "runs_cumulative": 55
          },
          {
           "__count": 1483,
           "runs_cumulative": 130
          },
          {
           "__count": 1436,
           "runs_cumulative": 132
          },
          {
           "__count": 3086,
           "runs_cumulative": 90
          },
          {
           "__count": 782,
           "runs_cumulative": 152
          },
          {
           "__count": 613,
           "runs_cumulative": 160
          },
          {
           "__count": 3117,
           "runs_cumulative": 87
          },
          {
           "__count": 13,
           "runs_cumulative": 249
          },
          {
           "__count": 4482,
           "runs_cumulative": 24
          },
          {
           "__count": 639,
           "runs_cumulative": 159
          },
          {
           "__count": 519,
           "runs_cumulative": 166
          },
          {
           "__count": 3222,
           "runs_cumulative": 82
          },
          {
           "__count": 135,
           "runs_cumulative": 195
          },
          {
           "__count": 805,
           "runs_cumulative": 151
          },
          {
           "__count": 974,
           "runs_cumulative": 147
          },
          {
           "__count": 2121,
           "runs_cumulative": 114
          },
          {
           "__count": 808,
           "runs_cumulative": 153
          },
          {
           "__count": 3830,
           "runs_cumulative": 65
          },
          {
           "__count": 4379,
           "runs_cumulative": 33
          },
          {
           "__count": 663,
           "runs_cumulative": 157
          },
          {
           "__count": 1346,
           "runs_cumulative": 134
          },
          {
           "__count": 147,
           "runs_cumulative": 192
          },
          {
           "__count": 733,
           "runs_cumulative": 154
          },
          {
           "__count": 267,
           "runs_cumulative": 179
          },
          {
           "__count": 332,
           "runs_cumulative": 175
          },
          {
           "__count": 363,
           "runs_cumulative": 174
          },
          {
           "__count": 230,
           "runs_cumulative": 184
          },
          {
           "__count": 90,
           "runs_cumulative": 203
          },
          {
           "__count": 221,
           "runs_cumulative": 185
          },
          {
           "__count": 178,
           "runs_cumulative": 190
          },
          {
           "__count": 399,
           "runs_cumulative": 170
          },
          {
           "__count": 538,
           "runs_cumulative": 164
          },
          {
           "__count": 175,
           "runs_cumulative": 189
          },
          {
           "__count": 768,
           "runs_cumulative": 155
          },
          {
           "__count": 294,
           "runs_cumulative": 181
          },
          {
           "__count": 401,
           "runs_cumulative": 172
          },
          {
           "__count": 106,
           "runs_cumulative": 202
          },
          {
           "__count": 255,
           "runs_cumulative": 183
          },
          {
           "__count": 160,
           "runs_cumulative": 191
          },
          {
           "__count": 197,
           "runs_cumulative": 187
          },
          {
           "__count": 31,
           "runs_cumulative": 221
          },
          {
           "__count": 278,
           "runs_cumulative": 177
          },
          {
           "__count": 25,
           "runs_cumulative": 225
          },
          {
           "__count": 29,
           "runs_cumulative": 222
          },
          {
           "__count": 890,
           "runs_cumulative": 150
          },
          {
           "__count": 121,
           "runs_cumulative": 196
          },
          {
           "__count": 109,
           "runs_cumulative": 200
          },
          {
           "__count": 31,
           "runs_cumulative": 229
          },
          {
           "__count": 194,
           "runs_cumulative": 186
          },
          {
           "__count": 28,
           "runs_cumulative": 226
          },
          {
           "__count": 509,
           "runs_cumulative": 165
          },
          {
           "__count": 390,
           "runs_cumulative": 171
          },
          {
           "__count": 328,
           "runs_cumulative": 176
          },
          {
           "__count": 7,
           "runs_cumulative": 247
          },
          {
           "__count": 32,
           "runs_cumulative": 220
          },
          {
           "__count": 261,
           "runs_cumulative": 182
          },
          {
           "__count": 54,
           "runs_cumulative": 213
          },
          {
           "__count": 11,
           "runs_cumulative": 242
          },
          {
           "__count": 70,
           "runs_cumulative": 208
          },
          {
           "__count": 287,
           "runs_cumulative": 180
          },
          {
           "__count": 76,
           "runs_cumulative": 207
          },
          {
           "__count": 151,
           "runs_cumulative": 193
          },
          {
           "__count": 76,
           "runs_cumulative": 206
          },
          {
           "__count": 22,
           "runs_cumulative": 227
          },
          {
           "__count": 98,
           "runs_cumulative": 201
          },
          {
           "__count": 193,
           "runs_cumulative": 188
          },
          {
           "__count": 55,
           "runs_cumulative": 210
          },
          {
           "__count": 22,
           "runs_cumulative": 232
          },
          {
           "__count": 128,
           "runs_cumulative": 199
          },
          {
           "__count": 4,
           "runs_cumulative": 251
          },
          {
           "__count": 63,
           "runs_cumulative": 211
          },
          {
           "__count": 1,
           "runs_cumulative": 279
          },
          {
           "__count": 77,
           "runs_cumulative": 205
          },
          {
           "__count": 8,
           "runs_cumulative": 258
          },
          {
           "__count": 115,
           "runs_cumulative": 198
          },
          {
           "__count": 96,
           "runs_cumulative": 204
          },
          {
           "__count": 15,
           "runs_cumulative": 236
          },
          {
           "__count": 61,
           "runs_cumulative": 209
          },
          {
           "__count": 16,
           "runs_cumulative": 235
          },
          {
           "__count": 164,
           "runs_cumulative": 194
          },
          {
           "__count": 107,
           "runs_cumulative": 197
          },
          {
           "__count": 2,
           "runs_cumulative": 297
          },
          {
           "__count": 2,
           "runs_cumulative": 308
          },
          {
           "__count": 52,
           "runs_cumulative": 214
          },
          {
           "__count": 10,
           "runs_cumulative": 241
          },
          {
           "__count": 55,
           "runs_cumulative": 212
          },
          {
           "__count": 17,
           "runs_cumulative": 240
          },
          {
           "__count": 17,
           "runs_cumulative": 233
          },
          {
           "__count": 13,
           "runs_cumulative": 237
          },
          {
           "__count": 38,
           "runs_cumulative": 216
          },
          {
           "__count": 43,
           "runs_cumulative": 215
          },
          {
           "__count": 37,
           "runs_cumulative": 224
          },
          {
           "__count": 9,
           "runs_cumulative": 244
          },
          {
           "__count": 28,
           "runs_cumulative": 223
          },
          {
           "__count": 49,
           "runs_cumulative": 217
          },
          {
           "__count": 2,
           "runs_cumulative": 288
          },
          {
           "__count": 16,
           "runs_cumulative": 238
          },
          {
           "__count": 36,
           "runs_cumulative": 218
          },
          {
           "__count": 8,
           "runs_cumulative": 253
          },
          {
           "__count": 7,
           "runs_cumulative": 248
          },
          {
           "__count": 30,
           "runs_cumulative": 228
          },
          {
           "__count": 19,
           "runs_cumulative": 234
          },
          {
           "__count": 4,
           "runs_cumulative": 257
          },
          {
           "__count": 13,
           "runs_cumulative": 245
          },
          {
           "__count": 19,
           "runs_cumulative": 231
          },
          {
           "__count": 6,
           "runs_cumulative": 260
          },
          {
           "__count": 16,
           "runs_cumulative": 230
          },
          {
           "__count": 4,
           "runs_cumulative": 263
          },
          {
           "__count": 5,
           "runs_cumulative": 250
          },
          {
           "__count": 2,
           "runs_cumulative": 255
          },
          {
           "__count": 8,
           "runs_cumulative": 256
          },
          {
           "__count": 7,
           "runs_cumulative": 254
          },
          {
           "__count": 3,
           "runs_cumulative": 314
          },
          {
           "__count": 1,
           "runs_cumulative": 272
          },
          {
           "__count": 1,
           "runs_cumulative": 265
          },
          {
           "__count": 2,
           "runs_cumulative": 310
          },
          {
           "__count": 1,
           "runs_cumulative": 328
          },
          {
           "__count": 1,
           "runs_cumulative": 294
          },
          {
           "__count": 16,
           "runs_cumulative": 239
          },
          {
           "__count": 2,
           "runs_cumulative": 269
          },
          {
           "__count": 10,
           "runs_cumulative": 243
          },
          {
           "__count": 3,
           "runs_cumulative": 273
          },
          {
           "__count": 3,
           "runs_cumulative": 306
          },
          {
           "__count": 9,
           "runs_cumulative": 252
          },
          {
           "__count": 2,
           "runs_cumulative": 285
          },
          {
           "__count": 3,
           "runs_cumulative": 289
          },
          {
           "__count": 2,
           "runs_cumulative": 278
          },
          {
           "__count": 7,
           "runs_cumulative": 267
          },
          {
           "__count": 1,
           "runs_cumulative": 309
          },
          {
           "__count": 2,
           "runs_cumulative": 290
          },
          {
           "__count": 5,
           "runs_cumulative": 259
          },
          {
           "__count": 2,
           "runs_cumulative": 300
          },
          {
           "__count": 5,
           "runs_cumulative": 261
          },
          {
           "__count": 2,
           "runs_cumulative": 298
          },
          {
           "__count": 2,
           "runs_cumulative": 276
          },
          {
           "__count": 1,
           "runs_cumulative": 268
          },
          {
           "__count": 1,
           "runs_cumulative": 301
          },
          {
           "__count": 2,
           "runs_cumulative": 282
          },
          {
           "__count": 1,
           "runs_cumulative": 324
          },
          {
           "__count": 1,
           "runs_cumulative": 266
          },
          {
           "__count": 1,
           "runs_cumulative": 280
          },
          {
           "__count": 2,
           "runs_cumulative": 271
          },
          {
           "__count": 1,
           "runs_cumulative": 284
          },
          {
           "__count": 1,
           "runs_cumulative": 262
          },
          {
           "__count": 5,
           "runs_cumulative": 246
          },
          {
           "__count": 1,
           "runs_cumulative": 333
          },
          {
           "__count": 1,
           "runs_cumulative": 291
          },
          {
           "__count": 2,
           "runs_cumulative": 317
          },
          {
           "__count": 1,
           "runs_cumulative": 281
          },
          {
           "__count": 1,
           "runs_cumulative": 292
          },
          {
           "__count": 1,
           "runs_cumulative": 275
          },
          {
           "__count": 1,
           "runs_cumulative": 320
          },
          {
           "__count": 1,
           "runs_cumulative": 299
          },
          {
           "__count": 1,
           "runs_cumulative": 293
          },
          {
           "__count": 2,
           "runs_cumulative": 274
          },
          {
           "__count": 1,
           "runs_cumulative": 312
          }
         ]
        },
        {
         "name": "data_0_concat_1_concat_0_x_domain_over",
         "values": [
          {
           "max": 19,
           "min": 0
          }
         ]
        },
        {
         "name": "data_0_concat_1_concat_0_y_domain___count",
         "values": [
          {
           "max": 29017,
           "min": 17340
          }
         ]
        },
        {
         "name": "data_1_concat_1_concat_1_x_domain_wides",
         "values": [
          {
           "max": 5,
           "min": 0
          }
         ]
        },
        {
         "name": "data_1_concat_1_concat_1_y_domain___count",
         "values": [
          {
           "max": 490474,
           "min": 28
          }
         ]
        },
        {
         "name": "data_2_concat_1_concat_2_x_domain_noballs",
         "values": [
          {
           "max": 5,
           "min": 0
          }
         ]
        },
        {
         "name": "data_2_concat_1_concat_2_y_domain___count",
         "values": [
          {
           "max": 508065,
           "min": 2
          }
         ]
        },
        {
         "name": "data_3_concat_2_concat_0_x_domain_legbyes",
         "values": [
          {
           "max": 5,
           "min": 0
          }
         ]
        },
        {
         "name": "data_3_concat_2_concat_0_y_domain___count",
         "values": [
          {
           "max": 503870,
           "min": 9
          }
         ]
        },
        {
         "name": "data_4_concat_2_concat_1_x_domain_byes",
         "values": [
          {
           "max": 5,
           "min": 0
          }
         ]
        },
        {
         "name": "data_4_concat_2_concat_1_y_domain___count",
         "values": [
          {
           "max": 508502,
           "min": 3
          }
         ]
        },
        {
         "name": "data_5_concat_2_concat_2_x_domain_wicket",
         "values": [
          {
           "max": 1,
           "min": 0
          }
         ]
        },
        {
         "name": "data_5_concat_2_concat_2_y_domain___count",
         "values": [
          {
           "max": 482548,
           "min": 28104
          }
         ]
        },
        {
         "name": "data_6_concat_3_concat_0_x_domain_runs_batter",
         "values": [
          {
           "max": 7,
           "min": 0
          }
         ]
        },
        {
         "name": "data_6_concat_3_concat_0_y_domain___count",
         "values": [
          {
           "max": 238158,
           "min": 2
          }
         ]
        },
        {
         "name": "data_7_concat_3_concat_1_x_domain_runs_extras",
         "values": [
          {
           "max": 6,
           "min": 0
          }
         ]
        },
        {
         "name": "data_7_concat_3_concat_1_y_domain___count",
         "values": [
          {
           "max": 479039,
           "min": 1
          }
         ]
        },
        {
         "name": "data_8_concat_3_concat_2_x_domain_runs_total",
         "values": [
          {
           "max": 7,
           "min": 0
          }
         ]
        },
        {
         "name": "data_8_concat_3_concat_2_y_domain___count",
         "values": [
          {
           "max": 207849,
           "min": 99
          }
         ]
        },
        {
         "name": "data_9_concat_4_concat_0_x_domain_over_ball",
         "values": [
          {
           "max": 19,
           "min": 1
          }
         ]
        },
        {
         "name": "data_9_concat_4_concat_0_y_domain___count",
         "values": [
          {
           "max": 82174,
           "min": 1
          }
         ]
        },
        {
         "name": "data_10_concat_4_concat_1_x_domain_runs_cumulative",
         "values": [
          {
           "max": 333,
           "min": 0
          }
         ]
        },
        {
         "name": "data_10_concat_4_concat_1_y_domain___count",
         "values": [
          {
           "max": 6808,
           "min": 1
          }
         ]
        }
       ],
       "layout": {
        "align": "each",
        "bounds": "full",
        "columns": 1,
        "padding": 20
       },
       "marks": [
        {
         "encode": {
          "update": {
           "height": {
            "signal": "concat_0_height"
           },
           "width": {
            "signal": "concat_0_width"
           }
          }
         },
         "marks": [
          {
           "encode": {
            "update": {
             "align": {
              "value": "center"
             },
             "baseline": {
              "value": "middle"
             },
             "description": {
              "signal": "\"text: \" + (isValid(datum[\"text\"]) ? datum[\"text\"] : \"\"+datum[\"text\"])"
             },
             "fill": {
              "value": "black"
             },
             "fontSize": {
              "value": 20
             },
             "text": {
              "signal": "isValid(datum[\"text\"]) ? datum[\"text\"] : \"\"+datum[\"text\"]"
             },
             "x": {
              "mult": 0.5,
              "signal": "concat_0_width"
             },
             "y": {
              "mult": 0.5,
              "signal": "concat_0_height"
             }
            }
           },
           "from": {
            "data": "data-e28bbd29196adbd423c09654646b514c"
           },
           "name": "concat_0_marks",
           "style": [
            "text"
           ],
           "type": "text"
          }
         ],
         "name": "concat_0_group",
         "style": "view",
         "type": "group"
        },
        {
         "layout": {
          "align": "each",
          "bounds": "full",
          "padding": 20
         },
         "marks": [
          {
           "axes": [
            {
             "aria": false,
             "domain": false,
             "grid": true,
             "gridScale": "concat_1_concat_0_y",
             "labels": false,
             "maxExtent": 0,
             "minExtent": 0,
             "orient": "bottom",
             "scale": "concat_1_concat_0_x",
             "tickCount": {
              "signal": "ceil(concat_1_childWidth/40)"
             },
             "ticks": false,
             "zindex": 0
            },
            {
             "aria": false,
             "domain": false,
             "grid": true,
             "gridScale": "concat_1_concat_0_x",
             "labels": false,
             "maxExtent": 0,
             "minExtent": 0,
             "orient": "left",
             "scale": "concat_1_concat_0_y",
             "tickCount": {
              "signal": "ceil(concat_1_height/40)"
             },
             "ticks": false,
             "zindex": 0
            },
            {
             "grid": false,
             "labelFlush": true,
             "labelOverlap": true,
             "orient": "bottom",
             "scale": "concat_1_concat_0_x",
             "tickCount": {
              "signal": "ceil(concat_1_childWidth/40)"
             },
             "title": "over",
             "zindex": 0
            },
            {
             "grid": false,
             "labelOverlap": true,
             "orient": "left",
             "scale": "concat_1_concat_0_y",
             "tickCount": {
              "signal": "ceil(concat_1_height/40)"
             },
             "title": "Count of Records",
             "zindex": 0
            }
           ],
           "encode": {
            "update": {
             "height": {
              "signal": "concat_1_height"
             },
             "width": {
              "signal": "concat_1_childWidth"
             }
            }
           },
           "marks": [
            {
             "encode": {
              "update": {
               "ariaRoleDescription": {
                "value": "bar"
               },
               "description": {
                "signal": "\"over: \" + (format(datum[\"over\"], \"\")) + \"; Count of Records: \" + (format(datum[\"__count\"], \"\"))"
               },
               "fill": {
                "value": "#4c78a8"
               },
               "width": {
                "value": 5
               },
               "xc": {
                "field": "over",
                "scale": "concat_1_concat_0_x"
               },
               "y": {
                "field": "__count",
                "scale": "concat_1_concat_0_y"
               },
               "y2": {
                "scale": "concat_1_concat_0_y",
                "value": 0
               }
              }
             },
             "from": {
              "data": "data_0"
             },
             "name": "concat_1_concat_0_marks",
             "style": [
              "bar"
             ],
             "type": "rect"
            }
           ],
           "name": "concat_1_concat_0_group",
           "style": "cell",
           "type": "group"
          },
          {
           "axes": [
            {
             "aria": false,
             "domain": false,
             "grid": true,
             "gridScale": "concat_1_concat_1_y",
             "labels": false,
             "maxExtent": 0,
             "minExtent": 0,
             "orient": "bottom",
             "scale": "concat_1_concat_1_x",
             "tickCount": {
              "signal": "ceil(concat_1_childWidth/40)"
             },
             "ticks": false,
             "zindex": 0
            },
            {
             "aria": false,
             "domain": false,
             "grid": true,
             "gridScale": "concat_1_concat_1_x",
             "labels": false,
             "maxExtent": 0,
             "minExtent": 0,
             "orient": "left",
             "scale": "concat_1_concat_1_y",
             "tickCount": {
              "signal": "ceil(concat_1_height/40)"
             },
             "ticks": false,
             "zindex": 0
            },
            {
             "grid": false,
             "labelFlush": true,
             "labelOverlap": true,
             "orient": "bottom",
             "scale": "concat_1_concat_1_x",
             "tickCount": {
              "signal": "ceil(concat_1_childWidth/40)"
             },
             "title": "wides",
             "zindex": 0
            },
            {
             "grid": false,
             "labelOverlap": true,
             "orient": "left",
             "scale": "concat_1_concat_1_y",
             "tickCount": {
              "signal": "ceil(concat_1_height/40)"
             },
             "title": "Count of Records",
             "zindex": 0
            }
           ],
           "encode": {
            "update": {
             "height": {
              "signal": "concat_1_height"
             },
             "width": {
              "signal": "concat_1_childWidth"
             }
            }
           },
           "marks": [
            {
             "encode": {
              "update": {
               "ariaRoleDescription": {
                "value": "bar"
               },
               "description": {
                "signal": "\"wides: \" + (format(datum[\"wides\"], \"\")) + \"; Count of Records: \" + (format(datum[\"__count\"], \"\"))"
               },
               "fill": {
                "value": "#4c78a8"
               },
               "width": {
                "value": 5
               },
               "xc": {
                "field": "wides",
                "scale": "concat_1_concat_1_x"
               },
               "y": {
                "field": "__count",
                "scale": "concat_1_concat_1_y"
               },
               "y2": {
                "scale": "concat_1_concat_1_y",
                "value": 0
               }
              }
             },
             "from": {
              "data": "data_1"
             },
             "name": "concat_1_concat_1_marks",
             "style": [
              "bar"
             ],
             "type": "rect"
            }
           ],
           "name": "concat_1_concat_1_group",
           "style": "cell",
           "type": "group"
          },
          {
           "axes": [
            {
             "aria": false,
             "domain": false,
             "grid": true,
             "gridScale": "concat_1_concat_2_y",
             "labels": false,
             "maxExtent": 0,
             "minExtent": 0,
             "orient": "bottom",
             "scale": "concat_1_concat_2_x",
             "tickCount": {
              "signal": "ceil(concat_1_childWidth/40)"
             },
             "ticks": false,
             "zindex": 0
            },
            {
             "aria": false,
             "domain": false,
             "grid": true,
             "gridScale": "concat_1_concat_2_x",
             "labels": false,
             "maxExtent": 0,
             "minExtent": 0,
             "orient": "left",
             "scale": "concat_1_concat_2_y",
             "tickCount": {
              "signal": "ceil(concat_1_height/40)"
             },
             "ticks": false,
             "zindex": 0
            },
            {
             "grid": false,
             "labelFlush": true,
             "labelOverlap": true,
             "orient": "bottom",
             "scale": "concat_1_concat_2_x",
             "tickCount": {
              "signal": "ceil(concat_1_childWidth/40)"
             },
             "title": "noballs",
             "zindex": 0
            },
            {
             "grid": false,
             "labelOverlap": true,
             "orient": "left",
             "scale": "concat_1_concat_2_y",
             "tickCount": {
              "signal": "ceil(concat_1_height/40)"
             },
             "title": "Count of Records",
             "zindex": 0
            }
           ],
           "encode": {
            "update": {
             "height": {
              "signal": "concat_1_height"
             },
             "width": {
              "signal": "concat_1_childWidth"
             }
            }
           },
           "marks": [
            {
             "encode": {
              "update": {
               "ariaRoleDescription": {
                "value": "bar"
               },
               "description": {
                "signal": "\"noballs: \" + (format(datum[\"noballs\"], \"\")) + \"; Count of Records: \" + (format(datum[\"__count\"], \"\"))"
               },
               "fill": {
                "value": "#4c78a8"
               },
               "width": {
                "value": 5
               },
               "xc": {
                "field": "noballs",
                "scale": "concat_1_concat_2_x"
               },
               "y": {
                "field": "__count",
                "scale": "concat_1_concat_2_y"
               },
               "y2": {
                "scale": "concat_1_concat_2_y",
                "value": 0
               }
              }
             },
             "from": {
              "data": "data_2"
             },
             "name": "concat_1_concat_2_marks",
             "style": [
              "bar"
             ],
             "type": "rect"
            }
           ],
           "name": "concat_1_concat_2_group",
           "style": "cell",
           "type": "group"
          }
         ],
         "name": "concat_1_group",
         "type": "group"
        },
        {
         "layout": {
          "align": "each",
          "bounds": "full",
          "padding": 20
         },
         "marks": [
          {
           "axes": [
            {
             "aria": false,
             "domain": false,
             "grid": true,
             "gridScale": "concat_2_concat_0_y",
             "labels": false,
             "maxExtent": 0,
             "minExtent": 0,
             "orient": "bottom",
             "scale": "concat_2_concat_0_x",
             "tickCount": {
              "signal": "ceil(concat_2_childWidth/40)"
             },
             "ticks": false,
             "zindex": 0
            },
            {
             "aria": false,
             "domain": false,
             "grid": true,
             "gridScale": "concat_2_concat_0_x",
             "labels": false,
             "maxExtent": 0,
             "minExtent": 0,
             "orient": "left",
             "scale": "concat_2_concat_0_y",
             "tickCount": {
              "signal": "ceil(concat_2_height/40)"
             },
             "ticks": false,
             "zindex": 0
            },
            {
             "grid": false,
             "labelFlush": true,
             "labelOverlap": true,
             "orient": "bottom",
             "scale": "concat_2_concat_0_x",
             "tickCount": {
              "signal": "ceil(concat_2_childWidth/40)"
             },
             "title": "legbyes",
             "zindex": 0
            },
            {
             "grid": false,
             "labelOverlap": true,
             "orient": "left",
             "scale": "concat_2_concat_0_y",
             "tickCount": {
              "signal": "ceil(concat_2_height/40)"
             },
             "title": "Count of Records",
             "zindex": 0
            }
           ],
           "encode": {
            "update": {
             "height": {
              "signal": "concat_2_height"
             },
             "width": {
              "signal": "concat_2_childWidth"
             }
            }
           },
           "marks": [
            {
             "encode": {
              "update": {
               "ariaRoleDescription": {
                "value": "bar"
               },
               "description": {
                "signal": "\"legbyes: \" + (format(datum[\"legbyes\"], \"\")) + \"; Count of Records: \" + (format(datum[\"__count\"], \"\"))"
               },
               "fill": {
                "value": "#4c78a8"
               },
               "width": {
                "value": 5
               },
               "xc": {
                "field": "legbyes",
                "scale": "concat_2_concat_0_x"
               },
               "y": {
                "field": "__count",
                "scale": "concat_2_concat_0_y"
               },
               "y2": {
                "scale": "concat_2_concat_0_y",
                "value": 0
               }
              }
             },
             "from": {
              "data": "data_3"
             },
             "name": "concat_2_concat_0_marks",
             "style": [
              "bar"
             ],
             "type": "rect"
            }
           ],
           "name": "concat_2_concat_0_group",
           "style": "cell",
           "type": "group"
          },
          {
           "axes": [
            {
             "aria": false,
             "domain": false,
             "grid": true,
             "gridScale": "concat_2_concat_1_y",
             "labels": false,
             "maxExtent": 0,
             "minExtent": 0,
             "orient": "bottom",
             "scale": "concat_2_concat_1_x",
             "tickCount": {
              "signal": "ceil(concat_2_childWidth/40)"
             },
             "ticks": false,
             "zindex": 0
            },
            {
             "aria": false,
             "domain": false,
             "grid": true,
             "gridScale": "concat_2_concat_1_x",
             "labels": false,
             "maxExtent": 0,
             "minExtent": 0,
             "orient": "left",
             "scale": "concat_2_concat_1_y",
             "tickCount": {
              "signal": "ceil(concat_2_height/40)"
             },
             "ticks": false,
             "zindex": 0
            },
            {
             "grid": false,
             "labelFlush": true,
             "labelOverlap": true,
             "orient": "bottom",
             "scale": "concat_2_concat_1_x",
             "tickCount": {
              "signal": "ceil(concat_2_childWidth/40)"
             },
             "title": "byes",
             "zindex": 0
            },
            {
             "grid": false,
             "labelOverlap": true,
             "orient": "left",
             "scale": "concat_2_concat_1_y",
             "tickCount": {
              "signal": "ceil(concat_2_height/40)"
             },
             "title": "Count of Records",
             "zindex": 0
            }
           ],
           "encode": {
            "update": {
             "height": {
              "signal": "concat_2_height"
             },
             "width": {
              "signal": "concat_2_childWidth"
             }
            }
           },
           "marks": [
            {
             "encode": {
              "update": {
               "ariaRoleDescription": {
                "value": "bar"
               },
               "description": {
                "signal": "\"byes: \" + (format(datum[\"byes\"], \"\")) + \"; Count of Records: \" + (format(datum[\"__count\"], \"\"))"
               },
               "fill": {
                "value": "#4c78a8"
               },
               "width": {
                "value": 5
               },
               "xc": {
                "field": "byes",
                "scale": "concat_2_concat_1_x"
               },
               "y": {
                "field": "__count",
                "scale": "concat_2_concat_1_y"
               },
               "y2": {
                "scale": "concat_2_concat_1_y",
                "value": 0
               }
              }
             },
             "from": {
              "data": "data_4"
             },
             "name": "concat_2_concat_1_marks",
             "style": [
              "bar"
             ],
             "type": "rect"
            }
           ],
           "name": "concat_2_concat_1_group",
           "style": "cell",
           "type": "group"
          },
          {
           "axes": [
            {
             "aria": false,
             "domain": false,
             "grid": true,
             "gridScale": "concat_2_concat_2_y",
             "labels": false,
             "maxExtent": 0,
             "minExtent": 0,
             "orient": "bottom",
             "scale": "concat_2_concat_2_x",
             "tickCount": {
              "signal": "ceil(concat_2_childWidth/40)"
             },
             "ticks": false,
             "zindex": 0
            },
            {
             "aria": false,
             "domain": false,
             "grid": true,
             "gridScale": "concat_2_concat_2_x",
             "labels": false,
             "maxExtent": 0,
             "minExtent": 0,
             "orient": "left",
             "scale": "concat_2_concat_2_y",
             "tickCount": {
              "signal": "ceil(concat_2_height/40)"
             },
             "ticks": false,
             "zindex": 0
            },
            {
             "grid": false,
             "labelFlush": true,
             "labelOverlap": true,
             "orient": "bottom",
             "scale": "concat_2_concat_2_x",
             "tickCount": {
              "signal": "ceil(concat_2_childWidth/40)"
             },
             "title": "wicket",
             "zindex": 0
            },
            {
             "grid": false,
             "labelOverlap": true,
             "orient": "left",
             "scale": "concat_2_concat_2_y",
             "tickCount": {
              "signal": "ceil(concat_2_height/40)"
             },
             "title": "Count of Records",
             "zindex": 0
            }
           ],
           "encode": {
            "update": {
             "height": {
              "signal": "concat_2_height"
             },
             "width": {
              "signal": "concat_2_childWidth"
             }
            }
           },
           "marks": [
            {
             "encode": {
              "update": {
               "ariaRoleDescription": {
                "value": "bar"
               },
               "description": {
                "signal": "\"wicket: \" + (format(datum[\"wicket\"], \"\")) + \"; Count of Records: \" + (format(datum[\"__count\"], \"\"))"
               },
               "fill": {
                "value": "#4c78a8"
               },
               "width": {
                "value": 5
               },
               "xc": {
                "field": "wicket",
                "scale": "concat_2_concat_2_x"
               },
               "y": {
                "field": "__count",
                "scale": "concat_2_concat_2_y"
               },
               "y2": {
                "scale": "concat_2_concat_2_y",
                "value": 0
               }
              }
             },
             "from": {
              "data": "data_5"
             },
             "name": "concat_2_concat_2_marks",
             "style": [
              "bar"
             ],
             "type": "rect"
            }
           ],
           "name": "concat_2_concat_2_group",
           "style": "cell",
           "type": "group"
          }
         ],
         "name": "concat_2_group",
         "type": "group"
        },
        {
         "layout": {
          "align": "each",
          "bounds": "full",
          "padding": 20
         },
         "marks": [
          {
           "axes": [
            {
             "aria": false,
             "domain": false,
             "grid": true,
             "gridScale": "concat_3_concat_0_y",
             "labels": false,
             "maxExtent": 0,
             "minExtent": 0,
             "orient": "bottom",
             "scale": "concat_3_concat_0_x",
             "tickCount": {
              "signal": "ceil(concat_3_childWidth/40)"
             },
             "ticks": false,
             "zindex": 0
            },
            {
             "aria": false,
             "domain": false,
             "grid": true,
             "gridScale": "concat_3_concat_0_x",
             "labels": false,
             "maxExtent": 0,
             "minExtent": 0,
             "orient": "left",
             "scale": "concat_3_concat_0_y",
             "tickCount": {
              "signal": "ceil(concat_3_height/40)"
             },
             "ticks": false,
             "zindex": 0
            },
            {
             "grid": false,
             "labelFlush": true,
             "labelOverlap": true,
             "orient": "bottom",
             "scale": "concat_3_concat_0_x",
             "tickCount": {
              "signal": "ceil(concat_3_childWidth/40)"
             },
             "title": "runs_batter",
             "zindex": 0
            },
            {
             "grid": false,
             "labelOverlap": true,
             "orient": "left",
             "scale": "concat_3_concat_0_y",
             "tickCount": {
              "signal": "ceil(concat_3_height/40)"
             },
             "title": "Count of Records",
             "zindex": 0
            }
           ],
           "encode": {
            "update": {
             "height": {
              "signal": "concat_3_height"
             },
             "width": {
              "signal": "concat_3_childWidth"
             }
            }
           },
           "marks": [
            {
             "encode": {
              "update": {
               "ariaRoleDescription": {
                "value": "bar"
               },
               "description": {
                "signal": "\"runs_batter: \" + (format(datum[\"runs_batter\"], \"\")) + \"; Count of Records: \" + (format(datum[\"__count\"], \"\"))"
               },
               "fill": {
                "value": "#4c78a8"
               },
               "width": {
                "value": 5
               },
               "xc": {
                "field": "runs_batter",
                "scale": "concat_3_concat_0_x"
               },
               "y": {
                "field": "__count",
                "scale": "concat_3_concat_0_y"
               },
               "y2": {
                "scale": "concat_3_concat_0_y",
                "value": 0
               }
              }
             },
             "from": {
              "data": "data_6"
             },
             "name": "concat_3_concat_0_marks",
             "style": [
              "bar"
             ],
             "type": "rect"
            }
           ],
           "name": "concat_3_concat_0_group",
           "style": "cell",
           "type": "group"
          },
          {
           "axes": [
            {
             "aria": false,
             "domain": false,
             "grid": true,
             "gridScale": "concat_3_concat_1_y",
             "labels": false,
             "maxExtent": 0,
             "minExtent": 0,
             "orient": "bottom",
             "scale": "concat_3_concat_1_x",
             "tickCount": {
              "signal": "ceil(concat_3_childWidth/40)"
             },
             "ticks": false,
             "zindex": 0
            },
            {
             "aria": false,
             "domain": false,
             "grid": true,
             "gridScale": "concat_3_concat_1_x",
             "labels": false,
             "maxExtent": 0,
             "minExtent": 0,
             "orient": "left",
             "scale": "concat_3_concat_1_y",
             "tickCount": {
              "signal": "ceil(concat_3_height/40)"
             },
             "ticks": false,
             "zindex": 0
            },
            {
             "grid": false,
             "labelFlush": true,
             "labelOverlap": true,
             "orient": "bottom",
             "scale": "concat_3_concat_1_x",
             "tickCount": {
              "signal": "ceil(concat_3_childWidth/40)"
             },
             "title": "runs_extras",
             "zindex": 0
            },
            {
             "grid": false,
             "labelOverlap": true,
             "orient": "left",
             "scale": "concat_3_concat_1_y",
             "tickCount": {
              "signal": "ceil(concat_3_height/40)"
             },
             "title": "Count of Records",
             "zindex": 0
            }
           ],
           "encode": {
            "update": {
             "height": {
              "signal": "concat_3_height"
             },
             "width": {
              "signal": "concat_3_childWidth"
             }
            }
           },
           "marks": [
            {
             "encode": {
              "update": {
               "ariaRoleDescription": {
                "value": "bar"
               },
               "description": {
                "signal": "\"runs_extras: \" + (format(datum[\"runs_extras\"], \"\")) + \"; Count of Records: \" + (format(datum[\"__count\"], \"\"))"
               },
               "fill": {
                "value": "#4c78a8"
               },
               "width": {
                "value": 5
               },
               "xc": {
                "field": "runs_extras",
                "scale": "concat_3_concat_1_x"
               },
               "y": {
                "field": "__count",
                "scale": "concat_3_concat_1_y"
               },
               "y2": {
                "scale": "concat_3_concat_1_y",
                "value": 0
               }
              }
             },
             "from": {
              "data": "data_7"
             },
             "name": "concat_3_concat_1_marks",
             "style": [
              "bar"
             ],
             "type": "rect"
            }
           ],
           "name": "concat_3_concat_1_group",
           "style": "cell",
           "type": "group"
          },
          {
           "axes": [
            {
             "aria": false,
             "domain": false,
             "grid": true,
             "gridScale": "concat_3_concat_2_y",
             "labels": false,
             "maxExtent": 0,
             "minExtent": 0,
             "orient": "bottom",
             "scale": "concat_3_concat_2_x",
             "tickCount": {
              "signal": "ceil(concat_3_childWidth/40)"
             },
             "ticks": false,
             "zindex": 0
            },
            {
             "aria": false,
             "domain": false,
             "grid": true,
             "gridScale": "concat_3_concat_2_x",
             "labels": false,
             "maxExtent": 0,
             "minExtent": 0,
             "orient": "left",
             "scale": "concat_3_concat_2_y",
             "tickCount": {
              "signal": "ceil(concat_3_height/40)"
             },
             "ticks": false,
             "zindex": 0
            },
            {
             "grid": false,
             "labelFlush": true,
             "labelOverlap": true,
             "orient": "bottom",
             "scale": "concat_3_concat_2_x",
             "tickCount": {
              "signal": "ceil(concat_3_childWidth/40)"
             },
             "title": "runs_total",
             "zindex": 0
            },
            {
             "grid": false,
             "labelOverlap": true,
             "orient": "left",
             "scale": "concat_3_concat_2_y",
             "tickCount": {
              "signal": "ceil(concat_3_height/40)"
             },
             "title": "Count of Records",
             "zindex": 0
            }
           ],
           "encode": {
            "update": {
             "height": {
              "signal": "concat_3_height"
             },
             "width": {
              "signal": "concat_3_childWidth"
             }
            }
           },
           "marks": [
            {
             "encode": {
              "update": {
               "ariaRoleDescription": {
                "value": "bar"
               },
               "description": {
                "signal": "\"runs_total: \" + (format(datum[\"runs_total\"], \"\")) + \"; Count of Records: \" + (format(datum[\"__count\"], \"\"))"
               },
               "fill": {
                "value": "#4c78a8"
               },
               "width": {
                "value": 5
               },
               "xc": {
                "field": "runs_total",
                "scale": "concat_3_concat_2_x"
               },
               "y": {
                "field": "__count",
                "scale": "concat_3_concat_2_y"
               },
               "y2": {
                "scale": "concat_3_concat_2_y",
                "value": 0
               }
              }
             },
             "from": {
              "data": "data_8"
             },
             "name": "concat_3_concat_2_marks",
             "style": [
              "bar"
             ],
             "type": "rect"
            }
           ],
           "name": "concat_3_concat_2_group",
           "style": "cell",
           "type": "group"
          }
         ],
         "name": "concat_3_group",
         "type": "group"
        },
        {
         "layout": {
          "align": "each",
          "bounds": "full",
          "padding": 20
         },
         "marks": [
          {
           "axes": [
            {
             "aria": false,
             "domain": false,
             "grid": true,
             "gridScale": "concat_4_concat_0_y",
             "labels": false,
             "maxExtent": 0,
             "minExtent": 0,
             "orient": "bottom",
             "scale": "concat_4_concat_0_x",
             "tickCount": {
              "signal": "ceil(concat_4_childWidth/40)"
             },
             "ticks": false,
             "zindex": 0
            },
            {
             "aria": false,
             "domain": false,
             "grid": true,
             "gridScale": "concat_4_concat_0_x",
             "labels": false,
             "maxExtent": 0,
             "minExtent": 0,
             "orient": "left",
             "scale": "concat_4_concat_0_y",
             "tickCount": {
              "signal": "ceil(concat_4_height/40)"
             },
             "ticks": false,
             "zindex": 0
            },
            {
             "grid": false,
             "labelFlush": true,
             "labelOverlap": true,
             "orient": "bottom",
             "scale": "concat_4_concat_0_x",
             "tickCount": {
              "signal": "ceil(concat_4_childWidth/40)"
             },
             "title": "over_ball",
             "zindex": 0
            },
            {
             "grid": false,
             "labelOverlap": true,
             "orient": "left",
             "scale": "concat_4_concat_0_y",
             "tickCount": {
              "signal": "ceil(concat_4_height/40)"
             },
             "title": "Count of Records",
             "zindex": 0
            }
           ],
           "encode": {
            "update": {
             "height": {
              "signal": "concat_4_height"
             },
             "width": {
              "signal": "concat_4_childWidth"
             }
            }
           },
           "marks": [
            {
             "encode": {
              "update": {
               "ariaRoleDescription": {
                "value": "bar"
               },
               "description": {
                "signal": "\"over_ball: \" + (format(datum[\"over_ball\"], \"\")) + \"; Count of Records: \" + (format(datum[\"__count\"], \"\"))"
               },
               "fill": {
                "value": "#4c78a8"
               },
               "width": {
                "value": 5
               },
               "xc": {
                "field": "over_ball",
                "scale": "concat_4_concat_0_x"
               },
               "y": {
                "field": "__count",
                "scale": "concat_4_concat_0_y"
               },
               "y2": {
                "scale": "concat_4_concat_0_y",
                "value": 0
               }
              }
             },
             "from": {
              "data": "data_9"
             },
             "name": "concat_4_concat_0_marks",
             "style": [
              "bar"
             ],
             "type": "rect"
            }
           ],
           "name": "concat_4_concat_0_group",
           "style": "cell",
           "type": "group"
          },
          {
           "axes": [
            {
             "aria": false,
             "domain": false,
             "grid": true,
             "gridScale": "concat_4_concat_1_y",
             "labels": false,
             "maxExtent": 0,
             "minExtent": 0,
             "orient": "bottom",
             "scale": "concat_4_concat_1_x",
             "tickCount": {
              "signal": "ceil(concat_4_childWidth/40)"
             },
             "ticks": false,
             "zindex": 0
            },
            {
             "aria": false,
             "domain": false,
             "grid": true,
             "gridScale": "concat_4_concat_1_x",
             "labels": false,
             "maxExtent": 0,
             "minExtent": 0,
             "orient": "left",
             "scale": "concat_4_concat_1_y",
             "tickCount": {
              "signal": "ceil(concat_4_height/40)"
             },
             "ticks": false,
             "zindex": 0
            },
            {
             "grid": false,
             "labelFlush": true,
             "labelOverlap": true,
             "orient": "bottom",
             "scale": "concat_4_concat_1_x",
             "tickCount": {
              "signal": "ceil(concat_4_childWidth/40)"
             },
             "title": "runs_cumulative",
             "zindex": 0
            },
            {
             "grid": false,
             "labelOverlap": true,
             "orient": "left",
             "scale": "concat_4_concat_1_y",
             "tickCount": {
              "signal": "ceil(concat_4_height/40)"
             },
             "title": "Count of Records",
             "zindex": 0
            }
           ],
           "encode": {
            "update": {
             "height": {
              "signal": "concat_4_height"
             },
             "width": {
              "signal": "concat_4_childWidth"
             }
            }
           },
           "marks": [
            {
             "encode": {
              "update": {
               "ariaRoleDescription": {
                "value": "bar"
               },
               "description": {
                "signal": "\"runs_cumulative: \" + (format(datum[\"runs_cumulative\"], \"\")) + \"; Count of Records: \" + (format(datum[\"__count\"], \"\"))"
               },
               "fill": {
                "value": "#4c78a8"
               },
               "width": {
                "value": 5
               },
               "xc": {
                "field": "runs_cumulative",
                "scale": "concat_4_concat_1_x"
               },
               "y": {
                "field": "__count",
                "scale": "concat_4_concat_1_y"
               },
               "y2": {
                "scale": "concat_4_concat_1_y",
                "value": 0
               }
              }
             },
             "from": {
              "data": "data_10"
             },
             "name": "concat_4_concat_1_marks",
             "style": [
              "bar"
             ],
             "type": "rect"
            }
           ],
           "name": "concat_4_concat_1_group",
           "style": "cell",
           "type": "group"
          }
         ],
         "name": "concat_4_group",
         "type": "group"
        }
       ],
       "padding": 5,
       "scales": [
        {
         "domain": [
          {
           "signal": "(data(\"data_0_concat_1_concat_0_x_domain_over\")[0] || {}).min"
          },
          {
           "signal": "(data(\"data_0_concat_1_concat_0_x_domain_over\")[0] || {}).max"
          }
         ],
         "name": "concat_1_concat_0_x",
         "nice": true,
         "padding": 5,
         "range": [
          0,
          {
           "signal": "concat_1_childWidth"
          }
         ],
         "type": "linear",
         "zero": false
        },
        {
         "domain": [
          {
           "signal": "(data(\"data_0_concat_1_concat_0_y_domain___count\")[0] || {}).min"
          },
          {
           "signal": "(data(\"data_0_concat_1_concat_0_y_domain___count\")[0] || {}).max"
          }
         ],
         "name": "concat_1_concat_0_y",
         "nice": true,
         "range": [
          {
           "signal": "concat_1_height"
          },
          0
         ],
         "type": "linear",
         "zero": true
        },
        {
         "domain": [
          {
           "signal": "(data(\"data_1_concat_1_concat_1_x_domain_wides\")[0] || {}).min"
          },
          {
           "signal": "(data(\"data_1_concat_1_concat_1_x_domain_wides\")[0] || {}).max"
          }
         ],
         "name": "concat_1_concat_1_x",
         "nice": true,
         "padding": 5,
         "range": [
          0,
          {
           "signal": "concat_1_childWidth"
          }
         ],
         "type": "linear",
         "zero": false
        },
        {
         "domain": [
          {
           "signal": "(data(\"data_1_concat_1_concat_1_y_domain___count\")[0] || {}).min"
          },
          {
           "signal": "(data(\"data_1_concat_1_concat_1_y_domain___count\")[0] || {}).max"
          }
         ],
         "name": "concat_1_concat_1_y",
         "nice": true,
         "range": [
          {
           "signal": "concat_1_height"
          },
          0
         ],
         "type": "linear",
         "zero": true
        },
        {
         "domain": [
          {
           "signal": "(data(\"data_2_concat_1_concat_2_x_domain_noballs\")[0] || {}).min"
          },
          {
           "signal": "(data(\"data_2_concat_1_concat_2_x_domain_noballs\")[0] || {}).max"
          }
         ],
         "name": "concat_1_concat_2_x",
         "nice": true,
         "padding": 5,
         "range": [
          0,
          {
           "signal": "concat_1_childWidth"
          }
         ],
         "type": "linear",
         "zero": false
        },
        {
         "domain": [
          {
           "signal": "(data(\"data_2_concat_1_concat_2_y_domain___count\")[0] || {}).min"
          },
          {
           "signal": "(data(\"data_2_concat_1_concat_2_y_domain___count\")[0] || {}).max"
          }
         ],
         "name": "concat_1_concat_2_y",
         "nice": true,
         "range": [
          {
           "signal": "concat_1_height"
          },
          0
         ],
         "type": "linear",
         "zero": true
        },
        {
         "domain": [
          {
           "signal": "(data(\"data_3_concat_2_concat_0_x_domain_legbyes\")[0] || {}).min"
          },
          {
           "signal": "(data(\"data_3_concat_2_concat_0_x_domain_legbyes\")[0] || {}).max"
          }
         ],
         "name": "concat_2_concat_0_x",
         "nice": true,
         "padding": 5,
         "range": [
          0,
          {
           "signal": "concat_2_childWidth"
          }
         ],
         "type": "linear",
         "zero": false
        },
        {
         "domain": [
          {
           "signal": "(data(\"data_3_concat_2_concat_0_y_domain___count\")[0] || {}).min"
          },
          {
           "signal": "(data(\"data_3_concat_2_concat_0_y_domain___count\")[0] || {}).max"
          }
         ],
         "name": "concat_2_concat_0_y",
         "nice": true,
         "range": [
          {
           "signal": "concat_2_height"
          },
          0
         ],
         "type": "linear",
         "zero": true
        },
        {
         "domain": [
          {
           "signal": "(data(\"data_4_concat_2_concat_1_x_domain_byes\")[0] || {}).min"
          },
          {
           "signal": "(data(\"data_4_concat_2_concat_1_x_domain_byes\")[0] || {}).max"
          }
         ],
         "name": "concat_2_concat_1_x",
         "nice": true,
         "padding": 5,
         "range": [
          0,
          {
           "signal": "concat_2_childWidth"
          }
         ],
         "type": "linear",
         "zero": false
        },
        {
         "domain": [
          {
           "signal": "(data(\"data_4_concat_2_concat_1_y_domain___count\")[0] || {}).min"
          },
          {
           "signal": "(data(\"data_4_concat_2_concat_1_y_domain___count\")[0] || {}).max"
          }
         ],
         "name": "concat_2_concat_1_y",
         "nice": true,
         "range": [
          {
           "signal": "concat_2_height"
          },
          0
         ],
         "type": "linear",
         "zero": true
        },
        {
         "domain": [
          {
           "signal": "(data(\"data_5_concat_2_concat_2_x_domain_wicket\")[0] || {}).min"
          },
          {
           "signal": "(data(\"data_5_concat_2_concat_2_x_domain_wicket\")[0] || {}).max"
          }
         ],
         "name": "concat_2_concat_2_x",
         "nice": true,
         "padding": 5,
         "range": [
          0,
          {
           "signal": "concat_2_childWidth"
          }
         ],
         "type": "linear",
         "zero": false
        },
        {
         "domain": [
          {
           "signal": "(data(\"data_5_concat_2_concat_2_y_domain___count\")[0] || {}).min"
          },
          {
           "signal": "(data(\"data_5_concat_2_concat_2_y_domain___count\")[0] || {}).max"
          }
         ],
         "name": "concat_2_concat_2_y",
         "nice": true,
         "range": [
          {
           "signal": "concat_2_height"
          },
          0
         ],
         "type": "linear",
         "zero": true
        },
        {
         "domain": [
          {
           "signal": "(data(\"data_6_concat_3_concat_0_x_domain_runs_batter\")[0] || {}).min"
          },
          {
           "signal": "(data(\"data_6_concat_3_concat_0_x_domain_runs_batter\")[0] || {}).max"
          }
         ],
         "name": "concat_3_concat_0_x",
         "nice": true,
         "padding": 5,
         "range": [
          0,
          {
           "signal": "concat_3_childWidth"
          }
         ],
         "type": "linear",
         "zero": false
        },
        {
         "domain": [
          {
           "signal": "(data(\"data_6_concat_3_concat_0_y_domain___count\")[0] || {}).min"
          },
          {
           "signal": "(data(\"data_6_concat_3_concat_0_y_domain___count\")[0] || {}).max"
          }
         ],
         "name": "concat_3_concat_0_y",
         "nice": true,
         "range": [
          {
           "signal": "concat_3_height"
          },
          0
         ],
         "type": "linear",
         "zero": true
        },
        {
         "domain": [
          {
           "signal": "(data(\"data_7_concat_3_concat_1_x_domain_runs_extras\")[0] || {}).min"
          },
          {
           "signal": "(data(\"data_7_concat_3_concat_1_x_domain_runs_extras\")[0] || {}).max"
          }
         ],
         "name": "concat_3_concat_1_x",
         "nice": true,
         "padding": 5,
         "range": [
          0,
          {
           "signal": "concat_3_childWidth"
          }
         ],
         "type": "linear",
         "zero": false
        },
        {
         "domain": [
          {
           "signal": "(data(\"data_7_concat_3_concat_1_y_domain___count\")[0] || {}).min"
          },
          {
           "signal": "(data(\"data_7_concat_3_concat_1_y_domain___count\")[0] || {}).max"
          }
         ],
         "name": "concat_3_concat_1_y",
         "nice": true,
         "range": [
          {
           "signal": "concat_3_height"
          },
          0
         ],
         "type": "linear",
         "zero": true
        },
        {
         "domain": [
          {
           "signal": "(data(\"data_8_concat_3_concat_2_x_domain_runs_total\")[0] || {}).min"
          },
          {
           "signal": "(data(\"data_8_concat_3_concat_2_x_domain_runs_total\")[0] || {}).max"
          }
         ],
         "name": "concat_3_concat_2_x",
         "nice": true,
         "padding": 5,
         "range": [
          0,
          {
           "signal": "concat_3_childWidth"
          }
         ],
         "type": "linear",
         "zero": false
        },
        {
         "domain": [
          {
           "signal": "(data(\"data_8_concat_3_concat_2_y_domain___count\")[0] || {}).min"
          },
          {
           "signal": "(data(\"data_8_concat_3_concat_2_y_domain___count\")[0] || {}).max"
          }
         ],
         "name": "concat_3_concat_2_y",
         "nice": true,
         "range": [
          {
           "signal": "concat_3_height"
          },
          0
         ],
         "type": "linear",
         "zero": true
        },
        {
         "domain": [
          {
           "signal": "(data(\"data_9_concat_4_concat_0_x_domain_over_ball\")[0] || {}).min"
          },
          {
           "signal": "(data(\"data_9_concat_4_concat_0_x_domain_over_ball\")[0] || {}).max"
          }
         ],
         "name": "concat_4_concat_0_x",
         "nice": true,
         "padding": 5,
         "range": [
          0,
          {
           "signal": "concat_4_childWidth"
          }
         ],
         "type": "linear",
         "zero": false
        },
        {
         "domain": [
          {
           "signal": "(data(\"data_9_concat_4_concat_0_y_domain___count\")[0] || {}).min"
          },
          {
           "signal": "(data(\"data_9_concat_4_concat_0_y_domain___count\")[0] || {}).max"
          }
         ],
         "name": "concat_4_concat_0_y",
         "nice": true,
         "range": [
          {
           "signal": "concat_4_height"
          },
          0
         ],
         "type": "linear",
         "zero": true
        },
        {
         "domain": [
          {
           "signal": "(data(\"data_10_concat_4_concat_1_x_domain_runs_cumulative\")[0] || {}).min"
          },
          {
           "signal": "(data(\"data_10_concat_4_concat_1_x_domain_runs_cumulative\")[0] || {}).max"
          }
         ],
         "name": "concat_4_concat_1_x",
         "nice": true,
         "padding": 5,
         "range": [
          0,
          {
           "signal": "concat_4_childWidth"
          }
         ],
         "type": "linear",
         "zero": false
        },
        {
         "domain": [
          {
           "signal": "(data(\"data_10_concat_4_concat_1_y_domain___count\")[0] || {}).min"
          },
          {
           "signal": "(data(\"data_10_concat_4_concat_1_y_domain___count\")[0] || {}).max"
          }
         ],
         "name": "concat_4_concat_1_y",
         "nice": true,
         "range": [
          {
           "signal": "concat_4_height"
          },
          0
         ],
         "type": "linear",
         "zero": true
        }
       ],
       "signals": [
        {
         "name": "concat_0_width",
         "value": 20
        },
        {
         "name": "concat_0_height",
         "value": 20
        },
        {
         "name": "concat_1_height",
         "value": 150
        },
        {
         "name": "concat_1_childWidth",
         "value": 150
        },
        {
         "name": "concat_2_height",
         "value": 150
        },
        {
         "name": "concat_2_childWidth",
         "value": 150
        },
        {
         "name": "concat_3_height",
         "value": 150
        },
        {
         "name": "concat_3_childWidth",
         "value": 150
        },
        {
         "name": "concat_4_height",
         "value": 150
        },
        {
         "name": "concat_4_childWidth",
         "value": 150
        }
       ]
      },
      "text/plain": [
       "<VegaLite 5 object>\n",
       "\n",
       "If you see this message, it means the renderer has not been properly enabled\n",
       "for the frontend that you are using. For more information, see\n",
       "https://altair-viz.github.io/user_guide/display_frontends.html#troubleshooting\n"
      ]
     },
     "execution_count": 6,
     "metadata": {},
     "output_type": "execute_result"
    }
   ],
   "source": [
    "def vis_bar(x_input, width, height):\n",
    "    return alt.Chart(train_data).mark_bar().encode(\n",
    "        x = x_input,\n",
    "        y = \"count()\"\n",
    "    ).properties(\n",
    "        width = width, \n",
    "        height = height\n",
    "    )\n",
    "\n",
    "over = vis_bar(\"over\", 150, 150)\n",
    "wides = vis_bar(\"wides\", 150, 150)\n",
    "noballs = vis_bar(\"noballs\", 150, 150)\n",
    "legbyes = vis_bar(\"legbyes\", 150, 150)\n",
    "byes = vis_bar(\"byes\", 150, 150)\n",
    "wicket = vis_bar(\"wicket\", 150, 150)\n",
    "run_batter = vis_bar(\"runs_batter\", 150, 150)\n",
    "run_extras = vis_bar(\"runs_extras\", 150, 150)\n",
    "run_total = vis_bar(\"runs_total\", 150, 150)\n",
    "over_ball = vis_bar(\"over_ball\", 150, 150)\n",
    "runs_cumulative = vis_bar(\"runs_cumulative\", 150, 150)\n",
    "\n",
    "title_1_a = alt.Chart(\n",
    "    {\"values\": [{\"text\": \"Figure 1.1: Distribution of Variables\"}]}\n",
    ").mark_text(size=20).encode(\n",
    "    text=\"text:N\"\n",
    ")\n",
    "\n",
    "v1 = alt.hconcat(over, wides, noballs)\n",
    "v2 = alt.hconcat(legbyes, byes, wicket)\n",
    "v3 = alt.hconcat(run_batter, run_extras, run_total)\n",
    "v4 = alt.hconcat(over_ball, runs_cumulative)\n",
    "alt.vconcat(title_1_a, v1, v2, v3, v4)\n"
   ]
  },
  {
   "cell_type": "code",
   "execution_count": 7,
   "id": "cbe76e09-a232-4045-b328-022fc78341e7",
   "metadata": {},
   "outputs": [
    {
     "data": {
      "application/vnd.vega.v5+json": {
       "$schema": "https://vega.github.io/schema/vega/v5.json",
       "background": "white",
       "data": [
        {
         "name": "data-baf8698baf4213342b2af0be85023aab",
         "values": [
          {
           "text": "Figure 1.b: Distribution of Variables"
          }
         ]
        },
        {
         "name": "source_2"
        },
        {
         "name": "source_0",
         "values": [
          {
           "__count": 53877,
           "season": "2023"
          },
          {
           "__count": 39909,
           "season": "2021/22"
          },
          {
           "__count": 45633,
           "season": "2022/23"
          },
          {
           "__count": 8585,
           "season": "2020/21"
          },
          {
           "__count": 6441,
           "season": "2010"
          },
          {
           "__count": 16027,
           "season": "2018"
          },
          {
           "__count": 3160,
           "season": "2020"
          },
          {
           "__count": 21619,
           "season": "2015/16"
          },
          {
           "__count": 5762,
           "season": "2009"
          },
          {
           "__count": 17011,
           "season": "2013/14"
          },
          {
           "__count": 61873,
           "season": "2022"
          },
          {
           "__count": 6653,
           "season": "2016/17"
          },
          {
           "__count": 11919,
           "season": "2012/13"
          },
          {
           "__count": 2358,
           "season": "2016"
          },
          {
           "__count": 10884,
           "season": "2017/18"
          },
          {
           "__count": 25899,
           "season": "2019"
          },
          {
           "__count": 43967,
           "season": "2023/24"
          },
          {
           "__count": 6813,
           "season": "2015"
          },
          {
           "__count": 1960,
           "season": "2010/11"
          },
          {
           "__count": 33277,
           "season": "2019/20"
          },
          {
           "__count": 18542,
           "season": "2018/19"
          },
          {
           "__count": 30334,
           "season": "2021"
          },
          {
           "__count": 3762,
           "season": "2009/10"
          },
          {
           "__count": 2591,
           "season": "2017"
          },
          {
           "__count": 6193,
           "season": "2007/08"
          },
          {
           "__count": 3651,
           "season": "2012"
          },
          {
           "__count": 348,
           "season": "2006"
          },
          {
           "__count": 6047,
           "season": "2011/12"
          },
          {
           "__count": 1840,
           "season": "2011"
          },
          {
           "__count": 1787,
           "season": "2014"
          },
          {
           "__count": 3249,
           "season": "2014/15"
          },
          {
           "__count": 3589,
           "season": "2013"
          },
          {
           "__count": 2377,
           "season": "2008/09"
          },
          {
           "__count": 634,
           "season": "2006/07"
          },
          {
           "__count": 160,
           "season": "2005"
          },
          {
           "__count": 741,
           "season": "2008"
          },
          {
           "__count": 672,
           "season": "2005/06"
          },
          {
           "__count": 337,
           "season": "2007"
          },
          {
           "__count": 171,
           "season": "2004/05"
          }
         ]
        },
        {
         "name": "source_1",
         "values": [
          {
           "__count": 1342,
           "team": "Portugal"
          },
          {
           "__count": 5012,
           "team": "Nigeria"
          },
          {
           "__count": 24491,
           "team": "New Zealand"
          },
          {
           "__count": 22754,
           "team": "South Africa"
          },
          {
           "__count": 1672,
           "team": "Argentina"
          },
          {
           "__count": 24761,
           "team": "Australia"
          },
          {
           "__count": 22505,
           "team": "Sri Lanka"
          },
          {
           "__count": 2512,
           "team": "Italy"
          },
          {
           "__count": 3044,
           "team": "Sierra Leone"
          },
          {
           "__count": 1230,
           "team": "Belgium"
          },
          {
           "__count": 18930,
           "team": "Bangladesh"
          },
          {
           "__count": 14194,
           "team": "Zimbabwe"
          },
          {
           "__count": 8718,
           "team": "Uganda"
          },
          {
           "__count": 10199,
           "team": "Afghanistan"
          },
          {
           "__count": 25120,
           "team": "England"
          },
          {
           "__count": 23305,
           "team": "West Indies"
          },
          {
           "__count": 3966,
           "team": "Malta"
          },
          {
           "__count": 8982,
           "team": "Malaysia"
          },
          {
           "__count": 28134,
           "team": "Pakistan"
          },
          {
           "__count": 10567,
           "team": "Netherlands"
          },
          {
           "__count": 9435,
           "team": "Hong Kong"
          },
          {
           "__count": 2485,
           "team": "Ghana"
          },
          {
           "__count": 9327,
           "team": "Scotland"
          },
          {
           "__count": 5026,
           "team": "Singapore"
          },
          {
           "__count": 2582,
           "team": "Maldives"
          },
          {
           "__count": 4891,
           "team": "Kuwait"
          },
          {
           "__count": 4150,
           "team": "Bahrain"
          },
          {
           "__count": 27701,
           "team": "India"
          },
          {
           "__count": 6521,
           "team": "Thailand"
          },
          {
           "__count": 18113,
           "team": "Ireland"
          },
          {
           "__count": 12220,
           "team": "United Arab Emirates"
          },
          {
           "__count": 8572,
           "team": "Nepal"
          },
          {
           "__count": 1035,
           "team": "Switzerland"
          },
          {
           "__count": 2980,
           "team": "Bhutan"
          },
          {
           "__count": 5626,
           "team": "Tanzania"
          },
          {
           "__count": 5690,
           "team": "Germany"
          },
          {
           "__count": 3506,
           "team": "Qatar"
          },
          {
           "__count": 7015,
           "team": "Kenya"
          },
          {
           "__count": 5719,
           "team": "Oman"
          },
          {
           "__count": 8141,
           "team": "Namibia"
          },
          {
           "__count": 2989,
           "team": "Gibraltar"
          },
          {
           "__count": 1953,
           "team": "Bermuda"
          },
          {
           "__count": 1340,
           "team": "Finland"
          },
          {
           "__count": 811,
           "team": "Croatia"
          },
          {
           "__count": 2534,
           "team": "Indonesia"
          },
          {
           "__count": 801,
           "team": "Cook Islands"
          },
          {
           "__count": 422,
           "team": "South Korea"
          },
          {
           "__count": 1240,
           "team": "Cameroon"
          },
          {
           "__count": 1447,
           "team": "Philippines"
          },
          {
           "__count": 1790,
           "team": "China"
          },
          {
           "__count": 2003,
           "team": "Czech Republic"
          },
          {
           "__count": 2794,
           "team": "Romania"
          },
          {
           "__count": 5203,
           "team": "Papua New Guinea"
          },
          {
           "__count": 689,
           "team": "Bahamas"
          },
          {
           "__count": 2693,
           "team": "Denmark"
          },
          {
           "__count": 1005,
           "team": "Samoa"
          },
          {
           "__count": 2136,
           "team": "Mozambique"
          },
          {
           "__count": 2065,
           "team": "Spain"
          },
          {
           "__count": 1018,
           "team": "Malawi"
          },
          {
           "__count": 661,
           "team": "Seychelles"
          },
          {
           "__count": 3142,
           "team": "United States of America"
          },
          {
           "__count": 2171,
           "team": "Vanuatu"
          },
          {
           "__count": 2853,
           "team": "France"
          },
          {
           "__count": 2872,
           "team": "Jersey"
          },
          {
           "__count": 819,
           "team": "Turkey"
          },
          {
           "__count": 1101,
           "team": "Myanmar"
          },
          {
           "__count": 1733,
           "team": "Serbia"
          },
          {
           "__count": 2398,
           "team": "Luxembourg"
          },
          {
           "__count": 3838,
           "team": "Japan"
          },
          {
           "__count": 2211,
           "team": "Austria"
          },
          {
           "__count": 293,
           "team": "Mali"
          },
          {
           "__count": 2406,
           "team": "Bulgaria"
          },
          {
           "__count": 1062,
           "team": "Lesotho"
          },
          {
           "__count": 1474,
           "team": "Guernsey"
          },
          {
           "__count": 2069,
           "team": "Saudi Arabia"
          },
          {
           "__count": 6026,
           "team": "Rwanda"
          },
          {
           "__count": 1175,
           "team": "Cambodia"
          },
          {
           "__count": 4441,
           "team": "Botswana"
          },
          {
           "__count": 1695,
           "team": "Norway"
          },
          {
           "__count": 1153,
           "team": "Isle of Man"
          },
          {
           "__count": 4296,
           "team": "Canada"
          },
          {
           "__count": 874,
           "team": "Cyprus"
          },
          {
           "__count": 821,
           "team": "Brazil"
          },
          {
           "__count": 326,
           "team": "ICC World XI"
          },
          {
           "__count": 820,
           "team": "Estonia"
          },
          {
           "__count": 293,
           "team": "Chile"
          },
          {
           "__count": 1008,
           "team": "Fiji"
          },
          {
           "__count": 831,
           "team": "Eswatini"
          },
          {
           "__count": 734,
           "team": "Greece"
          },
          {
           "__count": 1476,
           "team": "Hungary"
          },
          {
           "__count": 274,
           "team": "Israel"
          },
          {
           "__count": 1141,
           "team": "Cayman Islands"
          },
          {
           "__count": 190,
           "team": "St Helena"
          },
          {
           "__count": 944,
           "team": "Panama"
          },
          {
           "__count": 420,
           "team": "Belize"
          },
          {
           "__count": 1785,
           "team": "Sweden"
          },
          {
           "__count": 251,
           "team": "Barbados"
          },
          {
           "__count": 149,
           "team": "Mexico"
          },
          {
           "__count": 310,
           "team": "Slovenia"
          },
          {
           "__count": 396,
           "team": "Swaziland"
          },
          {
           "__count": 66,
           "team": "Mongolia"
          },
          {
           "__count": 458,
           "team": "Gambia"
          },
          {
           "__count": 90,
           "team": "Iran"
          }
         ]
        },
        {
         "name": "data_0",
         "values": [
          {
           "__count": 236687,
           "inning": 2
          },
          {
           "__count": 273965,
           "inning": 1
          }
         ]
        },
        {
         "name": "data_1",
         "values": [
          {
           "__count": 169244,
           "powerplay": 1
          },
          {
           "__count": 341408,
           "powerplay": 0
          }
         ]
        },
        {
         "name": "source_0_concat_1_x_domain_season",
         "values": [
          {
           "season": "2023"
          },
          {
           "season": "2021/22"
          },
          {
           "season": "2022/23"
          },
          {
           "season": "2020/21"
          },
          {
           "season": "2010"
          },
          {
           "season": "2018"
          },
          {
           "season": "2020"
          },
          {
           "season": "2015/16"
          },
          {
           "season": "2009"
          },
          {
           "season": "2013/14"
          },
          {
           "season": "2022"
          },
          {
           "season": "2016/17"
          },
          {
           "season": "2012/13"
          },
          {
           "season": "2016"
          },
          {
           "season": "2017/18"
          },
          {
           "season": "2019"
          },
          {
           "season": "2023/24"
          },
          {
           "season": "2015"
          },
          {
           "season": "2010/11"
          },
          {
           "season": "2019/20"
          },
          {
           "season": "2018/19"
          },
          {
           "season": "2021"
          },
          {
           "season": "2009/10"
          },
          {
           "season": "2017"
          },
          {
           "season": "2007/08"
          },
          {
           "season": "2012"
          },
          {
           "season": "2006"
          },
          {
           "season": "2011/12"
          },
          {
           "season": "2011"
          },
          {
           "season": "2014"
          },
          {
           "season": "2014/15"
          },
          {
           "season": "2013"
          },
          {
           "season": "2008/09"
          },
          {
           "season": "2006/07"
          },
          {
           "season": "2005"
          },
          {
           "season": "2008"
          },
          {
           "season": "2005/06"
          },
          {
           "season": "2007"
          },
          {
           "season": "2004/05"
          }
         ]
        },
        {
         "name": "source_0_concat_1_y_domain___count",
         "values": [
          {
           "max": 61873,
           "min": 160
          }
         ]
        },
        {
         "name": "source_1_concat_2_x_domain_team",
         "values": [
          {
           "team": "Portugal"
          },
          {
           "team": "Nigeria"
          },
          {
           "team": "New Zealand"
          },
          {
           "team": "South Africa"
          },
          {
           "team": "Argentina"
          },
          {
           "team": "Australia"
          },
          {
           "team": "Sri Lanka"
          },
          {
           "team": "Italy"
          },
          {
           "team": "Sierra Leone"
          },
          {
           "team": "Belgium"
          },
          {
           "team": "Bangladesh"
          },
          {
           "team": "Zimbabwe"
          },
          {
           "team": "Uganda"
          },
          {
           "team": "Afghanistan"
          },
          {
           "team": "England"
          },
          {
           "team": "West Indies"
          },
          {
           "team": "Malta"
          },
          {
           "team": "Malaysia"
          },
          {
           "team": "Pakistan"
          },
          {
           "team": "Netherlands"
          },
          {
           "team": "Hong Kong"
          },
          {
           "team": "Ghana"
          },
          {
           "team": "Scotland"
          },
          {
           "team": "Singapore"
          },
          {
           "team": "Maldives"
          },
          {
           "team": "Kuwait"
          },
          {
           "team": "Bahrain"
          },
          {
           "team": "India"
          },
          {
           "team": "Thailand"
          },
          {
           "team": "Ireland"
          },
          {
           "team": "United Arab Emirates"
          },
          {
           "team": "Nepal"
          },
          {
           "team": "Switzerland"
          },
          {
           "team": "Bhutan"
          },
          {
           "team": "Tanzania"
          },
          {
           "team": "Germany"
          },
          {
           "team": "Qatar"
          },
          {
           "team": "Kenya"
          },
          {
           "team": "Oman"
          },
          {
           "team": "Namibia"
          },
          {
           "team": "Gibraltar"
          },
          {
           "team": "Bermuda"
          },
          {
           "team": "Finland"
          },
          {
           "team": "Croatia"
          },
          {
           "team": "Indonesia"
          },
          {
           "team": "Cook Islands"
          },
          {
           "team": "South Korea"
          },
          {
           "team": "Cameroon"
          },
          {
           "team": "Philippines"
          },
          {
           "team": "China"
          },
          {
           "team": "Czech Republic"
          },
          {
           "team": "Romania"
          },
          {
           "team": "Papua New Guinea"
          },
          {
           "team": "Bahamas"
          },
          {
           "team": "Denmark"
          },
          {
           "team": "Samoa"
          },
          {
           "team": "Mozambique"
          },
          {
           "team": "Spain"
          },
          {
           "team": "Malawi"
          },
          {
           "team": "Seychelles"
          },
          {
           "team": "United States of America"
          },
          {
           "team": "Vanuatu"
          },
          {
           "team": "France"
          },
          {
           "team": "Jersey"
          },
          {
           "team": "Turkey"
          },
          {
           "team": "Myanmar"
          },
          {
           "team": "Serbia"
          },
          {
           "team": "Luxembourg"
          },
          {
           "team": "Japan"
          },
          {
           "team": "Austria"
          },
          {
           "team": "Mali"
          },
          {
           "team": "Bulgaria"
          },
          {
           "team": "Lesotho"
          },
          {
           "team": "Guernsey"
          },
          {
           "team": "Saudi Arabia"
          },
          {
           "team": "Rwanda"
          },
          {
           "team": "Cambodia"
          },
          {
           "team": "Botswana"
          },
          {
           "team": "Norway"
          },
          {
           "team": "Isle of Man"
          },
          {
           "team": "Canada"
          },
          {
           "team": "Cyprus"
          },
          {
           "team": "Brazil"
          },
          {
           "team": "ICC World XI"
          },
          {
           "team": "Estonia"
          },
          {
           "team": "Chile"
          },
          {
           "team": "Fiji"
          },
          {
           "team": "Eswatini"
          },
          {
           "team": "Greece"
          },
          {
           "team": "Hungary"
          },
          {
           "team": "Israel"
          },
          {
           "team": "Cayman Islands"
          },
          {
           "team": "St Helena"
          },
          {
           "team": "Panama"
          },
          {
           "team": "Belize"
          },
          {
           "team": "Sweden"
          },
          {
           "team": "Barbados"
          },
          {
           "team": "Mexico"
          },
          {
           "team": "Slovenia"
          },
          {
           "team": "Swaziland"
          },
          {
           "team": "Mongolia"
          },
          {
           "team": "Gambia"
          },
          {
           "team": "Iran"
          }
         ]
        },
        {
         "name": "source_1_concat_2_y_domain___count",
         "values": [
          {
           "max": 28134,
           "min": 66
          }
         ]
        },
        {
         "name": "data_0_concat_3_concat_0_x_domain_inning",
         "values": [
          {
           "inning": 2
          },
          {
           "inning": 1
          }
         ]
        },
        {
         "name": "data_0_concat_3_concat_0_y_domain___count",
         "values": [
          {
           "max": 273965,
           "min": 236687
          }
         ]
        },
        {
         "name": "data_1_concat_3_concat_1_x_domain_powerplay",
         "values": [
          {
           "powerplay": 1
          },
          {
           "powerplay": 0
          }
         ]
        },
        {
         "name": "data_1_concat_3_concat_1_y_domain___count",
         "values": [
          {
           "max": 341408,
           "min": 169244
          }
         ]
        }
       ],
       "layout": {
        "align": "each",
        "bounds": "full",
        "columns": 1,
        "padding": 20
       },
       "marks": [
        {
         "encode": {
          "update": {
           "height": {
            "signal": "concat_0_height"
           },
           "width": {
            "signal": "concat_0_width"
           }
          }
         },
         "marks": [
          {
           "encode": {
            "update": {
             "align": {
              "value": "center"
             },
             "baseline": {
              "value": "middle"
             },
             "description": {
              "signal": "\"text: \" + (isValid(datum[\"text\"]) ? datum[\"text\"] : \"\"+datum[\"text\"])"
             },
             "fill": {
              "value": "black"
             },
             "fontSize": {
              "value": 20
             },
             "text": {
              "signal": "isValid(datum[\"text\"]) ? datum[\"text\"] : \"\"+datum[\"text\"]"
             },
             "x": {
              "mult": 0.5,
              "signal": "concat_0_width"
             },
             "y": {
              "mult": 0.5,
              "signal": "concat_0_height"
             }
            }
           },
           "from": {
            "data": "data-baf8698baf4213342b2af0be85023aab"
           },
           "name": "concat_0_marks",
           "style": [
            "text"
           ],
           "type": "text"
          }
         ],
         "name": "concat_0_group",
         "style": "view",
         "type": "group"
        },
        {
         "axes": [
          {
           "aria": false,
           "domain": false,
           "grid": true,
           "gridScale": "concat_1_x",
           "labels": false,
           "maxExtent": 0,
           "minExtent": 0,
           "orient": "left",
           "scale": "concat_1_y",
           "tickCount": {
            "signal": "ceil(concat_1_height/40)"
           },
           "ticks": false,
           "zindex": 0
          },
          {
           "grid": false,
           "labelAlign": "right",
           "labelAngle": 270,
           "labelBaseline": "middle",
           "orient": "bottom",
           "scale": "concat_1_x",
           "title": "season",
           "zindex": 0
          },
          {
           "grid": false,
           "labelOverlap": true,
           "orient": "left",
           "scale": "concat_1_y",
           "tickCount": {
            "signal": "ceil(concat_1_height/40)"
           },
           "title": "Count of Records",
           "zindex": 0
          }
         ],
         "encode": {
          "update": {
           "height": {
            "signal": "concat_1_height"
           },
           "width": {
            "signal": "concat_1_width"
           }
          }
         },
         "marks": [
          {
           "encode": {
            "update": {
             "ariaRoleDescription": {
              "value": "bar"
             },
             "description": {
              "signal": "\"season: \" + (isValid(datum[\"season\"]) ? datum[\"season\"] : \"\"+datum[\"season\"]) + \"; Count of Records: \" + (format(datum[\"__count\"], \"\"))"
             },
             "fill": {
              "value": "#4c78a8"
             },
             "width": {
              "signal": "max(0.25, bandwidth('concat_1_x'))"
             },
             "x": {
              "field": "season",
              "scale": "concat_1_x"
             },
             "y": {
              "field": "__count",
              "scale": "concat_1_y"
             },
             "y2": {
              "scale": "concat_1_y",
              "value": 0
             }
            }
           },
           "from": {
            "data": "source_0"
           },
           "name": "concat_1_marks",
           "style": [
            "bar"
           ],
           "type": "rect"
          }
         ],
         "name": "concat_1_group",
         "style": "cell",
         "type": "group"
        },
        {
         "axes": [
          {
           "aria": false,
           "domain": false,
           "grid": true,
           "gridScale": "concat_2_x",
           "labels": false,
           "maxExtent": 0,
           "minExtent": 0,
           "orient": "left",
           "scale": "concat_2_y",
           "tickCount": {
            "signal": "ceil(concat_2_height/40)"
           },
           "ticks": false,
           "zindex": 0
          },
          {
           "grid": false,
           "labelAlign": "right",
           "labelAngle": 270,
           "labelBaseline": "middle",
           "orient": "bottom",
           "scale": "concat_2_x",
           "title": "team",
           "zindex": 0
          },
          {
           "grid": false,
           "labelOverlap": true,
           "orient": "left",
           "scale": "concat_2_y",
           "tickCount": {
            "signal": "ceil(concat_2_height/40)"
           },
           "title": "Count of Records",
           "zindex": 0
          }
         ],
         "encode": {
          "update": {
           "height": {
            "signal": "concat_2_height"
           },
           "width": {
            "signal": "concat_2_width"
           }
          }
         },
         "marks": [
          {
           "encode": {
            "update": {
             "ariaRoleDescription": {
              "value": "bar"
             },
             "description": {
              "signal": "\"team: \" + (isValid(datum[\"team\"]) ? datum[\"team\"] : \"\"+datum[\"team\"]) + \"; Count of Records: \" + (format(datum[\"__count\"], \"\"))"
             },
             "fill": {
              "value": "#4c78a8"
             },
             "width": {
              "signal": "max(0.25, bandwidth('concat_2_x'))"
             },
             "x": {
              "field": "team",
              "scale": "concat_2_x"
             },
             "y": {
              "field": "__count",
              "scale": "concat_2_y"
             },
             "y2": {
              "scale": "concat_2_y",
              "value": 0
             }
            }
           },
           "from": {
            "data": "source_1"
           },
           "name": "concat_2_marks",
           "style": [
            "bar"
           ],
           "type": "rect"
          }
         ],
         "name": "concat_2_group",
         "style": "cell",
         "type": "group"
        },
        {
         "layout": {
          "align": "each",
          "bounds": "full",
          "padding": 20
         },
         "marks": [
          {
           "axes": [
            {
             "aria": false,
             "domain": false,
             "grid": true,
             "gridScale": "concat_3_concat_0_x",
             "labels": false,
             "maxExtent": 0,
             "minExtent": 0,
             "orient": "left",
             "scale": "concat_3_concat_0_y",
             "tickCount": {
              "signal": "ceil(concat_3_height/40)"
             },
             "ticks": false,
             "zindex": 0
            },
            {
             "grid": false,
             "labelAlign": "right",
             "labelAngle": 270,
             "labelBaseline": "middle",
             "orient": "bottom",
             "scale": "concat_3_concat_0_x",
             "title": "inning",
             "zindex": 0
            },
            {
             "grid": false,
             "labelOverlap": true,
             "orient": "left",
             "scale": "concat_3_concat_0_y",
             "tickCount": {
              "signal": "ceil(concat_3_height/40)"
             },
             "title": "Count of Records",
             "zindex": 0
            }
           ],
           "encode": {
            "update": {
             "height": {
              "signal": "concat_3_height"
             },
             "width": {
              "signal": "concat_3_childWidth"
             }
            }
           },
           "marks": [
            {
             "encode": {
              "update": {
               "ariaRoleDescription": {
                "value": "bar"
               },
               "description": {
                "signal": "\"inning: \" + (isValid(datum[\"inning\"]) ? datum[\"inning\"] : \"\"+datum[\"inning\"]) + \"; Count of Records: \" + (format(datum[\"__count\"], \"\"))"
               },
               "fill": {
                "value": "#4c78a8"
               },
               "width": {
                "signal": "max(0.25, bandwidth('concat_3_concat_0_x'))"
               },
               "x": {
                "field": "inning",
                "scale": "concat_3_concat_0_x"
               },
               "y": {
                "field": "__count",
                "scale": "concat_3_concat_0_y"
               },
               "y2": {
                "scale": "concat_3_concat_0_y",
                "value": 0
               }
              }
             },
             "from": {
              "data": "data_0"
             },
             "name": "concat_3_concat_0_marks",
             "style": [
              "bar"
             ],
             "type": "rect"
            }
           ],
           "name": "concat_3_concat_0_group",
           "style": "cell",
           "type": "group"
          },
          {
           "axes": [
            {
             "aria": false,
             "domain": false,
             "grid": true,
             "gridScale": "concat_3_concat_1_x",
             "labels": false,
             "maxExtent": 0,
             "minExtent": 0,
             "orient": "left",
             "scale": "concat_3_concat_1_y",
             "tickCount": {
              "signal": "ceil(concat_3_height/40)"
             },
             "ticks": false,
             "zindex": 0
            },
            {
             "grid": false,
             "labelAlign": "right",
             "labelAngle": 270,
             "labelBaseline": "middle",
             "orient": "bottom",
             "scale": "concat_3_concat_1_x",
             "title": "powerplay",
             "zindex": 0
            },
            {
             "grid": false,
             "labelOverlap": true,
             "orient": "left",
             "scale": "concat_3_concat_1_y",
             "tickCount": {
              "signal": "ceil(concat_3_height/40)"
             },
             "title": "Count of Records",
             "zindex": 0
            }
           ],
           "encode": {
            "update": {
             "height": {
              "signal": "concat_3_height"
             },
             "width": {
              "signal": "concat_3_childWidth"
             }
            }
           },
           "marks": [
            {
             "encode": {
              "update": {
               "ariaRoleDescription": {
                "value": "bar"
               },
               "description": {
                "signal": "\"powerplay: \" + (isValid(datum[\"powerplay\"]) ? datum[\"powerplay\"] : \"\"+datum[\"powerplay\"]) + \"; Count of Records: \" + (format(datum[\"__count\"], \"\"))"
               },
               "fill": {
                "value": "#4c78a8"
               },
               "width": {
                "signal": "max(0.25, bandwidth('concat_3_concat_1_x'))"
               },
               "x": {
                "field": "powerplay",
                "scale": "concat_3_concat_1_x"
               },
               "y": {
                "field": "__count",
                "scale": "concat_3_concat_1_y"
               },
               "y2": {
                "scale": "concat_3_concat_1_y",
                "value": 0
               }
              }
             },
             "from": {
              "data": "data_1"
             },
             "name": "concat_3_concat_1_marks",
             "style": [
              "bar"
             ],
             "type": "rect"
            }
           ],
           "name": "concat_3_concat_1_group",
           "style": "cell",
           "type": "group"
          }
         ],
         "name": "concat_3_group",
         "type": "group"
        }
       ],
       "padding": 5,
       "scales": [
        {
         "domain": {
          "data": "source_0_concat_1_x_domain_season",
          "field": "season",
          "sort": true
         },
         "name": "concat_1_x",
         "paddingInner": 0.1,
         "paddingOuter": 0.05,
         "range": [
          0,
          {
           "signal": "concat_1_width"
          }
         ],
         "type": "band"
        },
        {
         "domain": [
          {
           "signal": "(data(\"source_0_concat_1_y_domain___count\")[0] || {}).min"
          },
          {
           "signal": "(data(\"source_0_concat_1_y_domain___count\")[0] || {}).max"
          }
         ],
         "name": "concat_1_y",
         "nice": true,
         "range": [
          {
           "signal": "concat_1_height"
          },
          0
         ],
         "type": "linear",
         "zero": true
        },
        {
         "domain": {
          "data": "source_1_concat_2_x_domain_team",
          "field": "team",
          "sort": true
         },
         "name": "concat_2_x",
         "paddingInner": 0.1,
         "paddingOuter": 0.05,
         "range": [
          0,
          {
           "signal": "concat_2_width"
          }
         ],
         "type": "band"
        },
        {
         "domain": [
          {
           "signal": "(data(\"source_1_concat_2_y_domain___count\")[0] || {}).min"
          },
          {
           "signal": "(data(\"source_1_concat_2_y_domain___count\")[0] || {}).max"
          }
         ],
         "name": "concat_2_y",
         "nice": true,
         "range": [
          {
           "signal": "concat_2_height"
          },
          0
         ],
         "type": "linear",
         "zero": true
        },
        {
         "domain": {
          "data": "data_0_concat_3_concat_0_x_domain_inning",
          "field": "inning",
          "sort": true
         },
         "name": "concat_3_concat_0_x",
         "paddingInner": 0.1,
         "paddingOuter": 0.05,
         "range": [
          0,
          {
           "signal": "concat_3_childWidth"
          }
         ],
         "type": "band"
        },
        {
         "domain": [
          {
           "signal": "(data(\"data_0_concat_3_concat_0_y_domain___count\")[0] || {}).min"
          },
          {
           "signal": "(data(\"data_0_concat_3_concat_0_y_domain___count\")[0] || {}).max"
          }
         ],
         "name": "concat_3_concat_0_y",
         "nice": true,
         "range": [
          {
           "signal": "concat_3_height"
          },
          0
         ],
         "type": "linear",
         "zero": true
        },
        {
         "domain": {
          "data": "data_1_concat_3_concat_1_x_domain_powerplay",
          "field": "powerplay",
          "sort": true
         },
         "name": "concat_3_concat_1_x",
         "paddingInner": 0.1,
         "paddingOuter": 0.05,
         "range": [
          0,
          {
           "signal": "concat_3_childWidth"
          }
         ],
         "type": "band"
        },
        {
         "domain": [
          {
           "signal": "(data(\"data_1_concat_3_concat_1_y_domain___count\")[0] || {}).min"
          },
          {
           "signal": "(data(\"data_1_concat_3_concat_1_y_domain___count\")[0] || {}).max"
          }
         ],
         "name": "concat_3_concat_1_y",
         "nice": true,
         "range": [
          {
           "signal": "concat_3_height"
          },
          0
         ],
         "type": "linear",
         "zero": true
        }
       ],
       "signals": [
        {
         "name": "concat_0_width",
         "value": 20
        },
        {
         "name": "concat_0_height",
         "value": 20
        },
        {
         "name": "concat_1_width",
         "value": 500
        },
        {
         "name": "concat_1_height",
         "value": 150
        },
        {
         "name": "concat_2_width",
         "value": 900
        },
        {
         "name": "concat_2_height",
         "value": 150
        },
        {
         "name": "concat_3_height",
         "value": 150
        },
        {
         "name": "concat_3_childWidth",
         "value": 150
        }
       ]
      },
      "text/plain": [
       "<VegaLite 5 object>\n",
       "\n",
       "If you see this message, it means the renderer has not been properly enabled\n",
       "for the frontend that you are using. For more information, see\n",
       "https://altair-viz.github.io/user_guide/display_frontends.html#troubleshooting\n"
      ]
     },
     "execution_count": 7,
     "metadata": {},
     "output_type": "execute_result"
    }
   ],
   "source": [
    "season = vis_bar(\"season\", 500, 150)\n",
    "team = vis_bar(\"team\", 900, 150)\n",
    "inning = vis_bar(\"inning:N\", 150, 150)\n",
    "powerplay = vis_bar(\"powerplay:N\", 150, 150)\n",
    "\n",
    "title_1_b = alt.Chart(\n",
    "    {\"values\": [{\"text\": \"Figure 1.2: Distribution of Variables\"}]}\n",
    ").mark_text(size=20).encode(\n",
    "    text=\"text:N\"\n",
    ")\n",
    "\n",
    "h_1 = alt.hconcat(inning, powerplay)\n",
    "alt.vconcat(title_1_b, season, team, h_1)"
   ]
  },
  {
   "cell_type": "code",
   "execution_count": 8,
   "id": "1a43d3c6-86d5-4168-95ab-60df46ae021d",
   "metadata": {},
   "outputs": [
    {
     "data": {
      "text/html": [
       "<div>\n",
       "<style scoped>\n",
       "    .dataframe tbody tr th:only-of-type {\n",
       "        vertical-align: middle;\n",
       "    }\n",
       "\n",
       "    .dataframe tbody tr th {\n",
       "        vertical-align: top;\n",
       "    }\n",
       "\n",
       "    .dataframe thead th {\n",
       "        text-align: right;\n",
       "    }\n",
       "</style>\n",
       "<table border=\"1\" class=\"dataframe\">\n",
       "  <thead>\n",
       "    <tr style=\"text-align: right;\">\n",
       "      <th></th>\n",
       "      <th>batter</th>\n",
       "      <th>count</th>\n",
       "    </tr>\n",
       "  </thead>\n",
       "  <tbody>\n",
       "    <tr>\n",
       "      <th>0</th>\n",
       "      <td>V Kohli</td>\n",
       "      <td>2115</td>\n",
       "    </tr>\n",
       "    <tr>\n",
       "      <th>1</th>\n",
       "      <td>Babar Azam</td>\n",
       "      <td>2073</td>\n",
       "    </tr>\n",
       "    <tr>\n",
       "      <th>2</th>\n",
       "      <td>RG Sharma</td>\n",
       "      <td>2033</td>\n",
       "    </tr>\n",
       "    <tr>\n",
       "      <th>3</th>\n",
       "      <td>MJ Guptill</td>\n",
       "      <td>1894</td>\n",
       "    </tr>\n",
       "    <tr>\n",
       "      <th>4</th>\n",
       "      <td>Bismah Maroof</td>\n",
       "      <td>1735</td>\n",
       "    </tr>\n",
       "    <tr>\n",
       "      <th>...</th>\n",
       "      <td>...</td>\n",
       "      <td>...</td>\n",
       "    </tr>\n",
       "    <tr>\n",
       "      <th>4694</th>\n",
       "      <td>K Cawte</td>\n",
       "      <td>1</td>\n",
       "    </tr>\n",
       "    <tr>\n",
       "      <th>4695</th>\n",
       "      <td>M Stoman</td>\n",
       "      <td>1</td>\n",
       "    </tr>\n",
       "    <tr>\n",
       "      <th>4696</th>\n",
       "      <td>B Biza</td>\n",
       "      <td>1</td>\n",
       "    </tr>\n",
       "    <tr>\n",
       "      <th>4697</th>\n",
       "      <td>JJ Celestine</td>\n",
       "      <td>1</td>\n",
       "    </tr>\n",
       "    <tr>\n",
       "      <th>4698</th>\n",
       "      <td>AS Dean</td>\n",
       "      <td>1</td>\n",
       "    </tr>\n",
       "  </tbody>\n",
       "</table>\n",
       "<p>4699 rows × 2 columns</p>\n",
       "</div>"
      ],
      "text/plain": [
       "             batter  count\n",
       "0           V Kohli   2115\n",
       "1        Babar Azam   2073\n",
       "2         RG Sharma   2033\n",
       "3        MJ Guptill   1894\n",
       "4     Bismah Maroof   1735\n",
       "...             ...    ...\n",
       "4694        K Cawte      1\n",
       "4695       M Stoman      1\n",
       "4696         B Biza      1\n",
       "4697   JJ Celestine      1\n",
       "4698        AS Dean      1\n",
       "\n",
       "[4699 rows x 2 columns]"
      ]
     },
     "execution_count": 8,
     "metadata": {},
     "output_type": "execute_result"
    }
   ],
   "source": [
    "train_data[\"batter\"].value_counts().reset_index().style.set_caption(\"Table 3.1: Batter Summary Count\")"
   ]
  },
  {
   "cell_type": "code",
   "execution_count": 9,
   "id": "58b6a952-5177-480a-b10d-f851d43e1d04",
   "metadata": {},
   "outputs": [
    {
     "data": {
      "text/html": [
       "<div>\n",
       "<style scoped>\n",
       "    .dataframe tbody tr th:only-of-type {\n",
       "        vertical-align: middle;\n",
       "    }\n",
       "\n",
       "    .dataframe tbody tr th {\n",
       "        vertical-align: top;\n",
       "    }\n",
       "\n",
       "    .dataframe thead th {\n",
       "        text-align: right;\n",
       "    }\n",
       "</style>\n",
       "<table border=\"1\" class=\"dataframe\">\n",
       "  <thead>\n",
       "    <tr style=\"text-align: right;\">\n",
       "      <th></th>\n",
       "      <th>bowler</th>\n",
       "      <th>count</th>\n",
       "    </tr>\n",
       "  </thead>\n",
       "  <tbody>\n",
       "    <tr>\n",
       "      <th>0</th>\n",
       "      <td>TG Southee</td>\n",
       "      <td>1990</td>\n",
       "    </tr>\n",
       "    <tr>\n",
       "      <th>1</th>\n",
       "      <td>Shakib Al Hasan</td>\n",
       "      <td>1747</td>\n",
       "    </tr>\n",
       "    <tr>\n",
       "      <th>2</th>\n",
       "      <td>IS Sodhi</td>\n",
       "      <td>1630</td>\n",
       "    </tr>\n",
       "    <tr>\n",
       "      <th>3</th>\n",
       "      <td>AU Rashid</td>\n",
       "      <td>1556</td>\n",
       "    </tr>\n",
       "    <tr>\n",
       "      <th>4</th>\n",
       "      <td>MJ Santner</td>\n",
       "      <td>1537</td>\n",
       "    </tr>\n",
       "    <tr>\n",
       "      <th>...</th>\n",
       "      <td>...</td>\n",
       "      <td>...</td>\n",
       "    </tr>\n",
       "    <tr>\n",
       "      <th>3474</th>\n",
       "      <td>AV Lazarus</td>\n",
       "      <td>1</td>\n",
       "    </tr>\n",
       "    <tr>\n",
       "      <th>3475</th>\n",
       "      <td>J Grzinic</td>\n",
       "      <td>1</td>\n",
       "    </tr>\n",
       "    <tr>\n",
       "      <th>3476</th>\n",
       "      <td>Mahmudul Hasan Joy</td>\n",
       "      <td>1</td>\n",
       "    </tr>\n",
       "    <tr>\n",
       "      <th>3477</th>\n",
       "      <td>KH Prajapati</td>\n",
       "      <td>1</td>\n",
       "    </tr>\n",
       "    <tr>\n",
       "      <th>3478</th>\n",
       "      <td>Riyaz Kajalwala</td>\n",
       "      <td>1</td>\n",
       "    </tr>\n",
       "  </tbody>\n",
       "</table>\n",
       "<p>3479 rows × 2 columns</p>\n",
       "</div>"
      ],
      "text/plain": [
       "                  bowler  count\n",
       "0             TG Southee   1990\n",
       "1        Shakib Al Hasan   1747\n",
       "2               IS Sodhi   1630\n",
       "3              AU Rashid   1556\n",
       "4             MJ Santner   1537\n",
       "...                  ...    ...\n",
       "3474          AV Lazarus      1\n",
       "3475           J Grzinic      1\n",
       "3476  Mahmudul Hasan Joy      1\n",
       "3477        KH Prajapati      1\n",
       "3478     Riyaz Kajalwala      1\n",
       "\n",
       "[3479 rows x 2 columns]"
      ]
     },
     "execution_count": 9,
     "metadata": {},
     "output_type": "execute_result"
    }
   ],
   "source": [
    "train_data[\"bowler\"].value_counts().reset_index().style.set_caption(\"Table 3.2: Bowler Summary Count\")"
   ]
  },
  {
   "cell_type": "code",
   "execution_count": 10,
   "id": "01b7e7dc-f013-4939-80dc-13ca725b44e9",
   "metadata": {},
   "outputs": [
    {
     "data": {
      "text/html": [
       "<div>\n",
       "<style scoped>\n",
       "    .dataframe tbody tr th:only-of-type {\n",
       "        vertical-align: middle;\n",
       "    }\n",
       "\n",
       "    .dataframe tbody tr th {\n",
       "        vertical-align: top;\n",
       "    }\n",
       "\n",
       "    .dataframe thead th {\n",
       "        text-align: right;\n",
       "    }\n",
       "</style>\n",
       "<table border=\"1\" class=\"dataframe\">\n",
       "  <thead>\n",
       "    <tr style=\"text-align: right;\">\n",
       "      <th></th>\n",
       "      <th>non_striker</th>\n",
       "      <th>count</th>\n",
       "    </tr>\n",
       "  </thead>\n",
       "  <tbody>\n",
       "    <tr>\n",
       "      <th>0</th>\n",
       "      <td>Babar Azam</td>\n",
       "      <td>2166</td>\n",
       "    </tr>\n",
       "    <tr>\n",
       "      <th>1</th>\n",
       "      <td>RG Sharma</td>\n",
       "      <td>1988</td>\n",
       "    </tr>\n",
       "    <tr>\n",
       "      <th>2</th>\n",
       "      <td>V Kohli</td>\n",
       "      <td>1978</td>\n",
       "    </tr>\n",
       "    <tr>\n",
       "      <th>3</th>\n",
       "      <td>BL Mooney</td>\n",
       "      <td>1901</td>\n",
       "    </tr>\n",
       "    <tr>\n",
       "      <th>4</th>\n",
       "      <td>Bismah Maroof</td>\n",
       "      <td>1789</td>\n",
       "    </tr>\n",
       "    <tr>\n",
       "      <th>...</th>\n",
       "      <td>...</td>\n",
       "      <td>...</td>\n",
       "    </tr>\n",
       "    <tr>\n",
       "      <th>4557</th>\n",
       "      <td>AS Dean</td>\n",
       "      <td>1</td>\n",
       "    </tr>\n",
       "    <tr>\n",
       "      <th>4558</th>\n",
       "      <td>Sumaiya Akter</td>\n",
       "      <td>1</td>\n",
       "    </tr>\n",
       "    <tr>\n",
       "      <th>4559</th>\n",
       "      <td>S Nunna</td>\n",
       "      <td>1</td>\n",
       "    </tr>\n",
       "    <tr>\n",
       "      <th>4560</th>\n",
       "      <td>JL Aras</td>\n",
       "      <td>1</td>\n",
       "    </tr>\n",
       "    <tr>\n",
       "      <th>4561</th>\n",
       "      <td>F Parkinson</td>\n",
       "      <td>1</td>\n",
       "    </tr>\n",
       "  </tbody>\n",
       "</table>\n",
       "<p>4562 rows × 2 columns</p>\n",
       "</div>"
      ],
      "text/plain": [
       "        non_striker  count\n",
       "0        Babar Azam   2166\n",
       "1         RG Sharma   1988\n",
       "2           V Kohli   1978\n",
       "3         BL Mooney   1901\n",
       "4     Bismah Maroof   1789\n",
       "...             ...    ...\n",
       "4557        AS Dean      1\n",
       "4558  Sumaiya Akter      1\n",
       "4559        S Nunna      1\n",
       "4560        JL Aras      1\n",
       "4561    F Parkinson      1\n",
       "\n",
       "[4562 rows x 2 columns]"
      ]
     },
     "execution_count": 10,
     "metadata": {},
     "output_type": "execute_result"
    }
   ],
   "source": [
    "train_data[\"non_striker\"].value_counts().reset_index().style.set_caption(\"Table 3.3: Non-striker Summary Count\")"
   ]
  },
  {
   "cell_type": "markdown",
   "id": "c3aae01d-bb0a-4255-96b3-505adeb8a9e3",
   "metadata": {},
   "source": [
    "Please note that the analysis excludes all columns related to \"ID\" as they are primarily for identification purposes and are unlikely to show significant patterns. It is observed that none of the quantitative attributes follow a normal distribution; most are right-skewed distributions. An interesting finding is noted in the attributes \"over\", where the frequency **steadily** decreases with increasing values, suggesting further analysis. Concerning ordinal attributes, we have a significantly higher amount of data from seasons that happened in recent years than in the past. Lastly, regarding nominal attributes, we are seeing an uneven distribution appearance of players(batter, bowler, and non-striker) in this dataset, by using non-striker as an example, some players such as V Kohli appear around 2100 times in this dataset, where other players such as F Bangur only appeared once.  Due to such a large number of batters and bowlers in the dataset, we will not be using it in our analysis. To use these attributes, we will also need to create summary statistics for each batters and bowlers, as explained by Dinsdale, 2023 which is out of the scope of our project.\n",
    "\n",
    "In terms of \"team\", there appear to be more teams from \"New Zealand,\" \"South Africa,\" \"India,\" \"West India,\" \"Pakistan,\" \"Bangladesh,\" \"Sri Lanka\"  \"Australia,\" and \"England\" than teams from other countries/regions. The attribute\"inning\" doesn't seem to have a significant difference across the two conditions, however, for \"powerplay,\" the number of occurrences in condition \"0\" is approximately twice as high as in condition \"1.\"\n",
    "\n",
    "In general, **none of the attributes in our dataset form a normal distribution**, with samples unevenly distributed across categorical attributes. It is important to remember this when training, testing, and interpreting the model, and to appropriately acknowledge this as a potential limitation. "
   ]
  },
  {
   "cell_type": "markdown",
   "id": "e7798455-db16-4d8e-9b70-f0cfb7a7e3db",
   "metadata": {},
   "source": [
    "### Multivariate Analysis - Correlation Analysis"
   ]
  },
  {
   "cell_type": "code",
   "execution_count": 11,
   "id": "6f2db842-ceea-4c8c-9ba2-b7b85d7f3b99",
   "metadata": {},
   "outputs": [
    {
     "data": {
      "text/html": [
       "<div>\n",
       "<style scoped>\n",
       "    .dataframe tbody tr th:only-of-type {\n",
       "        vertical-align: middle;\n",
       "    }\n",
       "\n",
       "    .dataframe tbody tr th {\n",
       "        vertical-align: top;\n",
       "    }\n",
       "\n",
       "    .dataframe thead th {\n",
       "        text-align: right;\n",
       "    }\n",
       "</style>\n",
       "<table border=\"1\" class=\"dataframe\">\n",
       "  <thead>\n",
       "    <tr style=\"text-align: right;\">\n",
       "      <th></th>\n",
       "      <th>over</th>\n",
       "      <th>wides</th>\n",
       "      <th>noballs</th>\n",
       "      <th>legbyes</th>\n",
       "      <th>byes</th>\n",
       "      <th>runs_batter</th>\n",
       "      <th>runs_extras</th>\n",
       "      <th>runs_total</th>\n",
       "      <th>over_ball</th>\n",
       "      <th>runs_cumulative</th>\n",
       "      <th>wicket</th>\n",
       "    </tr>\n",
       "  </thead>\n",
       "  <tbody>\n",
       "    <tr>\n",
       "      <th>over</th>\n",
       "      <td>1.000000</td>\n",
       "      <td>-0.019636</td>\n",
       "      <td>0.006787</td>\n",
       "      <td>-0.001467</td>\n",
       "      <td>0.015333</td>\n",
       "      <td>0.072301</td>\n",
       "      <td>-0.008488</td>\n",
       "      <td>0.070550</td>\n",
       "      <td>-0.019141</td>\n",
       "      <td>0.867475</td>\n",
       "      <td>0.070750</td>\n",
       "    </tr>\n",
       "    <tr>\n",
       "      <th>wides</th>\n",
       "      <td>-0.019636</td>\n",
       "      <td>1.000000</td>\n",
       "      <td>-0.011958</td>\n",
       "      <td>-0.017040</td>\n",
       "      <td>-0.009216</td>\n",
       "      <td>-0.122003</td>\n",
       "      <td>0.762080</td>\n",
       "      <td>0.065175</td>\n",
       "      <td>-0.000044</td>\n",
       "      <td>-0.012785</td>\n",
       "      <td>-0.038402</td>\n",
       "    </tr>\n",
       "    <tr>\n",
       "      <th>noballs</th>\n",
       "      <td>0.006787</td>\n",
       "      <td>-0.011958</td>\n",
       "      <td>1.000000</td>\n",
       "      <td>-0.003301</td>\n",
       "      <td>0.025591</td>\n",
       "      <td>0.005306</td>\n",
       "      <td>0.205879</td>\n",
       "      <td>0.056053</td>\n",
       "      <td>0.005681</td>\n",
       "      <td>0.015923</td>\n",
       "      <td>-0.015418</td>\n",
       "    </tr>\n",
       "    <tr>\n",
       "      <th>legbyes</th>\n",
       "      <td>-0.001467</td>\n",
       "      <td>-0.017040</td>\n",
       "      <td>-0.003301</td>\n",
       "      <td>1.000000</td>\n",
       "      <td>-0.005329</td>\n",
       "      <td>-0.070551</td>\n",
       "      <td>0.454336</td>\n",
       "      <td>0.041050</td>\n",
       "      <td>-0.002758</td>\n",
       "      <td>0.005618</td>\n",
       "      <td>-0.023344</td>\n",
       "    </tr>\n",
       "    <tr>\n",
       "      <th>byes</th>\n",
       "      <td>0.015333</td>\n",
       "      <td>-0.009216</td>\n",
       "      <td>0.025591</td>\n",
       "      <td>-0.005329</td>\n",
       "      <td>1.000000</td>\n",
       "      <td>-0.038156</td>\n",
       "      <td>0.383612</td>\n",
       "      <td>0.056175</td>\n",
       "      <td>0.003308</td>\n",
       "      <td>0.016791</td>\n",
       "      <td>-0.012153</td>\n",
       "    </tr>\n",
       "    <tr>\n",
       "      <th>runs_batter</th>\n",
       "      <td>0.072301</td>\n",
       "      <td>-0.122003</td>\n",
       "      <td>0.005306</td>\n",
       "      <td>-0.070551</td>\n",
       "      <td>-0.038156</td>\n",
       "      <td>1.000000</td>\n",
       "      <td>-0.141670</td>\n",
       "      <td>0.969805</td>\n",
       "      <td>-0.001714</td>\n",
       "      <td>0.166852</td>\n",
       "      <td>-0.165105</td>\n",
       "    </tr>\n",
       "    <tr>\n",
       "      <th>runs_extras</th>\n",
       "      <td>-0.008488</td>\n",
       "      <td>0.762080</td>\n",
       "      <td>0.205879</td>\n",
       "      <td>0.454336</td>\n",
       "      <td>0.383612</td>\n",
       "      <td>-0.141670</td>\n",
       "      <td>1.000000</td>\n",
       "      <td>0.104031</td>\n",
       "      <td>0.001171</td>\n",
       "      <td>0.002726</td>\n",
       "      <td>-0.048744</td>\n",
       "    </tr>\n",
       "    <tr>\n",
       "      <th>runs_total</th>\n",
       "      <td>0.070550</td>\n",
       "      <td>0.065175</td>\n",
       "      <td>0.056053</td>\n",
       "      <td>0.041050</td>\n",
       "      <td>0.056175</td>\n",
       "      <td>0.969805</td>\n",
       "      <td>0.104031</td>\n",
       "      <td>1.000000</td>\n",
       "      <td>-0.001434</td>\n",
       "      <td>0.168309</td>\n",
       "      <td>-0.177891</td>\n",
       "    </tr>\n",
       "    <tr>\n",
       "      <th>over_ball</th>\n",
       "      <td>-0.019141</td>\n",
       "      <td>-0.000044</td>\n",
       "      <td>0.005681</td>\n",
       "      <td>-0.002758</td>\n",
       "      <td>0.003308</td>\n",
       "      <td>-0.001714</td>\n",
       "      <td>0.001171</td>\n",
       "      <td>-0.001434</td>\n",
       "      <td>1.000000</td>\n",
       "      <td>0.038864</td>\n",
       "      <td>0.003144</td>\n",
       "    </tr>\n",
       "    <tr>\n",
       "      <th>runs_cumulative</th>\n",
       "      <td>0.867475</td>\n",
       "      <td>-0.012785</td>\n",
       "      <td>0.015923</td>\n",
       "      <td>0.005618</td>\n",
       "      <td>0.016791</td>\n",
       "      <td>0.166852</td>\n",
       "      <td>0.002726</td>\n",
       "      <td>0.168309</td>\n",
       "      <td>0.038864</td>\n",
       "      <td>1.000000</td>\n",
       "      <td>0.051161</td>\n",
       "    </tr>\n",
       "    <tr>\n",
       "      <th>wicket</th>\n",
       "      <td>0.070750</td>\n",
       "      <td>-0.038402</td>\n",
       "      <td>-0.015418</td>\n",
       "      <td>-0.023344</td>\n",
       "      <td>-0.012153</td>\n",
       "      <td>-0.165105</td>\n",
       "      <td>-0.048744</td>\n",
       "      <td>-0.177891</td>\n",
       "      <td>0.003144</td>\n",
       "      <td>0.051161</td>\n",
       "      <td>1.000000</td>\n",
       "    </tr>\n",
       "  </tbody>\n",
       "</table>\n",
       "</div>"
      ],
      "text/plain": [
       "                     over     wides   noballs   legbyes      byes  \\\n",
       "over             1.000000 -0.019636  0.006787 -0.001467  0.015333   \n",
       "wides           -0.019636  1.000000 -0.011958 -0.017040 -0.009216   \n",
       "noballs          0.006787 -0.011958  1.000000 -0.003301  0.025591   \n",
       "legbyes         -0.001467 -0.017040 -0.003301  1.000000 -0.005329   \n",
       "byes             0.015333 -0.009216  0.025591 -0.005329  1.000000   \n",
       "runs_batter      0.072301 -0.122003  0.005306 -0.070551 -0.038156   \n",
       "runs_extras     -0.008488  0.762080  0.205879  0.454336  0.383612   \n",
       "runs_total       0.070550  0.065175  0.056053  0.041050  0.056175   \n",
       "over_ball       -0.019141 -0.000044  0.005681 -0.002758  0.003308   \n",
       "runs_cumulative  0.867475 -0.012785  0.015923  0.005618  0.016791   \n",
       "wicket           0.070750 -0.038402 -0.015418 -0.023344 -0.012153   \n",
       "\n",
       "                 runs_batter  runs_extras  runs_total  over_ball  \\\n",
       "over                0.072301    -0.008488    0.070550  -0.019141   \n",
       "wides              -0.122003     0.762080    0.065175  -0.000044   \n",
       "noballs             0.005306     0.205879    0.056053   0.005681   \n",
       "legbyes            -0.070551     0.454336    0.041050  -0.002758   \n",
       "byes               -0.038156     0.383612    0.056175   0.003308   \n",
       "runs_batter         1.000000    -0.141670    0.969805  -0.001714   \n",
       "runs_extras        -0.141670     1.000000    0.104031   0.001171   \n",
       "runs_total          0.969805     0.104031    1.000000  -0.001434   \n",
       "over_ball          -0.001714     0.001171   -0.001434   1.000000   \n",
       "runs_cumulative     0.166852     0.002726    0.168309   0.038864   \n",
       "wicket             -0.165105    -0.048744   -0.177891   0.003144   \n",
       "\n",
       "                 runs_cumulative    wicket  \n",
       "over                    0.867475  0.070750  \n",
       "wides                  -0.012785 -0.038402  \n",
       "noballs                 0.015923 -0.015418  \n",
       "legbyes                 0.005618 -0.023344  \n",
       "byes                    0.016791 -0.012153  \n",
       "runs_batter             0.166852 -0.165105  \n",
       "runs_extras             0.002726 -0.048744  \n",
       "runs_total              0.168309 -0.177891  \n",
       "over_ball               0.038864  0.003144  \n",
       "runs_cumulative         1.000000  0.051161  \n",
       "wicket                  0.051161  1.000000  "
      ]
     },
     "execution_count": 11,
     "metadata": {},
     "output_type": "execute_result"
    }
   ],
   "source": [
    "corr_data = train_data[[\"over\", \"wides\", \"noballs\", \"legbyes\", \"byes\", \"runs_batter\", \"runs_extras\", \"runs_total\", \"over_ball\", \"runs_cumulative\", \"wicket\"]]\n",
    "corr_df = corr_data.corr().style.set_caption(\"Table 4: Correlation Analysis\")\n",
    "corr_df"
   ]
  },
  {
   "cell_type": "code",
   "execution_count": 25,
   "id": "30b636d9-9327-4921-9a06-05fa99dc3ec0",
   "metadata": {},
   "outputs": [
    {
     "data": {
      "application/vnd.vega.v5+json": {
       "$schema": "https://vega.github.io/schema/vega/v5.json",
       "axes": [
        {
         "grid": false,
         "labelAlign": "right",
         "labelAngle": 270,
         "labelBaseline": "middle",
         "orient": "bottom",
         "scale": "x",
         "title": "column",
         "zindex": 1
        },
        {
         "grid": false,
         "orient": "left",
         "scale": "y",
         "title": "row",
         "zindex": 1
        }
       ],
       "background": "white",
       "data": [
        {
         "name": "source_0",
         "values": [
          {
           "column": "over",
           "corr": 1,
           "row": "over"
          },
          {
           "column": "wides",
           "corr": -0.01963597848829859,
           "row": "over"
          },
          {
           "column": "noballs",
           "corr": 0.0067870893587129826,
           "row": "over"
          },
          {
           "column": "legbyes",
           "corr": -0.0014670263990750859,
           "row": "over"
          },
          {
           "column": "byes",
           "corr": 0.015333350705979056,
           "row": "over"
          },
          {
           "column": "runs_batter",
           "corr": 0.07230062997889217,
           "row": "over"
          },
          {
           "column": "runs_extras",
           "corr": -0.008488315937594127,
           "row": "over"
          },
          {
           "column": "runs_total",
           "corr": 0.07054973917286901,
           "row": "over"
          },
          {
           "column": "over_ball",
           "corr": -0.019140765901978,
           "row": "over"
          },
          {
           "column": "runs_cumulative",
           "corr": 0.8674752226991553,
           "row": "over"
          },
          {
           "column": "wicket",
           "corr": 0.07075027718744105,
           "row": "over"
          },
          {
           "column": "over",
           "corr": -0.01963597848829859,
           "row": "wides"
          },
          {
           "column": "wides",
           "corr": 1,
           "row": "wides"
          },
          {
           "column": "noballs",
           "corr": -0.01195826276276395,
           "row": "wides"
          },
          {
           "column": "legbyes",
           "corr": -0.017040258173563715,
           "row": "wides"
          },
          {
           "column": "byes",
           "corr": -0.00921572176279006,
           "row": "wides"
          },
          {
           "column": "runs_batter",
           "corr": -0.12200305975284648,
           "row": "wides"
          },
          {
           "column": "runs_extras",
           "corr": 0.762079694729687,
           "row": "wides"
          },
          {
           "column": "runs_total",
           "corr": 0.0651745068639632,
           "row": "wides"
          },
          {
           "column": "over_ball",
           "corr": -0.00004359142040016353,
           "row": "wides"
          },
          {
           "column": "runs_cumulative",
           "corr": -0.012785422238918976,
           "row": "wides"
          },
          {
           "column": "wicket",
           "corr": -0.03840189747304664,
           "row": "wides"
          },
          {
           "column": "over",
           "corr": 0.0067870893587129826,
           "row": "noballs"
          },
          {
           "column": "wides",
           "corr": -0.01195826276276395,
           "row": "noballs"
          },
          {
           "column": "noballs",
           "corr": 1,
           "row": "noballs"
          },
          {
           "column": "legbyes",
           "corr": -0.00330113867348509,
           "row": "noballs"
          },
          {
           "column": "byes",
           "corr": 0.02559108580164941,
           "row": "noballs"
          },
          {
           "column": "runs_batter",
           "corr": 0.005305535444174225,
           "row": "noballs"
          },
          {
           "column": "runs_extras",
           "corr": 0.2058794077770446,
           "row": "noballs"
          },
          {
           "column": "runs_total",
           "corr": 0.05605256843383184,
           "row": "noballs"
          },
          {
           "column": "over_ball",
           "corr": 0.005681218796349118,
           "row": "noballs"
          },
          {
           "column": "runs_cumulative",
           "corr": 0.015922868222335178,
           "row": "noballs"
          },
          {
           "column": "wicket",
           "corr": -0.01541811260632057,
           "row": "noballs"
          },
          {
           "column": "over",
           "corr": -0.0014670263990750859,
           "row": "legbyes"
          },
          {
           "column": "wides",
           "corr": -0.017040258173563715,
           "row": "legbyes"
          },
          {
           "column": "noballs",
           "corr": -0.00330113867348509,
           "row": "legbyes"
          },
          {
           "column": "legbyes",
           "corr": 1,
           "row": "legbyes"
          },
          {
           "column": "byes",
           "corr": -0.0053290029128789775,
           "row": "legbyes"
          },
          {
           "column": "runs_batter",
           "corr": -0.07055121240579332,
           "row": "legbyes"
          },
          {
           "column": "runs_extras",
           "corr": 0.4543356939191382,
           "row": "legbyes"
          },
          {
           "column": "runs_total",
           "corr": 0.04105035211600021,
           "row": "legbyes"
          },
          {
           "column": "over_ball",
           "corr": -0.0027578330043640446,
           "row": "legbyes"
          },
          {
           "column": "runs_cumulative",
           "corr": 0.005618368299345548,
           "row": "legbyes"
          },
          {
           "column": "wicket",
           "corr": -0.02334428416269172,
           "row": "legbyes"
          },
          {
           "column": "over",
           "corr": 0.015333350705979056,
           "row": "byes"
          },
          {
           "column": "wides",
           "corr": -0.00921572176279006,
           "row": "byes"
          },
          {
           "column": "noballs",
           "corr": 0.02559108580164941,
           "row": "byes"
          },
          {
           "column": "legbyes",
           "corr": -0.0053290029128789775,
           "row": "byes"
          },
          {
           "column": "byes",
           "corr": 1,
           "row": "byes"
          },
          {
           "column": "runs_batter",
           "corr": -0.03815554535247591,
           "row": "byes"
          },
          {
           "column": "runs_extras",
           "corr": 0.3836121704463502,
           "row": "byes"
          },
          {
           "column": "runs_total",
           "corr": 0.05617452355180077,
           "row": "byes"
          },
          {
           "column": "over_ball",
           "corr": 0.0033084386790596517,
           "row": "byes"
          },
          {
           "column": "runs_cumulative",
           "corr": 0.01679126316089669,
           "row": "byes"
          },
          {
           "column": "wicket",
           "corr": -0.012152757568565804,
           "row": "byes"
          },
          {
           "column": "over",
           "corr": 0.07230062997889217,
           "row": "runs_batter"
          },
          {
           "column": "wides",
           "corr": -0.12200305975284648,
           "row": "runs_batter"
          },
          {
           "column": "noballs",
           "corr": 0.005305535444174225,
           "row": "runs_batter"
          },
          {
           "column": "legbyes",
           "corr": -0.07055121240579332,
           "row": "runs_batter"
          },
          {
           "column": "byes",
           "corr": -0.03815554535247591,
           "row": "runs_batter"
          },
          {
           "column": "runs_batter",
           "corr": 1,
           "row": "runs_batter"
          },
          {
           "column": "runs_extras",
           "corr": -0.14166966914204476,
           "row": "runs_batter"
          },
          {
           "column": "runs_total",
           "corr": 0.969804678786867,
           "row": "runs_batter"
          },
          {
           "column": "over_ball",
           "corr": -0.0017142821990440281,
           "row": "runs_batter"
          },
          {
           "column": "runs_cumulative",
           "corr": 0.16685224587151518,
           "row": "runs_batter"
          },
          {
           "column": "wicket",
           "corr": -0.16510507562350885,
           "row": "runs_batter"
          },
          {
           "column": "over",
           "corr": -0.008488315937594127,
           "row": "runs_extras"
          },
          {
           "column": "wides",
           "corr": 0.762079694729687,
           "row": "runs_extras"
          },
          {
           "column": "noballs",
           "corr": 0.2058794077770446,
           "row": "runs_extras"
          },
          {
           "column": "legbyes",
           "corr": 0.4543356939191382,
           "row": "runs_extras"
          },
          {
           "column": "byes",
           "corr": 0.3836121704463502,
           "row": "runs_extras"
          },
          {
           "column": "runs_batter",
           "corr": -0.14166966914204476,
           "row": "runs_extras"
          },
          {
           "column": "runs_extras",
           "corr": 1,
           "row": "runs_extras"
          },
          {
           "column": "runs_total",
           "corr": 0.10403121897225011,
           "row": "runs_extras"
          },
          {
           "column": "over_ball",
           "corr": 0.0011705098263158143,
           "row": "runs_extras"
          },
          {
           "column": "runs_cumulative",
           "corr": 0.0027260408848823105,
           "row": "runs_extras"
          },
          {
           "column": "wicket",
           "corr": -0.04874390855264642,
           "row": "runs_extras"
          },
          {
           "column": "over",
           "corr": 0.07054973917286901,
           "row": "runs_total"
          },
          {
           "column": "wides",
           "corr": 0.0651745068639632,
           "row": "runs_total"
          },
          {
           "column": "noballs",
           "corr": 0.05605256843383184,
           "row": "runs_total"
          },
          {
           "column": "legbyes",
           "corr": 0.04105035211600021,
           "row": "runs_total"
          },
          {
           "column": "byes",
           "corr": 0.05617452355180077,
           "row": "runs_total"
          },
          {
           "column": "runs_batter",
           "corr": 0.969804678786867,
           "row": "runs_total"
          },
          {
           "column": "runs_extras",
           "corr": 0.10403121897225011,
           "row": "runs_total"
          },
          {
           "column": "runs_total",
           "corr": 1,
           "row": "runs_total"
          },
          {
           "column": "over_ball",
           "corr": -0.001433976290658357,
           "row": "runs_total"
          },
          {
           "column": "runs_cumulative",
           "corr": 0.16830931547348663,
           "row": "runs_total"
          },
          {
           "column": "wicket",
           "corr": -0.1778912412643829,
           "row": "runs_total"
          },
          {
           "column": "over",
           "corr": -0.019140765901978,
           "row": "over_ball"
          },
          {
           "column": "wides",
           "corr": -0.00004359142040016353,
           "row": "over_ball"
          },
          {
           "column": "noballs",
           "corr": 0.005681218796349118,
           "row": "over_ball"
          },
          {
           "column": "legbyes",
           "corr": -0.0027578330043640446,
           "row": "over_ball"
          },
          {
           "column": "byes",
           "corr": 0.0033084386790596517,
           "row": "over_ball"
          },
          {
           "column": "runs_batter",
           "corr": -0.0017142821990440281,
           "row": "over_ball"
          },
          {
           "column": "runs_extras",
           "corr": 0.0011705098263158143,
           "row": "over_ball"
          },
          {
           "column": "runs_total",
           "corr": -0.001433976290658357,
           "row": "over_ball"
          },
          {
           "column": "over_ball",
           "corr": 1,
           "row": "over_ball"
          },
          {
           "column": "runs_cumulative",
           "corr": 0.038863925902721065,
           "row": "over_ball"
          },
          {
           "column": "wicket",
           "corr": 0.0031437486459168704,
           "row": "over_ball"
          },
          {
           "column": "over",
           "corr": 0.8674752226991553,
           "row": "runs_cumulative"
          },
          {
           "column": "wides",
           "corr": -0.012785422238918976,
           "row": "runs_cumulative"
          },
          {
           "column": "noballs",
           "corr": 0.015922868222335178,
           "row": "runs_cumulative"
          },
          {
           "column": "legbyes",
           "corr": 0.005618368299345548,
           "row": "runs_cumulative"
          },
          {
           "column": "byes",
           "corr": 0.01679126316089669,
           "row": "runs_cumulative"
          },
          {
           "column": "runs_batter",
           "corr": 0.16685224587151518,
           "row": "runs_cumulative"
          },
          {
           "column": "runs_extras",
           "corr": 0.0027260408848823105,
           "row": "runs_cumulative"
          },
          {
           "column": "runs_total",
           "corr": 0.16830931547348663,
           "row": "runs_cumulative"
          },
          {
           "column": "over_ball",
           "corr": 0.038863925902721065,
           "row": "runs_cumulative"
          },
          {
           "column": "runs_cumulative",
           "corr": 1,
           "row": "runs_cumulative"
          },
          {
           "column": "wicket",
           "corr": 0.051160693679552255,
           "row": "runs_cumulative"
          },
          {
           "column": "over",
           "corr": 0.07075027718744105,
           "row": "wicket"
          },
          {
           "column": "wides",
           "corr": -0.03840189747304664,
           "row": "wicket"
          },
          {
           "column": "noballs",
           "corr": -0.01541811260632057,
           "row": "wicket"
          },
          {
           "column": "legbyes",
           "corr": -0.02334428416269172,
           "row": "wicket"
          },
          {
           "column": "byes",
           "corr": -0.012152757568565804,
           "row": "wicket"
          },
          {
           "column": "runs_batter",
           "corr": -0.16510507562350885,
           "row": "wicket"
          },
          {
           "column": "runs_extras",
           "corr": -0.04874390855264642,
           "row": "wicket"
          },
          {
           "column": "runs_total",
           "corr": -0.1778912412643829,
           "row": "wicket"
          },
          {
           "column": "over_ball",
           "corr": 0.0031437486459168704,
           "row": "wicket"
          },
          {
           "column": "runs_cumulative",
           "corr": 0.051160693679552255,
           "row": "wicket"
          },
          {
           "column": "wicket",
           "corr": 1,
           "row": "wicket"
          }
         ]
        },
        {
         "name": "source_0_x_domain_column",
         "values": [
          {
           "column": "over"
          },
          {
           "column": "wides"
          },
          {
           "column": "noballs"
          },
          {
           "column": "legbyes"
          },
          {
           "column": "byes"
          },
          {
           "column": "runs_batter"
          },
          {
           "column": "runs_extras"
          },
          {
           "column": "runs_total"
          },
          {
           "column": "over_ball"
          },
          {
           "column": "runs_cumulative"
          },
          {
           "column": "wicket"
          }
         ]
        },
        {
         "name": "source_0_y_domain_row",
         "values": [
          {
           "row": "over"
          },
          {
           "row": "wides"
          },
          {
           "row": "noballs"
          },
          {
           "row": "legbyes"
          },
          {
           "row": "byes"
          },
          {
           "row": "runs_batter"
          },
          {
           "row": "runs_extras"
          },
          {
           "row": "runs_total"
          },
          {
           "row": "over_ball"
          },
          {
           "row": "runs_cumulative"
          },
          {
           "row": "wicket"
          }
         ]
        },
        {
         "name": "source_0_color_domain_corr",
         "values": [
          {
           "max": 1,
           "min": -0.1778912412643829
          }
         ]
        }
       ],
       "height": 400,
       "legends": [
        {
         "fill": "color",
         "gradientLength": {
          "signal": "clamp(height, 64, 200)"
         },
         "title": "corr"
        }
       ],
       "marks": [
        {
         "encode": {
          "update": {
           "description": {
            "signal": "\"column: \" + (isValid(datum[\"column\"]) ? datum[\"column\"] : \"\"+datum[\"column\"]) + \"; row: \" + (isValid(datum[\"row\"]) ? datum[\"row\"] : \"\"+datum[\"row\"]) + \"; corr: \" + (format(datum[\"corr\"], \"\"))"
           },
           "fill": {
            "field": "corr",
            "scale": "color"
           },
           "height": {
            "signal": "max(0.25, bandwidth('y'))"
           },
           "tooltip": {
            "signal": "format(datum[\"corr\"], \"\")"
           },
           "width": {
            "signal": "max(0.25, bandwidth('x'))"
           },
           "x": {
            "field": "column",
            "scale": "x"
           },
           "y": {
            "field": "row",
            "scale": "y"
           }
          }
         },
         "from": {
          "data": "source_0"
         },
         "name": "marks",
         "style": [
          "rect"
         ],
         "type": "rect"
        }
       ],
       "padding": 5,
       "scales": [
        {
         "domain": {
          "data": "source_0_x_domain_column",
          "field": "column",
          "sort": true
         },
         "name": "x",
         "paddingInner": 0,
         "paddingOuter": 0,
         "range": [
          0,
          {
           "signal": "width"
          }
         ],
         "type": "band"
        },
        {
         "domain": {
          "data": "source_0_y_domain_row",
          "field": "row",
          "sort": true
         },
         "name": "y",
         "paddingInner": 0,
         "paddingOuter": 0,
         "range": [
          0,
          {
           "signal": "height"
          }
         ],
         "type": "band"
        },
        {
         "domain": [
          {
           "signal": "(data(\"source_0_color_domain_corr\")[0] || {}).min"
          },
          {
           "signal": "(data(\"source_0_color_domain_corr\")[0] || {}).max"
          }
         ],
         "interpolate": "hcl",
         "name": "color",
         "range": "heatmap",
         "type": "linear",
         "zero": false
        }
       ],
       "style": "cell",
       "title": {
        "frame": "group",
        "text": "Figure 2: Correlation Matrix"
       },
       "width": 400
      },
      "text/plain": [
       "<VegaLite 5 object>\n",
       "\n",
       "If you see this message, it means the renderer has not been properly enabled\n",
       "for the frontend that you are using. For more information, see\n",
       "https://altair-viz.github.io/user_guide/display_frontends.html#troubleshooting\n"
      ]
     },
     "execution_count": 25,
     "metadata": {},
     "output_type": "execute_result"
    }
   ],
   "source": [
    "corr_ = corr_df.stack()\n",
    "corr_ = corr_.reset_index()\n",
    "corr_.columns = ['row', 'column', 'corr']\n",
    "corr_\n",
    "\n",
    "alt.Chart(corr_).mark_rect().encode(\n",
    "    x = 'column',\n",
    "    y = 'row',\n",
    "    color = 'corr:Q',\n",
    "    tooltip = 'corr:Q'\n",
    ").properties(\n",
    "    width = 400,\n",
    "    height = 400,\n",
    "    title = \"Figure 2: Correlation Matrix\"\n",
    ")"
   ]
  },
  {
   "cell_type": "code",
   "execution_count": 35,
   "id": "192d2c95-bc79-4d77-863e-f3af6e107a5e",
   "metadata": {},
   "outputs": [
    {
     "data": {
      "text/html": [
       "<style type=\"text/css\">\n",
       "</style>\n",
       "<table id=\"T_667e4\">\n",
       "  <caption>Table 5: Correlation Coefficients for top 15 most correlated variables</caption>\n",
       "  <thead>\n",
       "    <tr>\n",
       "      <th class=\"blank level0\" >&nbsp;</th>\n",
       "      <th id=\"T_667e4_level0_col0\" class=\"col_heading level0 col0\" >row</th>\n",
       "      <th id=\"T_667e4_level0_col1\" class=\"col_heading level0 col1\" >column</th>\n",
       "      <th id=\"T_667e4_level0_col2\" class=\"col_heading level0 col2\" >corr</th>\n",
       "    </tr>\n",
       "  </thead>\n",
       "  <tbody>\n",
       "    <tr>\n",
       "      <th id=\"T_667e4_level0_row0\" class=\"row_heading level0 row0\" >62</th>\n",
       "      <td id=\"T_667e4_row0_col0\" class=\"data row0 col0\" >runs_batter</td>\n",
       "      <td id=\"T_667e4_row0_col1\" class=\"data row0 col1\" >runs_total</td>\n",
       "      <td id=\"T_667e4_row0_col2\" class=\"data row0 col2\" >0.969805</td>\n",
       "    </tr>\n",
       "    <tr>\n",
       "      <th id=\"T_667e4_level0_row1\" class=\"row_heading level0 row1\" >82</th>\n",
       "      <td id=\"T_667e4_row1_col0\" class=\"data row1 col0\" >runs_total</td>\n",
       "      <td id=\"T_667e4_row1_col1\" class=\"data row1 col1\" >runs_batter</td>\n",
       "      <td id=\"T_667e4_row1_col2\" class=\"data row1 col2\" >0.969805</td>\n",
       "    </tr>\n",
       "    <tr>\n",
       "      <th id=\"T_667e4_level0_row2\" class=\"row_heading level0 row2\" >9</th>\n",
       "      <td id=\"T_667e4_row2_col0\" class=\"data row2 col0\" >over</td>\n",
       "      <td id=\"T_667e4_row2_col1\" class=\"data row2 col1\" >runs_cumulative</td>\n",
       "      <td id=\"T_667e4_row2_col2\" class=\"data row2 col2\" >0.867475</td>\n",
       "    </tr>\n",
       "    <tr>\n",
       "      <th id=\"T_667e4_level0_row3\" class=\"row_heading level0 row3\" >99</th>\n",
       "      <td id=\"T_667e4_row3_col0\" class=\"data row3 col0\" >runs_cumulative</td>\n",
       "      <td id=\"T_667e4_row3_col1\" class=\"data row3 col1\" >over</td>\n",
       "      <td id=\"T_667e4_row3_col2\" class=\"data row3 col2\" >0.867475</td>\n",
       "    </tr>\n",
       "    <tr>\n",
       "      <th id=\"T_667e4_level0_row4\" class=\"row_heading level0 row4\" >17</th>\n",
       "      <td id=\"T_667e4_row4_col0\" class=\"data row4 col0\" >wides</td>\n",
       "      <td id=\"T_667e4_row4_col1\" class=\"data row4 col1\" >runs_extras</td>\n",
       "      <td id=\"T_667e4_row4_col2\" class=\"data row4 col2\" >0.762080</td>\n",
       "    </tr>\n",
       "    <tr>\n",
       "      <th id=\"T_667e4_level0_row5\" class=\"row_heading level0 row5\" >67</th>\n",
       "      <td id=\"T_667e4_row5_col0\" class=\"data row5 col0\" >runs_extras</td>\n",
       "      <td id=\"T_667e4_row5_col1\" class=\"data row5 col1\" >wides</td>\n",
       "      <td id=\"T_667e4_row5_col2\" class=\"data row5 col2\" >0.762080</td>\n",
       "    </tr>\n",
       "    <tr>\n",
       "      <th id=\"T_667e4_level0_row6\" class=\"row_heading level0 row6\" >69</th>\n",
       "      <td id=\"T_667e4_row6_col0\" class=\"data row6 col0\" >runs_extras</td>\n",
       "      <td id=\"T_667e4_row6_col1\" class=\"data row6 col1\" >legbyes</td>\n",
       "      <td id=\"T_667e4_row6_col2\" class=\"data row6 col2\" >0.454336</td>\n",
       "    </tr>\n",
       "    <tr>\n",
       "      <th id=\"T_667e4_level0_row7\" class=\"row_heading level0 row7\" >39</th>\n",
       "      <td id=\"T_667e4_row7_col0\" class=\"data row7 col0\" >legbyes</td>\n",
       "      <td id=\"T_667e4_row7_col1\" class=\"data row7 col1\" >runs_extras</td>\n",
       "      <td id=\"T_667e4_row7_col2\" class=\"data row7 col2\" >0.454336</td>\n",
       "    </tr>\n",
       "    <tr>\n",
       "      <th id=\"T_667e4_level0_row8\" class=\"row_heading level0 row8\" >50</th>\n",
       "      <td id=\"T_667e4_row8_col0\" class=\"data row8 col0\" >byes</td>\n",
       "      <td id=\"T_667e4_row8_col1\" class=\"data row8 col1\" >runs_extras</td>\n",
       "      <td id=\"T_667e4_row8_col2\" class=\"data row8 col2\" >0.383612</td>\n",
       "    </tr>\n",
       "    <tr>\n",
       "      <th id=\"T_667e4_level0_row9\" class=\"row_heading level0 row9\" >70</th>\n",
       "      <td id=\"T_667e4_row9_col0\" class=\"data row9 col0\" >runs_extras</td>\n",
       "      <td id=\"T_667e4_row9_col1\" class=\"data row9 col1\" >byes</td>\n",
       "      <td id=\"T_667e4_row9_col2\" class=\"data row9 col2\" >0.383612</td>\n",
       "    </tr>\n",
       "    <tr>\n",
       "      <th id=\"T_667e4_level0_row10\" class=\"row_heading level0 row10\" >28</th>\n",
       "      <td id=\"T_667e4_row10_col0\" class=\"data row10 col0\" >noballs</td>\n",
       "      <td id=\"T_667e4_row10_col1\" class=\"data row10 col1\" >runs_extras</td>\n",
       "      <td id=\"T_667e4_row10_col2\" class=\"data row10 col2\" >0.205879</td>\n",
       "    </tr>\n",
       "    <tr>\n",
       "      <th id=\"T_667e4_level0_row11\" class=\"row_heading level0 row11\" >68</th>\n",
       "      <td id=\"T_667e4_row11_col0\" class=\"data row11 col0\" >runs_extras</td>\n",
       "      <td id=\"T_667e4_row11_col1\" class=\"data row11 col1\" >noballs</td>\n",
       "      <td id=\"T_667e4_row11_col2\" class=\"data row11 col2\" >0.205879</td>\n",
       "    </tr>\n",
       "    <tr>\n",
       "      <th id=\"T_667e4_level0_row12\" class=\"row_heading level0 row12\" >86</th>\n",
       "      <td id=\"T_667e4_row12_col0\" class=\"data row12 col0\" >runs_total</td>\n",
       "      <td id=\"T_667e4_row12_col1\" class=\"data row12 col1\" >runs_cumulative</td>\n",
       "      <td id=\"T_667e4_row12_col2\" class=\"data row12 col2\" >0.168309</td>\n",
       "    </tr>\n",
       "    <tr>\n",
       "      <th id=\"T_667e4_level0_row13\" class=\"row_heading level0 row13\" >106</th>\n",
       "      <td id=\"T_667e4_row13_col0\" class=\"data row13 col0\" >runs_cumulative</td>\n",
       "      <td id=\"T_667e4_row13_col1\" class=\"data row13 col1\" >runs_total</td>\n",
       "      <td id=\"T_667e4_row13_col2\" class=\"data row13 col2\" >0.168309</td>\n",
       "    </tr>\n",
       "    <tr>\n",
       "      <th id=\"T_667e4_level0_row14\" class=\"row_heading level0 row14\" >64</th>\n",
       "      <td id=\"T_667e4_row14_col0\" class=\"data row14 col0\" >runs_batter</td>\n",
       "      <td id=\"T_667e4_row14_col1\" class=\"data row14 col1\" >runs_cumulative</td>\n",
       "      <td id=\"T_667e4_row14_col2\" class=\"data row14 col2\" >0.166852</td>\n",
       "    </tr>\n",
       "  </tbody>\n",
       "</table>\n"
      ],
      "text/plain": [
       "<pandas.io.formats.style.Styler at 0x22df365eee0>"
      ]
     },
     "execution_count": 35,
     "metadata": {},
     "output_type": "execute_result"
    }
   ],
   "source": [
    "corr_table = corr_[corr_[\"row\"] != corr_[\"column\"]]\n",
    "(corr_table.sort_values(\"corr\", ascending = False).head(15)).style.set_caption(\"Table 5: Correlation Coefficients for top 15 most correlated variables\")"
   ]
  },
  {
   "cell_type": "markdown",
   "id": "298eada2-e857-4427-9465-97261f90ddb4",
   "metadata": {},
   "source": [
    "Among the quantitative attributes, 5 pairs of relationship are above the threshold of weak correlation(**|r| > 0.3**), and they are: \n",
    "\n",
    "1. **batter_total & run_total(r = 0.97)**\n",
    "2. **over & runs_cumulative(r = 0.87)**\n",
    "3. **wides & runs_extras(r = 0.76)**\n",
    "5. **legbyes & runs_extras(r = 0.46)**\n",
    "8. **byes & runs_extra(r = 0.38)**\n",
    "\n",
    "Note that, using Pearson's r might not be able to capture non-linear relationships that potentially exist among these relationships."
   ]
  },
  {
   "cell_type": "code",
   "execution_count": 37,
   "id": "3fcb9c8a",
   "metadata": {},
   "outputs": [
    {
     "data": {
      "text/html": [
       "<style type=\"text/css\">\n",
       "</style>\n",
       "<table id=\"T_a3245\">\n",
       "  <caption>Table 6: Wicket Count based off of Powerplay</caption>\n",
       "  <thead>\n",
       "    <tr>\n",
       "      <th class=\"blank\" >&nbsp;</th>\n",
       "      <th class=\"blank level0\" >&nbsp;</th>\n",
       "      <th id=\"T_a3245_level0_col0\" class=\"col_heading level0 col0\" >count</th>\n",
       "    </tr>\n",
       "    <tr>\n",
       "      <th class=\"index_name level0\" >powerplay</th>\n",
       "      <th class=\"index_name level1\" >wicket</th>\n",
       "      <th class=\"blank col0\" >&nbsp;</th>\n",
       "    </tr>\n",
       "  </thead>\n",
       "  <tbody>\n",
       "    <tr>\n",
       "      <th id=\"T_a3245_level0_row0\" class=\"row_heading level0 row0\" rowspan=\"2\">0</th>\n",
       "      <th id=\"T_a3245_level1_row0\" class=\"row_heading level1 row0\" >0</th>\n",
       "      <td id=\"T_a3245_row0_col0\" class=\"data row0 col0\" >320694</td>\n",
       "    </tr>\n",
       "    <tr>\n",
       "      <th id=\"T_a3245_level1_row1\" class=\"row_heading level1 row1\" >1</th>\n",
       "      <td id=\"T_a3245_row1_col0\" class=\"data row1 col0\" >20714</td>\n",
       "    </tr>\n",
       "    <tr>\n",
       "      <th id=\"T_a3245_level0_row2\" class=\"row_heading level0 row2\" rowspan=\"2\">1</th>\n",
       "      <th id=\"T_a3245_level1_row2\" class=\"row_heading level1 row2\" >0</th>\n",
       "      <td id=\"T_a3245_row2_col0\" class=\"data row2 col0\" >161854</td>\n",
       "    </tr>\n",
       "    <tr>\n",
       "      <th id=\"T_a3245_level1_row3\" class=\"row_heading level1 row3\" >1</th>\n",
       "      <td id=\"T_a3245_row3_col0\" class=\"data row3 col0\" >7390</td>\n",
       "    </tr>\n",
       "  </tbody>\n",
       "</table>\n"
      ],
      "text/plain": [
       "<pandas.io.formats.style.Styler at 0x22df18c7a60>"
      ]
     },
     "execution_count": 37,
     "metadata": {},
     "output_type": "execute_result"
    }
   ],
   "source": [
    "pd.DataFrame(train_data.groupby('powerplay')['wicket'].value_counts()).style.set_caption(\"Table 6: Wicket Count based off of Powerplay\")"
   ]
  },
  {
   "cell_type": "markdown",
   "id": "31d7e974",
   "metadata": {},
   "source": [
    "We can see that there is a much higher proportion of wickets during the powerplay (approximately 31% are wickets compared to only around 6% in non-powerplay conditions). This could be attributed to players taking more risks since there are more fielding restrictions in the powerplay (Bhattacharjee et al, 2016, pp. 39 - 47) While most of the game is in the powerplay, and there is a class imbalance, this suggests that the powerplay does affect the chances of a wicket."
   ]
  },
  {
   "cell_type": "code",
   "execution_count": 15,
   "id": "f67caf50",
   "metadata": {},
   "outputs": [
    {
     "data": {
      "text/plain": [
       "<Axes: title={'center': 'Figure ... : Wicket count across overs'}, xlabel='Over', ylabel='Wicket Count'>"
      ]
     },
     "execution_count": 15,
     "metadata": {},
     "output_type": "execute_result"
    },
    {
     "data": {
      "image/png": "[encoded data removed]",
      "text/plain": [
       "<Figure size 640x480 with 1 Axes>"
      ]
     },
     "metadata": {},
     "output_type": "display_data"
    }
   ],
   "source": [
    "train_data.groupby('over')['wicket'].count().plot(kind = 'bar', xlabel=\"Over\", ylabel=\"Wicket Count\",\n",
    "                                                   title = \"Figure 3.a : Wicket count across overs\")"
   ]
  },
  {
   "cell_type": "markdown",
   "id": "b979e787",
   "metadata": {},
   "source": [
    "Similarly, the distribution above shows us that towards the end of the game, there are significantly less wickets than in the first few overs, which suggests that the variable \"Over\" could be used for our model as well."
   ]
  },
  {
   "cell_type": "code",
   "execution_count": 16,
   "id": "2f62057d",
   "metadata": {},
   "outputs": [
    {
     "data": {
      "text/plain": [
       "<Axes: title={'center': 'Figure ...: Wicket count across innings'}, xlabel='inning', ylabel='Wicket Count'>"
      ]
     },
     "execution_count": 16,
     "metadata": {},
     "output_type": "execute_result"
    },
    {
     "data": {
      "image/png": "[encoded data removed]",
      "text/plain": [
       "<Figure size 640x480 with 1 Axes>"
      ]
     },
     "metadata": {},
     "output_type": "display_data"
    }
   ],
   "source": [
    "train_data.groupby('inning')['wicket'].count().plot(kind = 'bar', xlabel ='inning', ylabel = 'Wicket Count', \n",
    "                                                    title = \"Figure 3.b: Wicket count across innings\")"
   ]
  },
  {
   "cell_type": "markdown",
   "id": "c7bb2cdf",
   "metadata": {},
   "source": [
    "The above plot indicates that there are significantly more wickets in the first innings than the second. This could be attributed to the fact that in the second innings, batters are more likely to come in with a plan as they have a target in mind to chase and they are less likely to take risks. It is also possible that the number of wickets in the second innings is lower since the teams may not play the full second innings if they reach the target before that. So, this is a variable we will take into consideration when building our model."
   ]
  },
  {
   "cell_type": "code",
   "execution_count": 17,
   "id": "a554914c",
   "metadata": {},
   "outputs": [
    {
     "data": {
      "image/png": "[encoded data removed]",
      "text/plain": [
       "<Figure size 640x480 with 1 Axes>"
      ]
     },
     "metadata": {},
     "output_type": "display_data"
    }
   ],
   "source": [
    "train_data_0 = train_data[train_data['wicket'] == 0]\n",
    "train_data_1 = train_data[train_data['wicket'] == 1]\n",
    "\n",
    "plt.hist(train_data_0['runs_cumulative'],  \n",
    "         label=\"Not a Wicket\",\n",
    "         alpha = 0.5, \n",
    "         density = True) \n",
    "  \n",
    "plt.hist(train_data_1['runs_cumulative'],  \n",
    "         label=\"Wicket\",\n",
    "         alpha = 0.5,\n",
    "         density=True) \n",
    "  \n",
    "plt.legend(loc='upper right') \n",
    "plt.xlabel(\"Runs scored until Current Ball in Current Innings\")\n",
    "plt.ylabel(\"Probability Density\")\n",
    "plt.title('Figure 4: Wicket Probability Density by Cumulative runs scored in current innings') \n",
    "plt.show()"
   ]
  },
  {
   "cell_type": "markdown",
   "id": "8f00055e",
   "metadata": {},
   "source": [
    "There does not seem to be too much of a relationship between the runs scored so far and whether there is a wicket or not, except when the runs are greater than 100. At this point, it is more likely to be a wicket."
   ]
  },
  {
   "cell_type": "markdown",
   "id": "6d349837",
   "metadata": {},
   "source": [
    "### Model Building\n",
    "\n",
    "Next, we will use the relationships we found above to build our model. The variables we will be looking at are `inning`, `over`, `powerplay`, `over_ball` and `runs_cumulative`. We will perform preprocessing on our datasets using one-hot encoding on our categorical variables. While there is only one numerical variable, we will still create a scaler in case we look to add other variables later in our analysis. \n",
    "\n",
    "We are going to create a Logistic Regression Model for this analysis. We decided against K-NN classification as there is class imbalance and even if we balance our classes by oversampling, our accuracy will decrease using a nearest neighbours methodology. We will be using a pipeline to fit our data."
   ]
  },
  {
   "cell_type": "code",
   "execution_count": 18,
   "id": "8b61d175",
   "metadata": {},
   "outputs": [],
   "source": [
    "ohe = OneHotEncoder(drop = \"if_binary\", handle_unknown=\"ignore\")\n",
    "scaler = StandardScaler()\n",
    "\n",
    "model = LogisticRegression(C = 10, class_weight=\"balanced\", n_jobs=-1)\n",
    "\n",
    "\n",
    "numerical_feats = ['runs_cumulative']\n",
    "categorical_feats = ['inning', 'over', 'powerplay', 'over_ball',]\n",
    "drop_feats = ['game_id', 'season', 'team','batter', 'batter_id', 'bowler',\n",
    "       'bowler_id', 'non_striker', 'non_striker_id', 'wides', 'noballs',\n",
    "       'legbyes', 'byes', 'player_out', 'player_out_id', 'fielders_name',\n",
    "       'fielders_id', 'wicket_type', 'runs_batter', 'runs_extras', \n",
    "       'runs_total', 'team_over']\n",
    "\n",
    "\n",
    "ct = make_column_transformer(\n",
    "    (scaler, numerical_feats), \n",
    "    (ohe, categorical_feats),\n",
    "    (\"drop\", drop_feats)\n",
    ")\n"
   ]
  },
  {
   "cell_type": "code",
   "execution_count": 19,
   "id": "1d4aeff3",
   "metadata": {},
   "outputs": [],
   "source": [
    "pipe = make_pipeline(\n",
    "    ct, \n",
    "    model\n",
    ")"
   ]
  },
  {
   "cell_type": "code",
   "execution_count": 20,
   "id": "94d5ef97",
   "metadata": {},
   "outputs": [
    {
     "data": {
      "text/html": [
       "<style>#sk-container-id-1 {color: black;background-color: white;}#sk-container-id-1 pre{padding: 0;}#sk-container-id-1 div.sk-toggleable {background-color: white;}#sk-container-id-1 label.sk-toggleable__label {cursor: pointer;display: block;width: 100%;margin-bottom: 0;padding: 0.3em;box-sizing: border-box;text-align: center;}#sk-container-id-1 label.sk-toggleable__label-arrow:before {content: \"▸\";float: left;margin-right: 0.25em;color: #696969;}#sk-container-id-1 label.sk-toggleable__label-arrow:hover:before {color: black;}#sk-container-id-1 div.sk-estimator:hover label.sk-toggleable__label-arrow:before {color: black;}#sk-container-id-1 div.sk-toggleable__content {max-height: 0;max-width: 0;overflow: hidden;text-align: left;background-color: #f0f8ff;}#sk-container-id-1 div.sk-toggleable__content pre {margin: 0.2em;color: black;border-radius: 0.25em;background-color: #f0f8ff;}#sk-container-id-1 input.sk-toggleable__control:checked~div.sk-toggleable__content {max-height: 200px;max-width: 100%;overflow: auto;}#sk-container-id-1 input.sk-toggleable__control:checked~label.sk-toggleable__label-arrow:before {content: \"▾\";}#sk-container-id-1 div.sk-estimator input.sk-toggleable__control:checked~label.sk-toggleable__label {background-color: #d4ebff;}#sk-container-id-1 div.sk-label input.sk-toggleable__control:checked~label.sk-toggleable__label {background-color: #d4ebff;}#sk-container-id-1 input.sk-hidden--visually {border: 0;clip: rect(1px 1px 1px 1px);clip: rect(1px, 1px, 1px, 1px);height: 1px;margin: -1px;overflow: hidden;padding: 0;position: absolute;width: 1px;}#sk-container-id-1 div.sk-estimator {font-family: monospace;background-color: #f0f8ff;border: 1px dotted black;border-radius: 0.25em;box-sizing: border-box;margin-bottom: 0.5em;}#sk-container-id-1 div.sk-estimator:hover {background-color: #d4ebff;}#sk-container-id-1 div.sk-parallel-item::after {content: \"\";width: 100%;border-bottom: 1px solid gray;flex-grow: 1;}#sk-container-id-1 div.sk-label:hover label.sk-toggleable__label {background-color: #d4ebff;}#sk-container-id-1 div.sk-serial::before {content: \"\";position: absolute;border-left: 1px solid gray;box-sizing: border-box;top: 0;bottom: 0;left: 50%;z-index: 0;}#sk-container-id-1 div.sk-serial {display: flex;flex-direction: column;align-items: center;background-color: white;padding-right: 0.2em;padding-left: 0.2em;position: relative;}#sk-container-id-1 div.sk-item {position: relative;z-index: 1;}#sk-container-id-1 div.sk-parallel {display: flex;align-items: stretch;justify-content: center;background-color: white;position: relative;}#sk-container-id-1 div.sk-item::before, #sk-container-id-1 div.sk-parallel-item::before {content: \"\";position: absolute;border-left: 1px solid gray;box-sizing: border-box;top: 0;bottom: 0;left: 50%;z-index: -1;}#sk-container-id-1 div.sk-parallel-item {display: flex;flex-direction: column;z-index: 1;position: relative;background-color: white;}#sk-container-id-1 div.sk-parallel-item:first-child::after {align-self: flex-end;width: 50%;}#sk-container-id-1 div.sk-parallel-item:last-child::after {align-self: flex-start;width: 50%;}#sk-container-id-1 div.sk-parallel-item:only-child::after {width: 0;}#sk-container-id-1 div.sk-dashed-wrapped {border: 1px dashed gray;margin: 0 0.4em 0.5em 0.4em;box-sizing: border-box;padding-bottom: 0.4em;background-color: white;}#sk-container-id-1 div.sk-label label {font-family: monospace;font-weight: bold;display: inline-block;line-height: 1.2em;}#sk-container-id-1 div.sk-label-container {text-align: center;}#sk-container-id-1 div.sk-container {/* jupyter's `normalize.less` sets `[hidden] { display: none; }` but bootstrap.min.css set `[hidden] { display: none !important; }` so we also need the `!important` here to be able to override the default hidden behavior on the sphinx rendered scikit-learn.org. See: https://github.com/scikit-learn/scikit-learn/issues/21755 */display: inline-block !important;position: relative;}#sk-container-id-1 div.sk-text-repr-fallback {display: none;}</style><div id=\"sk-container-id-1\" class=\"sk-top-container\"><div class=\"sk-text-repr-fallback\"><pre>Pipeline(steps=[(&#x27;columntransformer&#x27;,\n",
       "                 ColumnTransformer(transformers=[(&#x27;standardscaler&#x27;,\n",
       "                                                  StandardScaler(),\n",
       "                                                  [&#x27;runs_cumulative&#x27;]),\n",
       "                                                 (&#x27;onehotencoder&#x27;,\n",
       "                                                  OneHotEncoder(drop=&#x27;if_binary&#x27;,\n",
       "                                                                handle_unknown=&#x27;ignore&#x27;),\n",
       "                                                  [&#x27;inning&#x27;, &#x27;over&#x27;,\n",
       "                                                   &#x27;powerplay&#x27;, &#x27;over_ball&#x27;]),\n",
       "                                                 (&#x27;drop&#x27;, &#x27;drop&#x27;,\n",
       "                                                  [&#x27;game_id&#x27;, &#x27;season&#x27;, &#x27;team&#x27;,\n",
       "                                                   &#x27;batter&#x27;, &#x27;batter_id&#x27;,\n",
       "                                                   &#x27;bowler&#x27;, &#x27;bowler_id&#x27;,\n",
       "                                                   &#x27;non_striker&#x27;,\n",
       "                                                   &#x27;non_striker_id&#x27;, &#x27;wides&#x27;,\n",
       "                                                   &#x27;noballs&#x27;, &#x27;legbyes&#x27;, &#x27;byes&#x27;,\n",
       "                                                   &#x27;player_out&#x27;,\n",
       "                                                   &#x27;player_out_id&#x27;,\n",
       "                                                   &#x27;fielders_name&#x27;,\n",
       "                                                   &#x27;fielders_id&#x27;, &#x27;wicket_type&#x27;,\n",
       "                                                   &#x27;runs_batter&#x27;, &#x27;runs_extras&#x27;,\n",
       "                                                   &#x27;runs_total&#x27;,\n",
       "                                                   &#x27;team_over&#x27;])])),\n",
       "                (&#x27;logisticregression&#x27;,\n",
       "                 LogisticRegression(C=10, class_weight=&#x27;balanced&#x27;, n_jobs=-1))])</pre><b>In a Jupyter environment, please rerun this cell to show the HTML representation or trust the notebook. <br />On GitHub, the HTML representation is unable to render, please try loading this page with nbviewer.org.</b></div><div class=\"sk-container\" hidden><div class=\"sk-item sk-dashed-wrapped\"><div class=\"sk-label-container\"><div class=\"sk-label sk-toggleable\"><input class=\"sk-toggleable__control sk-hidden--visually\" id=\"sk-estimator-id-1\" type=\"checkbox\" ><label for=\"sk-estimator-id-1\" class=\"sk-toggleable__label sk-toggleable__label-arrow\">Pipeline</label><div class=\"sk-toggleable__content\"><pre>Pipeline(steps=[(&#x27;columntransformer&#x27;,\n",
       "                 ColumnTransformer(transformers=[(&#x27;standardscaler&#x27;,\n",
       "                                                  StandardScaler(),\n",
       "                                                  [&#x27;runs_cumulative&#x27;]),\n",
       "                                                 (&#x27;onehotencoder&#x27;,\n",
       "                                                  OneHotEncoder(drop=&#x27;if_binary&#x27;,\n",
       "                                                                handle_unknown=&#x27;ignore&#x27;),\n",
       "                                                  [&#x27;inning&#x27;, &#x27;over&#x27;,\n",
       "                                                   &#x27;powerplay&#x27;, &#x27;over_ball&#x27;]),\n",
       "                                                 (&#x27;drop&#x27;, &#x27;drop&#x27;,\n",
       "                                                  [&#x27;game_id&#x27;, &#x27;season&#x27;, &#x27;team&#x27;,\n",
       "                                                   &#x27;batter&#x27;, &#x27;batter_id&#x27;,\n",
       "                                                   &#x27;bowler&#x27;, &#x27;bowler_id&#x27;,\n",
       "                                                   &#x27;non_striker&#x27;,\n",
       "                                                   &#x27;non_striker_id&#x27;, &#x27;wides&#x27;,\n",
       "                                                   &#x27;noballs&#x27;, &#x27;legbyes&#x27;, &#x27;byes&#x27;,\n",
       "                                                   &#x27;player_out&#x27;,\n",
       "                                                   &#x27;player_out_id&#x27;,\n",
       "                                                   &#x27;fielders_name&#x27;,\n",
       "                                                   &#x27;fielders_id&#x27;, &#x27;wicket_type&#x27;,\n",
       "                                                   &#x27;runs_batter&#x27;, &#x27;runs_extras&#x27;,\n",
       "                                                   &#x27;runs_total&#x27;,\n",
       "                                                   &#x27;team_over&#x27;])])),\n",
       "                (&#x27;logisticregression&#x27;,\n",
       "                 LogisticRegression(C=10, class_weight=&#x27;balanced&#x27;, n_jobs=-1))])</pre></div></div></div><div class=\"sk-serial\"><div class=\"sk-item sk-dashed-wrapped\"><div class=\"sk-label-container\"><div class=\"sk-label sk-toggleable\"><input class=\"sk-toggleable__control sk-hidden--visually\" id=\"sk-estimator-id-2\" type=\"checkbox\" ><label for=\"sk-estimator-id-2\" class=\"sk-toggleable__label sk-toggleable__label-arrow\">columntransformer: ColumnTransformer</label><div class=\"sk-toggleable__content\"><pre>ColumnTransformer(transformers=[(&#x27;standardscaler&#x27;, StandardScaler(),\n",
       "                                 [&#x27;runs_cumulative&#x27;]),\n",
       "                                (&#x27;onehotencoder&#x27;,\n",
       "                                 OneHotEncoder(drop=&#x27;if_binary&#x27;,\n",
       "                                               handle_unknown=&#x27;ignore&#x27;),\n",
       "                                 [&#x27;inning&#x27;, &#x27;over&#x27;, &#x27;powerplay&#x27;, &#x27;over_ball&#x27;]),\n",
       "                                (&#x27;drop&#x27;, &#x27;drop&#x27;,\n",
       "                                 [&#x27;game_id&#x27;, &#x27;season&#x27;, &#x27;team&#x27;, &#x27;batter&#x27;,\n",
       "                                  &#x27;batter_id&#x27;, &#x27;bowler&#x27;, &#x27;bowler_id&#x27;,\n",
       "                                  &#x27;non_striker&#x27;, &#x27;non_striker_id&#x27;, &#x27;wides&#x27;,\n",
       "                                  &#x27;noballs&#x27;, &#x27;legbyes&#x27;, &#x27;byes&#x27;, &#x27;player_out&#x27;,\n",
       "                                  &#x27;player_out_id&#x27;, &#x27;fielders_name&#x27;,\n",
       "                                  &#x27;fielders_id&#x27;, &#x27;wicket_type&#x27;, &#x27;runs_batter&#x27;,\n",
       "                                  &#x27;runs_extras&#x27;, &#x27;runs_total&#x27;, &#x27;team_over&#x27;])])</pre></div></div></div><div class=\"sk-parallel\"><div class=\"sk-parallel-item\"><div class=\"sk-item\"><div class=\"sk-label-container\"><div class=\"sk-label sk-toggleable\"><input class=\"sk-toggleable__control sk-hidden--visually\" id=\"sk-estimator-id-3\" type=\"checkbox\" ><label for=\"sk-estimator-id-3\" class=\"sk-toggleable__label sk-toggleable__label-arrow\">standardscaler</label><div class=\"sk-toggleable__content\"><pre>[&#x27;runs_cumulative&#x27;]</pre></div></div></div><div class=\"sk-serial\"><div class=\"sk-item\"><div class=\"sk-estimator sk-toggleable\"><input class=\"sk-toggleable__control sk-hidden--visually\" id=\"sk-estimator-id-4\" type=\"checkbox\" ><label for=\"sk-estimator-id-4\" class=\"sk-toggleable__label sk-toggleable__label-arrow\">StandardScaler</label><div class=\"sk-toggleable__content\"><pre>StandardScaler()</pre></div></div></div></div></div></div><div class=\"sk-parallel-item\"><div class=\"sk-item\"><div class=\"sk-label-container\"><div class=\"sk-label sk-toggleable\"><input class=\"sk-toggleable__control sk-hidden--visually\" id=\"sk-estimator-id-5\" type=\"checkbox\" ><label for=\"sk-estimator-id-5\" class=\"sk-toggleable__label sk-toggleable__label-arrow\">onehotencoder</label><div class=\"sk-toggleable__content\"><pre>[&#x27;inning&#x27;, &#x27;over&#x27;, &#x27;powerplay&#x27;, &#x27;over_ball&#x27;]</pre></div></div></div><div class=\"sk-serial\"><div class=\"sk-item\"><div class=\"sk-estimator sk-toggleable\"><input class=\"sk-toggleable__control sk-hidden--visually\" id=\"sk-estimator-id-6\" type=\"checkbox\" ><label for=\"sk-estimator-id-6\" class=\"sk-toggleable__label sk-toggleable__label-arrow\">OneHotEncoder</label><div class=\"sk-toggleable__content\"><pre>OneHotEncoder(drop=&#x27;if_binary&#x27;, handle_unknown=&#x27;ignore&#x27;)</pre></div></div></div></div></div></div><div class=\"sk-parallel-item\"><div class=\"sk-item\"><div class=\"sk-label-container\"><div class=\"sk-label sk-toggleable\"><input class=\"sk-toggleable__control sk-hidden--visually\" id=\"sk-estimator-id-7\" type=\"checkbox\" ><label for=\"sk-estimator-id-7\" class=\"sk-toggleable__label sk-toggleable__label-arrow\">drop</label><div class=\"sk-toggleable__content\"><pre>[&#x27;game_id&#x27;, &#x27;season&#x27;, &#x27;team&#x27;, &#x27;batter&#x27;, &#x27;batter_id&#x27;, &#x27;bowler&#x27;, &#x27;bowler_id&#x27;, &#x27;non_striker&#x27;, &#x27;non_striker_id&#x27;, &#x27;wides&#x27;, &#x27;noballs&#x27;, &#x27;legbyes&#x27;, &#x27;byes&#x27;, &#x27;player_out&#x27;, &#x27;player_out_id&#x27;, &#x27;fielders_name&#x27;, &#x27;fielders_id&#x27;, &#x27;wicket_type&#x27;, &#x27;runs_batter&#x27;, &#x27;runs_extras&#x27;, &#x27;runs_total&#x27;, &#x27;team_over&#x27;]</pre></div></div></div><div class=\"sk-serial\"><div class=\"sk-item\"><div class=\"sk-estimator sk-toggleable\"><input class=\"sk-toggleable__control sk-hidden--visually\" id=\"sk-estimator-id-8\" type=\"checkbox\" ><label for=\"sk-estimator-id-8\" class=\"sk-toggleable__label sk-toggleable__label-arrow\">drop</label><div class=\"sk-toggleable__content\"><pre>drop</pre></div></div></div></div></div></div></div></div><div class=\"sk-item\"><div class=\"sk-estimator sk-toggleable\"><input class=\"sk-toggleable__control sk-hidden--visually\" id=\"sk-estimator-id-9\" type=\"checkbox\" ><label for=\"sk-estimator-id-9\" class=\"sk-toggleable__label sk-toggleable__label-arrow\">LogisticRegression</label><div class=\"sk-toggleable__content\"><pre>LogisticRegression(C=10, class_weight=&#x27;balanced&#x27;, n_jobs=-1)</pre></div></div></div></div></div></div></div>"
      ],
      "text/plain": [
       "Pipeline(steps=[('columntransformer',\n",
       "                 ColumnTransformer(transformers=[('standardscaler',\n",
       "                                                  StandardScaler(),\n",
       "                                                  ['runs_cumulative']),\n",
       "                                                 ('onehotencoder',\n",
       "                                                  OneHotEncoder(drop='if_binary',\n",
       "                                                                handle_unknown='ignore'),\n",
       "                                                  ['inning', 'over',\n",
       "                                                   'powerplay', 'over_ball']),\n",
       "                                                 ('drop', 'drop',\n",
       "                                                  ['game_id', 'season', 'team',\n",
       "                                                   'batter', 'batter_id',\n",
       "                                                   'bowler', 'bowler_id',\n",
       "                                                   'non_striker',\n",
       "                                                   'non_striker_id', 'wides',\n",
       "                                                   'noballs', 'legbyes', 'byes',\n",
       "                                                   'player_out',\n",
       "                                                   'player_out_id',\n",
       "                                                   'fielders_name',\n",
       "                                                   'fielders_id', 'wicket_type',\n",
       "                                                   'runs_batter', 'runs_extras',\n",
       "                                                   'runs_total',\n",
       "                                                   'team_over'])])),\n",
       "                ('logisticregression',\n",
       "                 LogisticRegression(C=10, class_weight='balanced', n_jobs=-1))])"
      ]
     },
     "execution_count": 20,
     "metadata": {},
     "output_type": "execute_result"
    }
   ],
   "source": [
    "pipe.fit(X_train, y_train)"
   ]
  },
  {
   "cell_type": "markdown",
   "id": "3300c317",
   "metadata": {},
   "source": [
    "#### Hyperparameter Optimization\n",
    "\n",
    "The hyperparameter we are looking at in Logistic Regression is $C$. We will be testing for 5 different values of $C$ and looking at which gives us ideal cross-validation and training scores."
   ]
  },
  {
   "cell_type": "code",
   "execution_count": 21,
   "id": "ed825e24",
   "metadata": {},
   "outputs": [],
   "source": [
    "C = [10 ** x for x in [0.5, 1, 2, 3, 4]]\n",
    "train_score = []\n",
    "cv_score = []\n",
    "for c in C:\n",
    "    model_new = LogisticRegression(C = c,  class_weight=\"balanced\", n_jobs=-1)\n",
    "    pipe_new = make_pipeline(ct, model_new)\n",
    "    train_score.append(cross_validate(pipe_new, X_train, y_train, n_jobs =-1, return_train_score=True)['train_score'].mean())\n",
    "    cv_score.append(cross_validate(pipe_new, X_train, y_train, n_jobs =-1, return_train_score=True)['test_score'].mean())\n",
    "\n",
    "results = pd.DataFrame({\"C\": C, \"Training Accuracy\": train_score, \"Cross Validation Accuracy\": cv_score})"
   ]
  },
  {
   "cell_type": "code",
   "execution_count": 38,
   "id": "eb37c8ad",
   "metadata": {},
   "outputs": [
    {
     "data": {
      "text/html": [
       "<style type=\"text/css\">\n",
       "</style>\n",
       "<table id=\"T_f116d\">\n",
       "  <caption>Table 7: Cross Validation and Training Accuracy after Hyperparameter Optimization</caption>\n",
       "  <thead>\n",
       "    <tr>\n",
       "      <th class=\"blank level0\" >&nbsp;</th>\n",
       "      <th id=\"T_f116d_level0_col0\" class=\"col_heading level0 col0\" >C</th>\n",
       "      <th id=\"T_f116d_level0_col1\" class=\"col_heading level0 col1\" >Training Accuracy</th>\n",
       "      <th id=\"T_f116d_level0_col2\" class=\"col_heading level0 col2\" >Cross Validation Accuracy</th>\n",
       "    </tr>\n",
       "  </thead>\n",
       "  <tbody>\n",
       "    <tr>\n",
       "      <th id=\"T_f116d_level0_row0\" class=\"row_heading level0 row0\" >0</th>\n",
       "      <td id=\"T_f116d_row0_col0\" class=\"data row0 col0\" >3.162278</td>\n",
       "      <td id=\"T_f116d_row0_col1\" class=\"data row0 col1\" >0.703150</td>\n",
       "      <td id=\"T_f116d_row0_col2\" class=\"data row0 col2\" >0.703179</td>\n",
       "    </tr>\n",
       "    <tr>\n",
       "      <th id=\"T_f116d_level0_row1\" class=\"row_heading level0 row1\" >1</th>\n",
       "      <td id=\"T_f116d_row1_col0\" class=\"data row1 col0\" >10.000000</td>\n",
       "      <td id=\"T_f116d_row1_col1\" class=\"data row1 col1\" >0.703024</td>\n",
       "      <td id=\"T_f116d_row1_col2\" class=\"data row1 col2\" >0.702956</td>\n",
       "    </tr>\n",
       "    <tr>\n",
       "      <th id=\"T_f116d_level0_row2\" class=\"row_heading level0 row2\" >2</th>\n",
       "      <td id=\"T_f116d_row2_col0\" class=\"data row2 col0\" >100.000000</td>\n",
       "      <td id=\"T_f116d_row2_col1\" class=\"data row2 col1\" >0.702836</td>\n",
       "      <td id=\"T_f116d_row2_col2\" class=\"data row2 col2\" >0.702888</td>\n",
       "    </tr>\n",
       "    <tr>\n",
       "      <th id=\"T_f116d_level0_row3\" class=\"row_heading level0 row3\" >3</th>\n",
       "      <td id=\"T_f116d_row3_col0\" class=\"data row3 col0\" >1000.000000</td>\n",
       "      <td id=\"T_f116d_row3_col1\" class=\"data row3 col1\" >0.703179</td>\n",
       "      <td id=\"T_f116d_row3_col2\" class=\"data row3 col2\" >0.703129</td>\n",
       "    </tr>\n",
       "    <tr>\n",
       "      <th id=\"T_f116d_level0_row4\" class=\"row_heading level0 row4\" >4</th>\n",
       "      <td id=\"T_f116d_row4_col0\" class=\"data row4 col0\" >10000.000000</td>\n",
       "      <td id=\"T_f116d_row4_col1\" class=\"data row4 col1\" >0.703050</td>\n",
       "      <td id=\"T_f116d_row4_col2\" class=\"data row4 col2\" >0.703015</td>\n",
       "    </tr>\n",
       "  </tbody>\n",
       "</table>\n"
      ],
      "text/plain": [
       "<pandas.io.formats.style.Styler at 0x22db2a196d0>"
      ]
     },
     "execution_count": 38,
     "metadata": {},
     "output_type": "execute_result"
    }
   ],
   "source": [
    "results.style.set_caption(\"Table 7: Cross Validation and Training Accuracy after Hyperparameter Optimization\")"
   ]
  },
  {
   "cell_type": "markdown",
   "id": "7ad3e3db",
   "metadata": {},
   "source": [
    "We are choosing a $C$ of $\\sqrt{10}$ as it overfits the least."
   ]
  },
  {
   "cell_type": "code",
   "execution_count": 23,
   "id": "050d31bc",
   "metadata": {},
   "outputs": [
    {
     "data": {
      "text/plain": [
       "0.7025099268452052"
      ]
     },
     "execution_count": 23,
     "metadata": {},
     "output_type": "execute_result"
    }
   ],
   "source": [
    "final_model = LogisticRegression(C = 10**0.5, class_weight=\"balanced\", n_jobs=-1)\n",
    "\n",
    "final_pipe = make_pipeline(\n",
    "    ct,\n",
    "    final_model\n",
    ")\n",
    "\n",
    "final_pipe.fit(X_train, y_train)\n",
    "\n",
    "final_pipe.score(X_test, y_test)"
   ]
  },
  {
   "cell_type": "code",
   "execution_count": 53,
   "id": "4f94926d",
   "metadata": {},
   "outputs": [
    {
     "data": {
      "image/png": "[encoded data removed]",
      "text/plain": [
       "<Figure size 640x480 with 2 Axes>"
      ]
     },
     "metadata": {},
     "output_type": "display_data"
    }
   ],
   "source": [
    "conf_mat = metrics.confusion_matrix(y_test, final_pipe.predict(X_test))\n",
    "plot_cm = metrics.ConfusionMatrixDisplay(conf_mat)\n",
    "plot_cm.plot()\n",
    "plt.title(\"Figure 5: Confusion Matrix\")\n",
    "plt.show()"
   ]
  },
  {
   "cell_type": "markdown",
   "id": "761009eb",
   "metadata": {},
   "source": [
    "# Discussion\n",
    "\n",
    "Marshall et al. (2024) also discuss how pitch conditions could affect the possibility of a wicket. Having this data would help improve our model significantly."
   ]
  },
  {
   "cell_type": "markdown",
   "id": "29c23cb4",
   "metadata": {},
   "source": [
    "# References\n",
    "\n",
    "Bhattacharjee, D., Pandey, M., Saikia, H., & Radhakrishnan, U. K. (2016). Impact of Power Play Overs on the Outcome of Twenty20 Cricket Match. Annals of Applied Sports Science, 4(1), 39–47. https://doi.org/10.7508/aass.2016.01.007 \n",
    "\n",
    "Dinsdale, D. (2023, December 5). Explaining next ball probability in cricket. The Analyst. https://theanalyst.com/na/2022/10/opta-next-ball-predictor/ \n",
    "\n",
    "Marshall, T., Runswick, O. R., & Broadbent, D. P. (2024). “what we talk about is creating a probability”: Exploring the interaction between the anticipation and decision-making processes of professional bowlers and batters in twenty20 cricket. Psychology of Sport and Exercise, 70, 102543. https://doi.org/10.1016/j.psychsport.2023.102543 \n"
   ]
  },
  {
   "cell_type": "markdown",
   "id": "576a5917",
   "metadata": {},
   "source": []
  }
 ],
 "metadata": {
  "kernelspec": {
   "display_name": "Python 3",
   "language": "python",
   "name": "python3"
  },
  "language_info": {
   "codemirror_mode": {
    "name": "ipython",
    "version": 3
   },
   "file_extension": ".py",
   "mimetype": "text/x-python",
   "name": "python",
   "nbconvert_exporter": "python",
   "pygments_lexer": "ipython3",
   "version": "3.9.18"
  }
 },
 "nbformat": 4,
 "nbformat_minor": 5
}
